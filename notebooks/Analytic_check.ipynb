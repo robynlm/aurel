{
 "cells": [
  {
   "cell_type": "code",
   "execution_count": 1,
   "metadata": {},
   "outputs": [],
   "source": [
    "import sympy as sp\n",
    "import numpy as np\n",
    "import scipy.special as sc\n",
    "import matplotlib.pyplot as plt\n",
    "\n",
    "import aurel\n",
    "from aurel.solutions import Collins_Stewart as sol\n",
    "#from aurel.solutions import Conformally_flat as sol\n",
    "#from aurel.solutions import Harvey_Tsoubelis as sol\n",
    "#from aurel.solutions import Non_diagonal as sol\n",
    "#from aurel.solutions import Rosquist_Jantzen as sol\n",
    "#from aurel.solutions import Schwarzschild as sol #too long for analytics\n",
    "#from aurel.solutions import Szekeres as sol #too long for analytics"
   ]
  },
  {
   "cell_type": "code",
   "execution_count": 2,
   "metadata": {},
   "outputs": [],
   "source": [
    "#Analytical setup\n",
    "t, x, y, z = sp.symbols('t x y z')\n",
    "\n",
    "# Spacetime\n",
    "g = sol.gdown4(t, x, y, z, analytical=True)\n",
    "an4 = aurel.AurelCoreAnalytic([t, x, y, z], g)\n",
    "\n",
    "# Space\n",
    "gamma = sol.gammadown3(t, x, y, z, analytical=True)\n",
    "an3 = aurel.AurelCoreAnalytic([x, y, z], gamma)"
   ]
  },
  {
   "cell_type": "code",
   "execution_count": 3,
   "metadata": {},
   "outputs": [
    {
     "name": "stdout",
     "output_type": "stream",
     "text": [
      "8th order finite difference schemes are defined\n"
     ]
    },
    {
     "data": {
      "text/latex": [
       "Setting Cosmological constant $\\Lambda$ to 0.0, if not then redefine AurelCore.Lambda"
      ],
      "text/plain": [
       "<IPython.core.display.Latex object>"
      ]
     },
     "metadata": {},
     "output_type": "display_data"
    }
   ],
   "source": [
    "# Numerical setup\n",
    "\n",
    "L = 20\n",
    "N = 64\n",
    "grid = {\n",
    "    'Nx': N,  # Number of data points per side\n",
    "    'Ny': N,\n",
    "    'Nz': N,\n",
    "    'xmin': - L / 2 + 0.01,  # Minimum x coordinate\n",
    "    'ymin': - L / 2 + 0.01,  # Minimum y coordinate\n",
    "    'zmin': - L / 2 + 0.01,  # Minimum z coordinate\n",
    "    'dx': L / N,  # Elementary grid size\n",
    "    'dy': L / N,\n",
    "    'dz': L / N,\n",
    "}\n",
    "fd = aurel.FiniteDifference(grid, boundary='other', fd_order=8)\n",
    "rel = aurel.AurelCore(fd)\n",
    "\n",
    "nt = 1\n",
    "nx, ny, nz = fd.cartesian_coords\n",
    "\n",
    "rel.data = sol.data(nt, nx, ny, nz)\n",
    "rel.freeze_data()"
   ]
  },
  {
   "cell_type": "code",
   "execution_count": 4,
   "metadata": {},
   "outputs": [],
   "source": [
    "err_max = 1e-4\n",
    "\n",
    "custom_funcs = {\n",
    "    \"hyper\": lambda a, b, z: sc.hyp2f1(a[0], a[1], b[0], z),\n",
    "    \"exp_polar\": np.exp}\n",
    "def compare_values(theory, numerical):\n",
    "    f_num = sp.lambdify((t, x, y, z), theory, modules=[custom_funcs, \"numpy\"])\n",
    "    s1 = np.real(f_num(nt, fd.cutoffmask(nx), fd.cutoffmask(ny), fd.cutoffmask(nz)))\n",
    "    s2 = fd.cutoffmask(numerical)\n",
    "    if theory != 0:\n",
    "        rel_err = np.abs(aurel.maths.safe_division(s2 - s1, s1))\n",
    "        error = np.max(np.ma.masked_invalid(rel_err))\n",
    "    else:\n",
    "        error = np.max(np.abs(s2))\n",
    "    return error\n",
    "\n",
    "def checks(var, theory, numerical):\n",
    "    error = compare_values(theory, numerical)\n",
    "    if error > err_max:\n",
    "        print(var, \n",
    "              f\", max(abs(num_val)) = \", np.max(abs(fd.cutoffmask(numerical))), \n",
    "              \", relative error =\", error)\n",
    "\n",
    "def check1d(dim, var, theory, numerical):\n",
    "    for i in range(dim):\n",
    "        checks(var+f\"{i}\", theory[i], numerical[i])\n",
    "\n",
    "def check2d(dim, var, theory, numerical):\n",
    "    for i in range(dim):\n",
    "        for j in range(dim):\n",
    "            checks(var+f\"{i}{j}\", theory[i, j], numerical[i, j])\n",
    "\n",
    "def check3d(dim, var, theory, numerical):\n",
    "    for i in range(dim):\n",
    "        for j in range(dim):\n",
    "            for k in range(dim):\n",
    "                checks(var+f\"{i}{j}{k}\", theory[i, j, k], numerical[i, j, k])\n",
    "def check4d(dim, var, theory, numerical):\n",
    "    for i in range(dim):\n",
    "        for j in range(dim):\n",
    "            for k in range(dim):\n",
    "                for l in range(dim):\n",
    "                    checks(var+f\"{i}{j}{k}{l}\", theory[i, j, k, l], numerical[i, j, k, l])\n",
    "\n",
    "def plot_them(analytical, numerical, cutoff=True):\n",
    "    f_num = sp.lambdify((t, x, y, z), analytical, modules=[custom_funcs, \"numpy\"])\n",
    "    A = np.real(f_num(nt, nx, ny, nz))\n",
    "    if isinstance(A, int) or isinstance(A, float):\n",
    "        A = np.full_like(numerical, A)\n",
    "\n",
    "    rel_error = np.abs(aurel.maths.safe_division(numerical - A, A))\n",
    "    ix, iy, iz = np.where(rel_error == np.max(rel_error))\n",
    "    if len(ix) > 1:\n",
    "        ix = ix[0]\n",
    "        iy = iy[0]\n",
    "        iz = iz[0]\n",
    "    print(\"max {:.2e} error at\".format(np.max(rel_error)), ix, iy, iz)\n",
    "    if iy < 2*fd.mask_len or iz < 2*fd.mask_len:\n",
    "        cutoff = False\n",
    "        print('Max relative difference in boundary region')\n",
    "\n",
    "    if cutoff:\n",
    "        xv = fd.cutoffmask(fd.xarray)\n",
    "        nv = fd.cutoffmask(numerical[:,iy,iz])\n",
    "        av = fd.cutoffmask(A[:,iy,iz])\n",
    "        rv = fd.cutoffmask(rel_error[:,iy,iz])\n",
    "    else:\n",
    "        xv = fd.xarray\n",
    "        nv = numerical[:,iy,iz]\n",
    "        av = A[:,iy,iz]\n",
    "        rv = rel_error[:,iy,iz]\n",
    "\n",
    "    plt.figure()\n",
    "    plt.subplot(211)\n",
    "    plt.plot(xv, nv, \n",
    "             label=\"numerical\")\n",
    "    plt.plot(xv, av, \n",
    "             linestyle='--',\n",
    "             label=\"analytical\")\n",
    "    plt.grid()\n",
    "    plt.legend()\n",
    "    plt.subplot(212)\n",
    "    plt.semilogy(xv, rv)\n",
    "    plt.grid()\n",
    "    plt.ylabel(\"relative difference\")\n",
    "    plt.xlabel(\"x\")\n",
    "    plt.subplots_adjust(hspace=0.0)"
   ]
  },
  {
   "cell_type": "markdown",
   "metadata": {},
   "source": [
    "# Check Christoffel symbols"
   ]
  },
  {
   "cell_type": "markdown",
   "metadata": {},
   "source": [
    "## 3D"
   ]
  },
  {
   "cell_type": "code",
   "execution_count": 5,
   "metadata": {},
   "outputs": [
    {
     "name": "stdout",
     "output_type": "stream",
     "text": [
      "Calculated analytic gup: Metric tensor in the up index form\n"
     ]
    },
    {
     "data": {
      "text/latex": [
       "Calculated gammaup3: $\\gamma^{ij}$ Spatial metric with spatial indices up"
      ],
      "text/plain": [
       "<IPython.core.display.Latex object>"
      ]
     },
     "metadata": {},
     "output_type": "display_data"
    },
    {
     "name": "stdout",
     "output_type": "stream",
     "text": [
      "Calculated analytic Gamma_udd: Christoffel symbols in the up-down-down index form\n"
     ]
    },
    {
     "data": {
      "text/latex": [
       "Calculated s_Gamma_udd3: ${}^{(3)}{\\Gamma^{k}}_{ij}$ Christoffel symbols of spatial metric with mixed spatial indices"
      ],
      "text/plain": [
       "<IPython.core.display.Latex object>"
      ]
     },
     "metadata": {},
     "output_type": "display_data"
    }
   ],
   "source": [
    "check2d(3, \"gamma^\", an3[\"gup\"], rel[\"gammaup3\"])\n",
    "\n",
    "check3d(3, \"Γudd\", an3[\"Gamma_udd\"], rel[\"s_Gamma_udd3\"])"
   ]
  },
  {
   "cell_type": "markdown",
   "metadata": {},
   "source": [
    "## 4D"
   ]
  },
  {
   "cell_type": "code",
   "execution_count": 6,
   "metadata": {},
   "outputs": [
    {
     "name": "stdout",
     "output_type": "stream",
     "text": [
      "Calculated analytic gup: Metric tensor in the up index form\n"
     ]
    },
    {
     "data": {
      "text/latex": [
       "I assume $\\alpha = 1$, if not then please define AurelCore.data['alpha'] = ... "
      ],
      "text/plain": [
       "<IPython.core.display.Latex object>"
      ]
     },
     "metadata": {},
     "output_type": "display_data"
    },
    {
     "data": {
      "text/latex": [
       "Calculated alpha: $\\alpha$ Lapse (need to input or I assume =1)"
      ],
      "text/plain": [
       "<IPython.core.display.Latex object>"
      ]
     },
     "metadata": {},
     "output_type": "display_data"
    },
    {
     "data": {
      "text/latex": [
       "I assume $\\beta^i=0$, if not then please define AurelCore.data['betaup3'] = ... "
      ],
      "text/plain": [
       "<IPython.core.display.Latex object>"
      ]
     },
     "metadata": {},
     "output_type": "display_data"
    },
    {
     "data": {
      "text/latex": [
       "Calculated betaup3: $\\beta^{i}$ Shift vector with spatial indices up (need to input or I assume =0)"
      ],
      "text/plain": [
       "<IPython.core.display.Latex object>"
      ]
     },
     "metadata": {},
     "output_type": "display_data"
    },
    {
     "data": {
      "text/latex": [
       "Calculated betadown3: $\\beta_{i}$ Shift vector with spatial indices down"
      ],
      "text/plain": [
       "<IPython.core.display.Latex object>"
      ]
     },
     "metadata": {},
     "output_type": "display_data"
    },
    {
     "data": {
      "text/latex": [
       "Calculated gdown4: $g_{\\mu\\nu}$ Spacetime metric with spacetime indices down"
      ],
      "text/plain": [
       "<IPython.core.display.Latex object>"
      ]
     },
     "metadata": {},
     "output_type": "display_data"
    },
    {
     "data": {
      "text/latex": [
       "Calculated gup4: $g^{\\mu\\nu}$ Spacetime metric with spacetime indices up"
      ],
      "text/plain": [
       "<IPython.core.display.Latex object>"
      ]
     },
     "metadata": {},
     "output_type": "display_data"
    },
    {
     "name": "stdout",
     "output_type": "stream",
     "text": [
      "Calculated analytic Gamma_udd: Christoffel symbols in the up-down-down index form\n"
     ]
    },
    {
     "data": {
      "text/latex": [
       "I assume $\\partial_t \\alpha = 0$, if not then please define AurelCore.data['dtalpha'] = ... "
      ],
      "text/plain": [
       "<IPython.core.display.Latex object>"
      ]
     },
     "metadata": {},
     "output_type": "display_data"
    },
    {
     "data": {
      "text/latex": [
       "Calculated dtalpha: $\\partial_t \\alpha$ Coordinate time derivative of the lapse (need to input or I assume =0)"
      ],
      "text/plain": [
       "<IPython.core.display.Latex object>"
      ]
     },
     "metadata": {},
     "output_type": "display_data"
    },
    {
     "data": {
      "text/latex": [
       "I assume $\\partial_t \\beta^i=0$, if not then please define AurelCore.data['dtbetaup3'] = ... "
      ],
      "text/plain": [
       "<IPython.core.display.Latex object>"
      ]
     },
     "metadata": {},
     "output_type": "display_data"
    },
    {
     "data": {
      "text/latex": [
       "Calculated dtbetaup3: $\\partial_t\\beta^{i}$ Coordinate time derivative of the shift vector with spatial indices up (need to input or I assume =0)"
      ],
      "text/plain": [
       "<IPython.core.display.Latex object>"
      ]
     },
     "metadata": {},
     "output_type": "display_data"
    },
    {
     "data": {
      "text/latex": [
       "Calculated st_Gamma_udd4: ${}^{(4)}{\\Gamma^{\\alpha}}_{\\mu\\nu}$ Christoffel symbols of spacetime metric with mixed spacetime indices"
      ],
      "text/plain": [
       "<IPython.core.display.Latex object>"
      ]
     },
     "metadata": {},
     "output_type": "display_data"
    }
   ],
   "source": [
    "check2d(4, \"g^\", an4[\"gup\"], rel[\"gup4\"])\n",
    "check3d(4, \"Γudd\", an4[\"Gamma_udd\"], rel[\"st_Gamma_udd4\"])"
   ]
  },
  {
   "cell_type": "markdown",
   "metadata": {},
   "source": [
    "# Check Riemann and Ricci"
   ]
  },
  {
   "cell_type": "markdown",
   "metadata": {},
   "source": [
    "## 3D"
   ]
  },
  {
   "cell_type": "code",
   "execution_count": 7,
   "metadata": {},
   "outputs": [
    {
     "name": "stdout",
     "output_type": "stream",
     "text": [
      "0 1 0 1,  0 1 0 2,  0 1 1 2,  0 2 0 1,  0 2 0 2,  0 2 1 2,  1 0 0 1,  1 0 0 2,  1 0 1 2,  1 2 0 1,  1 2 0 2,  1 2 1 2,  2 0 0 1,  2 0 0 2,  2 0 1 2,  2 1 0 1,  2 1 0 2,  2 1 1 2,  \n",
      "Calculated analytic Riemann_uddd: Riemann curvature tensor in the up-down-down-down index form\n"
     ]
    },
    {
     "data": {
      "text/latex": [
       "Calculated s_Riemann_uddd3: ${}^{(3)}{R^{i}}_{jkl}$ Riemann tensor of spatial metric with mixed spatial indices"
      ],
      "text/plain": [
       "<IPython.core.display.Latex object>"
      ]
     },
     "metadata": {},
     "output_type": "display_data"
    },
    {
     "name": "stdout",
     "output_type": "stream",
     "text": [
      "Ruddd0001 , max(abs(num_val)) =  0.17739989130651662 , relative error = 0.17739989130651662\n",
      "Ruddd0010 , max(abs(num_val)) =  0.17739989130651662 , relative error = 0.17739989130651662\n",
      "Ruddd1101 , max(abs(num_val)) =  0.17739989130651657 , relative error = 0.17739989130651657\n",
      "Ruddd1110 , max(abs(num_val)) =  0.17739989130651657 , relative error = 0.17739989130651657\n"
     ]
    }
   ],
   "source": [
    "# Compute 3-Riemann tensor: R^i_{jkl}\n",
    "check4d(3, \"Ruddd\", an3[\"Riemann_uddd\"], rel[\"s_Riemann_uddd3\"])"
   ]
  },
  {
   "cell_type": "code",
   "execution_count": 8,
   "metadata": {},
   "outputs": [
    {
     "name": "stdout",
     "output_type": "stream",
     "text": [
      "0 1 0 1,  0 1 0 2,  0 1 1 2,  0 2 0 2,  0 2 1 2,  1 2 1 2,  \n",
      "Calculated analytic Riemann_down: Riemann curvature tensor in the down index form\n"
     ]
    },
    {
     "data": {
      "text/latex": [
       "Calculated s_Riemann_down3: ${}^{(3)}R_{ijkl}$ Riemann tensor of spatial metric with all spatial indices down"
      ],
      "text/plain": [
       "<IPython.core.display.Latex object>"
      ]
     },
     "metadata": {},
     "output_type": "display_data"
    },
    {
     "name": "stdout",
     "output_type": "stream",
     "text": [
      "R_0101 , max(abs(num_val)) =  0.04687500000013062 , relative error = 0.934737243986512\n",
      "R_0110 , max(abs(num_val)) =  0.04687500000013073 , relative error = 0.934737243986512\n",
      "R_1001 , max(abs(num_val)) =  0.0468750000001306 , relative error = 0.9347372439865126\n",
      "R_1010 , max(abs(num_val)) =  0.0468750000001306 , relative error = 0.9347372439865126\n"
     ]
    }
   ],
   "source": [
    "# Lower the first index: R_{lijk} = γ_{lm} R^m_{ijk}\n",
    "check4d(3, \"R_\", an3[\"Riemann_down\"], rel[\"s_Riemann_down3\"])"
   ]
  },
  {
   "cell_type": "code",
   "execution_count": 9,
   "metadata": {},
   "outputs": [
    {
     "name": "stdout",
     "output_type": "stream",
     "text": [
      "Calculated analytic Ricci_down: Ricci curvature tensor in the down index form\n"
     ]
    },
    {
     "data": {
      "text/latex": [
       "Calculated s_Ricci_down3: ${}^{(3)}R_{ij}$ Ricci tensor of spatial metric with spatial indices down"
      ],
      "text/plain": [
       "<IPython.core.display.Latex object>"
      ]
     },
     "metadata": {},
     "output_type": "display_data"
    },
    {
     "name": "stdout",
     "output_type": "stream",
     "text": [
      "R_01 , max(abs(num_val)) =  0.35479978261290374 , relative error = 1.0000000000027542\n",
      "R_10 , max(abs(num_val)) =  0.3547997826129038 , relative error = 1.0000000000027556\n"
     ]
    }
   ],
   "source": [
    "check2d(3, \"R_\", an3[\"Ricci_down\"], rel[\"s_Ricci_down3\"])"
   ]
  },
  {
   "cell_type": "code",
   "execution_count": 10,
   "metadata": {},
   "outputs": [
    {
     "name": "stdout",
     "output_type": "stream",
     "text": [
      "Calculated analytic RicciS: Ricci scalar\n"
     ]
    },
    {
     "data": {
      "text/latex": [
       "Calculated s_RicciS: ${}^{(3)}R$ Ricci scalar of spatial metric"
      ],
      "text/plain": [
       "<IPython.core.display.Latex object>"
      ]
     },
     "metadata": {},
     "output_type": "display_data"
    },
    {
     "name": "stdout",
     "output_type": "stream",
     "text": [
      "R , max(abs(num_val)) =  0.09375000000076733 , relative error = 9.575147577012999\n"
     ]
    }
   ],
   "source": [
    "checks(\"R\", an3[\"RicciS\"], rel[\"s_RicciS\"])"
   ]
  },
  {
   "cell_type": "code",
   "execution_count": 11,
   "metadata": {},
   "outputs": [
    {
     "name": "stdout",
     "output_type": "stream",
     "text": [
      "max 9.58e+00 error at [1] [1] [39]\n",
      "Max relative difference in boundary region\n"
     ]
    },
    {
     "data": {
      "image/png": "[encoded data removed]",
      "text/plain": [
       "<Figure size 640x480 with 2 Axes>"
      ]
     },
     "metadata": {},
     "output_type": "display_data"
    }
   ],
   "source": [
    "plot_them(an3[\"RicciS\"], rel[\"s_RicciS\"])"
   ]
  },
  {
   "cell_type": "markdown",
   "metadata": {},
   "source": [
    "## 4D"
   ]
  },
  {
   "cell_type": "code",
   "execution_count": 12,
   "metadata": {},
   "outputs": [
    {
     "name": "stdout",
     "output_type": "stream",
     "text": [
      "0 1 0 1,  0 1 0 2,  0 1 0 3,  0 1 1 2,  0 1 1 3,  0 1 2 3,  0 2 0 1,  0 2 0 2,  0 2 0 3,  0 2 1 2,  0 2 1 3,  0 2 2 3,  0 3 0 1,  0 3 0 2,  0 3 0 3,  0 3 1 2,  0 3 1 3,  0 3 2 3,  1 0 0 1,  1 0 0 2,  1 0 0 3,  1 0 1 2,  1 0 1 3,  1 0 2 3,  1 2 0 1,  1 2 0 2,  1 2 0 3,  1 2 1 2,  1 2 1 3,  1 2 2 3,  1 3 0 1,  1 3 0 2,  1 3 0 3,  1 3 1 2,  1 3 1 3,  1 3 2 3,  2 0 0 1,  2 0 0 2,  2 0 0 3,  2 0 1 2,  2 0 1 3,  2 0 2 3,  2 1 0 1,  2 1 0 2,  2 1 0 3,  2 1 1 2,  2 1 1 3,  2 1 2 3,  2 3 0 1,  2 3 0 2,  2 3 0 3,  2 3 1 2,  2 3 1 3,  2 3 2 3,  3 0 0 1,  3 0 0 2,  3 0 0 3,  3 0 1 2,  3 0 1 3,  3 0 2 3,  3 1 0 1,  3 1 0 2,  3 1 0 3,  3 1 1 2,  3 1 1 3,  3 1 2 3,  3 2 0 1,  3 2 0 2,  3 2 0 3,  3 2 1 2,  3 2 1 3,  3 2 2 3,  \n",
      "Calculated analytic Riemann_uddd: Riemann curvature tensor in the up-down-down-down index form\n"
     ]
    },
    {
     "data": {
      "text/latex": [
       "I assume $W = 1$, if not then please define AurelCore.data['w_lorentz'] = ... "
      ],
      "text/plain": [
       "<IPython.core.display.Latex object>"
      ]
     },
     "metadata": {},
     "output_type": "display_data"
    },
    {
     "data": {
      "text/latex": [
       "Calculated w_lorentz: $W$ Lorentz factor (need to input or I assume =1)"
      ],
      "text/plain": [
       "<IPython.core.display.Latex object>"
      ]
     },
     "metadata": {},
     "output_type": "display_data"
    },
    {
     "data": {
      "text/latex": [
       "Calculated uup0: $u^t$ Lagrangian fluid four velocity with time indice up"
      ],
      "text/plain": [
       "<IPython.core.display.Latex object>"
      ]
     },
     "metadata": {},
     "output_type": "display_data"
    },
    {
     "data": {
      "text/latex": [
       "I assume $v^i=0$, if not then please define AurelCore.data['velup3'] = ... "
      ],
      "text/plain": [
       "<IPython.core.display.Latex object>"
      ]
     },
     "metadata": {},
     "output_type": "display_data"
    },
    {
     "data": {
      "text/latex": [
       "Calculated velup3: $v^i$ Eulerian fluid three velocity with spatial indices up (need to input or I assume =0)"
      ],
      "text/plain": [
       "<IPython.core.display.Latex object>"
      ]
     },
     "metadata": {},
     "output_type": "display_data"
    },
    {
     "data": {
      "text/latex": [
       "Calculated uup3: $u^i$ Lagrangian fluid four velocity with spatial indices up"
      ],
      "text/plain": [
       "<IPython.core.display.Latex object>"
      ]
     },
     "metadata": {},
     "output_type": "display_data"
    },
    {
     "data": {
      "text/latex": [
       "Calculated uup4: $u^\\mu$ Lagrangian fluid four velocity with spacetime indices up"
      ],
      "text/plain": [
       "<IPython.core.display.Latex object>"
      ]
     },
     "metadata": {},
     "output_type": "display_data"
    },
    {
     "data": {
      "text/latex": [
       "Calculated udown4: $u_\\mu$ Lagrangian fluid four velocity with spacetime indices down"
      ],
      "text/plain": [
       "<IPython.core.display.Latex object>"
      ]
     },
     "metadata": {},
     "output_type": "display_data"
    },
    {
     "name": "stdout",
     "output_type": "stream",
     "text": [
      "Cleaning up cache after 20 calculations...\n",
      "data size before cleanup: 698.00 MB\n",
      "Removing cached value for 'gammaup3' used 7 calculations ago (size: 18.00 MB).\n",
      "Removing cached value for 'betadown3' used 15 calculations ago (size: 6.00 MB).\n",
      "Removing cached value for 'gup4' used 13 calculations ago (size: 32.00 MB).\n",
      "Removing cached value for 'dtbetaup3' used 11 calculations ago (size: 6.00 MB).\n",
      "Removing cached value for 'st_Gamma_udd4' used 10 calculations ago (size: 128.00 MB).\n",
      "Removing cached value for 's_Riemann_uddd3' used 9 calculations ago (size: 162.00 MB).\n",
      "Removing cached value for 's_Riemann_down3' used 6 calculations ago (size: 162.00 MB).\n",
      "Removing cached value for 's_Ricci_down3' used 6 calculations ago (size: 18.00 MB).\n",
      "Removed 8 items\n",
      "data size after cleanup: 166.00 MB\n"
     ]
    },
    {
     "data": {
      "text/latex": [
       "Calculated hdown4: $h_{\\mu\\nu}$ Spatial metric orthonomal to fluid flow with spacetime indices down"
      ],
      "text/plain": [
       "<IPython.core.display.Latex object>"
      ]
     },
     "metadata": {},
     "output_type": "display_data"
    },
    {
     "data": {
      "text/latex": [
       "Calculated Tdown4: $T_{\\mu\\nu}$ Energy-stress tensor with spacetime indices down"
      ],
      "text/plain": [
       "<IPython.core.display.Latex object>"
      ]
     },
     "metadata": {},
     "output_type": "display_data"
    },
    {
     "data": {
      "text/latex": [
       "Calculated gup4: $g^{\\mu\\nu}$ Spacetime metric with spacetime indices up"
      ],
      "text/plain": [
       "<IPython.core.display.Latex object>"
      ]
     },
     "metadata": {},
     "output_type": "display_data"
    },
    {
     "data": {
      "text/latex": [
       "Calculated st_Ricci_down3: ${}^{(4)}R_{ij}$ Ricci tensor of spacetime metric with spatial indices down"
      ],
      "text/plain": [
       "<IPython.core.display.Latex object>"
      ]
     },
     "metadata": {},
     "output_type": "display_data"
    },
    {
     "data": {
      "text/latex": [
       "Calculated gammaup3: $\\gamma^{ij}$ Spatial metric with spatial indices up"
      ],
      "text/plain": [
       "<IPython.core.display.Latex object>"
      ]
     },
     "metadata": {},
     "output_type": "display_data"
    },
    {
     "data": {
      "text/latex": [
       "Calculated st_Riemann_down4: ${}^{(4)}R_{\\alpha\\beta\\mu\\nu}$ Riemann tensor of spacetime metric with spacetime indices down"
      ],
      "text/plain": [
       "<IPython.core.display.Latex object>"
      ]
     },
     "metadata": {},
     "output_type": "display_data"
    },
    {
     "data": {
      "text/latex": [
       "Calculated st_Riemann_uddd4: ${}^{(4)}{R^{\\alpha}}_{\\beta\\mu\\nu}$ Riemann tensor of spacetime metric with mixed spacetime indices"
      ],
      "text/plain": [
       "<IPython.core.display.Latex object>"
      ]
     },
     "metadata": {},
     "output_type": "display_data"
    },
    {
     "name": "stdout",
     "output_type": "stream",
     "text": [
      "Ruddd1103 , max(abs(num_val)) =  0.30726562499999954 , relative error = 0.30726562499999954\n",
      "Ruddd1112 , max(abs(num_val)) =  0.768732862328079 , relative error = 0.768732862328079\n",
      "Ruddd1121 , max(abs(num_val)) =  0.7687328623280786 , relative error = 0.7687328623280786\n",
      "Ruddd1130 , max(abs(num_val)) =  0.30726562499999954 , relative error = 0.30726562499999954\n",
      "Ruddd2203 , max(abs(num_val)) =  0.30726562499999954 , relative error = 0.30726562499999954\n",
      "Ruddd2212 , max(abs(num_val)) =  0.7687328623280781 , relative error = 0.7687328623280781\n",
      "Ruddd2221 , max(abs(num_val)) =  0.7687328623280786 , relative error = 0.7687328623280786\n",
      "Ruddd2230 , max(abs(num_val)) =  0.30726562499999954 , relative error = 0.30726562499999954\n"
     ]
    }
   ],
   "source": [
    "check4d(4, \"Ruddd\", an4[\"Riemann_uddd\"], rel[\"st_Riemann_uddd4\"])"
   ]
  },
  {
   "cell_type": "code",
   "execution_count": 13,
   "metadata": {},
   "outputs": [
    {
     "name": "stdout",
     "output_type": "stream",
     "text": [
      "0 1 0 1,  0 1 0 2,  0 1 0 3,  0 1 1 2,  0 1 1 3,  0 1 2 3,  0 2 0 2,  0 2 0 3,  0 2 1 2,  0 2 1 3,  0 2 2 3,  0 3 0 3,  0 3 1 2,  0 3 1 3,  0 3 2 3,  1 2 1 2,  1 2 1 3,  1 2 2 3,  1 3 1 3,  1 3 2 3,  2 3 2 3,  \n",
      "Calculated analytic Riemann_down: Riemann curvature tensor in the down index form\n",
      "R_1212 , max(abs(num_val)) =  0.20312500000013056 , relative error = 0.9347372439864604\n",
      "R_1221 , max(abs(num_val)) =  0.20312500000013067 , relative error = 0.9347372439864604\n",
      "R_2112 , max(abs(num_val)) =  0.20312500000013045 , relative error = 0.9347372439864605\n",
      "R_2121 , max(abs(num_val)) =  0.20312500000013045 , relative error = 0.9347372439864605\n"
     ]
    }
   ],
   "source": [
    "check4d(4, \"R_\", an4[\"Riemann_down\"], rel[\"st_Riemann_down4\"])"
   ]
  },
  {
   "cell_type": "code",
   "execution_count": 14,
   "metadata": {},
   "outputs": [
    {
     "name": "stdout",
     "output_type": "stream",
     "text": [
      "max 9.49e-01 error at [0] [1] [0]\n",
      "Max relative difference in boundary region\n"
     ]
    },
    {
     "data": {
      "image/png": "[encoded data removed]",
      "text/plain": [
       "<Figure size 640x480 with 2 Axes>"
      ]
     },
     "metadata": {},
     "output_type": "display_data"
    }
   ],
   "source": [
    "plot_them(an4[\"Riemann_down\"][2,1,2,1], rel[\"st_Riemann_down4\"][2,1,2,1])"
   ]
  },
  {
   "cell_type": "code",
   "execution_count": 15,
   "metadata": {},
   "outputs": [
    {
     "name": "stdout",
     "output_type": "stream",
     "text": [
      "Calculated analytic Ricci_down: Ricci curvature tensor in the down index form\n"
     ]
    },
    {
     "data": {
      "text/latex": [
       "Calculated st_Ricci_down4: ${}^{(4)}R_{\\alpha\\beta}$ Ricci tensor of spacetime metric with spacetime indices down"
      ],
      "text/plain": [
       "<IPython.core.display.Latex object>"
      ]
     },
     "metadata": {},
     "output_type": "display_data"
    },
    {
     "name": "stdout",
     "output_type": "stream",
     "text": [
      "R_03 , max(abs(num_val)) =  0.0 , relative error = 1.0\n",
      "R_12 , max(abs(num_val)) =  0.8278661594301852 , relative error = 13.000000000000187\n",
      "R_21 , max(abs(num_val)) =  0.8278661594301852 , relative error = 13.000000000000187\n",
      "R_30 , max(abs(num_val)) =  0.0 , relative error = 1.0\n"
     ]
    }
   ],
   "source": [
    "check2d(4, \"R_\", an4[\"Ricci_down\"], rel[\"st_Ricci_down4\"])"
   ]
  },
  {
   "cell_type": "code",
   "execution_count": 16,
   "metadata": {},
   "outputs": [
    {
     "name": "stdout",
     "output_type": "stream",
     "text": [
      "Calculated analytic RicciS: Ricci scalar\n"
     ]
    },
    {
     "data": {
      "text/latex": [
       "Calculated st_RicciS: ${}^{(4)}R$ Ricci scalar of spacetime metric"
      ],
      "text/plain": [
       "<IPython.core.display.Latex object>"
      ]
     },
     "metadata": {},
     "output_type": "display_data"
    },
    {
     "name": "stdout",
     "output_type": "stream",
     "text": [
      "R , max(abs(num_val)) =  1.609823385706477e-15 , relative error = 1.000000000000021\n"
     ]
    }
   ],
   "source": [
    "checks(\"R\", an4[\"RicciS\"], rel[\"st_RicciS\"])"
   ]
  },
  {
   "cell_type": "code",
   "execution_count": null,
   "metadata": {},
   "outputs": [],
   "source": []
  }
 ],
 "metadata": {
  "kernelspec": {
   "display_name": "Python 3",
   "language": "python",
   "name": "python3"
  },
  "language_info": {
   "codemirror_mode": {
    "name": "ipython",
    "version": 3
   },
   "file_extension": ".py",
   "mimetype": "text/x-python",
   "name": "python",
   "nbconvert_exporter": "python",
   "pygments_lexer": "ipython3",
   "version": "3.12.4"
  }
 },
 "nbformat": 4,
 "nbformat_minor": 2
}
