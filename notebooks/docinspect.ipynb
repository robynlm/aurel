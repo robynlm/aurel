{
 "cells": [
  {
   "cell_type": "code",
   "execution_count": 1,
   "metadata": {},
   "outputs": [],
   "source": [
    "import inspect\n",
    "import numpy as np\n",
    "import aurel"
   ]
  },
  {
   "cell_type": "markdown",
   "metadata": {},
   "source": [
    "# Check all docstrings"
   ]
  },
  {
   "cell_type": "code",
   "execution_count": 2,
   "metadata": {},
   "outputs": [
    {
     "name": "stdout",
     "output_type": "stream",
     "text": [
      "Documentation report for class: aurel\n",
      "\n",
      "Documentation report for class: FiniteDifference\n",
      "\n",
      "Documentation report for class: AurelCore\n",
      "\n",
      "Documentation report for class: AurelCoreAnalytic\n",
      "\n"
     ]
    }
   ],
   "source": [
    "def report_docstrings(module):\n",
    "    print(f\"Documentation report for class: {module.__name__}\\n\")\n",
    "    methods = inspect.getmembers(module, predicate=inspect.isfunction)\n",
    "\n",
    "    for name, func in methods:\n",
    "        doc = func.__doc__\n",
    "        if doc and doc.strip():\n",
    "            pass\n",
    "            #print(f\"✅ {name} - has docstring.\")\n",
    "        else:\n",
    "            print(f\"❌ {name} - MISSING docstring.\")\n",
    "\n",
    "# Example usage:\n",
    "report_docstrings(aurel)\n",
    "report_docstrings(aurel.FiniteDifference)\n",
    "report_docstrings(aurel.AurelCore)\n",
    "report_docstrings(aurel.AurelCoreAnalytic)"
   ]
  },
  {
   "cell_type": "markdown",
   "metadata": {},
   "source": [
    "# Check all functions"
   ]
  },
  {
   "cell_type": "code",
   "execution_count": 3,
   "metadata": {},
   "outputs": [
    {
     "name": "stdout",
     "output_type": "stream",
     "text": [
      "4th order finite difference schemes are defined\n"
     ]
    },
    {
     "data": {
      "text/latex": [
       "Setting Cosmological constant $\\Lambda$ to 0.0, if not then redefine AurelCore.Lambda"
      ],
      "text/plain": [
       "<IPython.core.display.Latex object>"
      ]
     },
     "metadata": {},
     "output_type": "display_data"
    },
    {
     "name": "stdout",
     "output_type": "stream",
     "text": [
      "dict_keys(['gxx', 'gxy', 'gxz', 'gyy', 'gyz', 'gzz', 'kxx', 'kxy', 'kxz', 'kyy', 'kyz', 'kzz', 'rho0'])\n"
     ]
    }
   ],
   "source": [
    "L = 3\n",
    "N = 72\n",
    "param = { 'Nx': N, 'Ny': N, 'Nz': N, \n",
    "          'xmin': -L/2, 'ymin': -L/2, 'zmin': -L/2, \n",
    "          'dx': L/N, 'dy': L/N, 'dz': L/N}\n",
    "fd = aurel.FiniteDifference(param)\n",
    "rel = aurel.AurelCore(fd)\n",
    "rel.data[\"gxx\"] = np.ones_like(fd.x)\n",
    "rel.data[\"gxy\"] = np.zeros_like(fd.x)\n",
    "rel.data[\"gxz\"] = np.zeros_like(fd.x)\n",
    "rel.data[\"gyy\"] = np.ones_like(fd.x)\n",
    "rel.data[\"gyz\"] = np.zeros_like(fd.x)\n",
    "rel.data[\"gzz\"] = np.ones_like(fd.x)\n",
    "rel.data[\"kxx\"] = np.zeros_like(fd.x)\n",
    "rel.data[\"kxy\"] = np.zeros_like(fd.x)\n",
    "rel.data[\"kxz\"] = np.zeros_like(fd.x)\n",
    "rel.data[\"kyy\"] = np.zeros_like(fd.x)\n",
    "rel.data[\"kyz\"] = np.zeros_like(fd.x)\n",
    "rel.data[\"kzz\"] = np.zeros_like(fd.x)\n",
    "rel.data[\"rho0\"] = np.zeros_like(fd.x)\n",
    "rel.freeze_data()\n",
    "print(rel.data.keys())"
   ]
  },
  {
   "cell_type": "code",
   "execution_count": 4,
   "metadata": {},
   "outputs": [
    {
     "data": {
      "text/latex": [
       "Calculated gammadown3: $\\gamma_{ij}$ Spatial metric with spatial indices down"
      ],
      "text/plain": [
       "<IPython.core.display.Latex object>"
      ]
     },
     "metadata": {},
     "output_type": "display_data"
    },
    {
     "data": {
      "text/latex": [
       "Calculated gammaup3: $\\gamma^{ij}$ Spatial metric with spatial indices up"
      ],
      "text/plain": [
       "<IPython.core.display.Latex object>"
      ]
     },
     "metadata": {},
     "output_type": "display_data"
    },
    {
     "data": {
      "text/latex": [
       "I assume $\\beta^i=0$, if not then please define AurelCore.data['betaup3'] = ... "
      ],
      "text/plain": [
       "<IPython.core.display.Latex object>"
      ]
     },
     "metadata": {},
     "output_type": "display_data"
    },
    {
     "data": {
      "text/latex": [
       "Calculated betaup3: $\\beta^{i}$ Shift vector with spatial indices up (need to input or I assume =0)"
      ],
      "text/plain": [
       "<IPython.core.display.Latex object>"
      ]
     },
     "metadata": {},
     "output_type": "display_data"
    },
    {
     "data": {
      "text/latex": [
       "I assume $\\alpha = 1$, if not then please define AurelCore.data['alpha'] = ... "
      ],
      "text/plain": [
       "<IPython.core.display.Latex object>"
      ]
     },
     "metadata": {},
     "output_type": "display_data"
    },
    {
     "data": {
      "text/latex": [
       "Calculated alpha: $\\alpha$ Lapse (need to input or I assume =1)"
      ],
      "text/plain": [
       "<IPython.core.display.Latex object>"
      ]
     },
     "metadata": {},
     "output_type": "display_data"
    },
    {
     "data": {
      "text/latex": [
       "Calculated Kdown3: $K_{ij}$ Extrinsic curvature with spatial indices down"
      ],
      "text/plain": [
       "<IPython.core.display.Latex object>"
      ]
     },
     "metadata": {},
     "output_type": "display_data"
    },
    {
     "data": {
      "text/latex": [
       "Calculated Kup3: $K^{ij}$ Extrinsic curvature with spatial indices up"
      ],
      "text/plain": [
       "<IPython.core.display.Latex object>"
      ]
     },
     "metadata": {},
     "output_type": "display_data"
    },
    {
     "data": {
      "text/latex": [
       "Calculated dtgammaup3: $\\partial_t \\gamma^{ij}$ Coordinate time derivative of spatial metric with spatial indices up"
      ],
      "text/plain": [
       "<IPython.core.display.Latex object>"
      ]
     },
     "metadata": {},
     "output_type": "display_data"
    },
    {
     "data": {
      "text/latex": [
       "Calculated gammadet: $\\gamma$ Determinant of spatial metric"
      ],
      "text/plain": [
       "<IPython.core.display.Latex object>"
      ]
     },
     "metadata": {},
     "output_type": "display_data"
    },
    {
     "data": {
      "text/latex": [
       "Calculated betadown3: $\\beta_{i}$ Shift vector with spatial indices down"
      ],
      "text/plain": [
       "<IPython.core.display.Latex object>"
      ]
     },
     "metadata": {},
     "output_type": "display_data"
    },
    {
     "data": {
      "text/latex": [
       "Calculated betamag: $\\beta_{i}\\beta^{i}$ Magnitude of shift vector"
      ],
      "text/plain": [
       "<IPython.core.display.Latex object>"
      ]
     },
     "metadata": {},
     "output_type": "display_data"
    },
    {
     "data": {
      "text/latex": [
       "Calculated gammadown4: $\\gamma_{\\mu\\nu}$ Spatial metric with spacetime indices down"
      ],
      "text/plain": [
       "<IPython.core.display.Latex object>"
      ]
     },
     "metadata": {},
     "output_type": "display_data"
    },
    {
     "data": {
      "text/latex": [
       "Calculated gammaup4: $\\gamma^{\\mu\\nu}$ Spatial metric with spacetime indices up"
      ],
      "text/plain": [
       "<IPython.core.display.Latex object>"
      ]
     },
     "metadata": {},
     "output_type": "display_data"
    },
    {
     "data": {
      "text/latex": [
       "Calculated Ktrace: $K = \\gamma^{ij}K_{ij}$ Trace of extrinsic curvature"
      ],
      "text/plain": [
       "<IPython.core.display.Latex object>"
      ]
     },
     "metadata": {},
     "output_type": "display_data"
    },
    {
     "data": {
      "text/latex": [
       "Calculated Adown3: $A_{ij}$ Traceless part of the extrinsic curvature with spatial indices down"
      ],
      "text/plain": [
       "<IPython.core.display.Latex object>"
      ]
     },
     "metadata": {},
     "output_type": "display_data"
    },
    {
     "data": {
      "text/latex": [
       "Calculated Aup3: $A^{ij}$ Traceless part of the extrinsic curvature with spatial indices up"
      ],
      "text/plain": [
       "<IPython.core.display.Latex object>"
      ]
     },
     "metadata": {},
     "output_type": "display_data"
    },
    {
     "data": {
      "text/latex": [
       "Calculated A2: $A^2$ Magnitude of traceless part of the extrinsic curvature"
      ],
      "text/plain": [
       "<IPython.core.display.Latex object>"
      ]
     },
     "metadata": {},
     "output_type": "display_data"
    },
    {
     "data": {
      "text/latex": [
       "I assume $\\partial_t \\alpha = 0$, if not then please define AurelCore.data['dtalpha'] = ... "
      ],
      "text/plain": [
       "<IPython.core.display.Latex object>"
      ]
     },
     "metadata": {},
     "output_type": "display_data"
    },
    {
     "data": {
      "text/latex": [
       "Calculated dtalpha: $\\partial_t \\alpha$ Coordinate time derivative of the lapse (need to input or I assume =0)"
      ],
      "text/plain": [
       "<IPython.core.display.Latex object>"
      ]
     },
     "metadata": {},
     "output_type": "display_data"
    },
    {
     "data": {
      "text/latex": [
       "I assume $\\partial_t \\beta^i=0$, if not then please define AurelCore.data['dtbetaup3'] = ... "
      ],
      "text/plain": [
       "<IPython.core.display.Latex object>"
      ]
     },
     "metadata": {},
     "output_type": "display_data"
    },
    {
     "data": {
      "text/latex": [
       "Calculated dtbetaup3: $\\partial_t\\beta^{i}$ Coordinate time derivative of the shift vector with spatial indices up (need to input or I assume =0)"
      ],
      "text/plain": [
       "<IPython.core.display.Latex object>"
      ]
     },
     "metadata": {},
     "output_type": "display_data"
    },
    {
     "data": {
      "text/latex": [
       "Calculated nup4: $n^{\\mu}$ Timelike vector normal to the spatial metric with spacetime indices up"
      ],
      "text/plain": [
       "<IPython.core.display.Latex object>"
      ]
     },
     "metadata": {},
     "output_type": "display_data"
    },
    {
     "data": {
      "text/latex": [
       "Calculated ndown4: $n_{\\mu}$ Timelike vector normal to the spatial metric with spacetime indices down"
      ],
      "text/plain": [
       "<IPython.core.display.Latex object>"
      ]
     },
     "metadata": {},
     "output_type": "display_data"
    },
    {
     "name": "stdout",
     "output_type": "stream",
     "text": [
      "Cleaning up cache after 20 calculations...\n",
      "data size before cleanup: 373.05 MB\n",
      "Removing cached value for 'gammadown3' used 7 calculations ago (size: 25.63 MB).\n",
      "Removing cached value for 'gammaup3' used 5 calculations ago (size: 25.63 MB).\n",
      "Removing cached value for 'Kdown3' used 7 calculations ago (size: 25.63 MB).\n",
      "Removing cached value for 'Kup3' used 8 calculations ago (size: 25.63 MB).\n",
      "Removing cached value for 'dtgammaup3' used 13 calculations ago (size: 25.63 MB).\n",
      "Removing cached value for 'gammadown4' used 9 calculations ago (size: 45.56 MB).\n",
      "Removing cached value for 'gammaup4' used 8 calculations ago (size: 45.56 MB).\n",
      "Removing cached value for 'Adown3' used 5 calculations ago (size: 25.63 MB).\n",
      "Removing cached value for 'Aup3' used 5 calculations ago (size: 25.63 MB).\n",
      "Removed 9 items\n",
      "data size after cleanup: 102.52 MB\n"
     ]
    },
    {
     "data": {
      "text/latex": [
       "Calculated gammadown3: $\\gamma_{ij}$ Spatial metric with spatial indices down"
      ],
      "text/plain": [
       "<IPython.core.display.Latex object>"
      ]
     },
     "metadata": {},
     "output_type": "display_data"
    },
    {
     "data": {
      "text/latex": [
       "Calculated gdown4: $g_{\\mu\\nu}$ Spacetime metric with spacetime indices down"
      ],
      "text/plain": [
       "<IPython.core.display.Latex object>"
      ]
     },
     "metadata": {},
     "output_type": "display_data"
    },
    {
     "data": {
      "text/latex": [
       "Calculated gup4: $g^{\\mu\\nu}$ Spacetime metric with spacetime indices up"
      ],
      "text/plain": [
       "<IPython.core.display.Latex object>"
      ]
     },
     "metadata": {},
     "output_type": "display_data"
    },
    {
     "data": {
      "text/latex": [
       "Calculated gdet: $g$ Determinant of spacetime metric"
      ],
      "text/plain": [
       "<IPython.core.display.Latex object>"
      ]
     },
     "metadata": {},
     "output_type": "display_data"
    },
    {
     "data": {
      "text/latex": [
       "Calculated gammaup3: $\\gamma^{ij}$ Spatial metric with spatial indices up"
      ],
      "text/plain": [
       "<IPython.core.display.Latex object>"
      ]
     },
     "metadata": {},
     "output_type": "display_data"
    },
    {
     "data": {
      "text/latex": [
       "Calculated s_Gamma_udd3: ${}^{(3)}{\\Gamma^{k}}_{ij}$ Christoffel symbols of spatial metric with mixed spatial indices"
      ],
      "text/plain": [
       "<IPython.core.display.Latex object>"
      ]
     },
     "metadata": {},
     "output_type": "display_data"
    },
    {
     "data": {
      "text/latex": [
       "Calculated Kdown3: $K_{ij}$ Extrinsic curvature with spatial indices down"
      ],
      "text/plain": [
       "<IPython.core.display.Latex object>"
      ]
     },
     "metadata": {},
     "output_type": "display_data"
    },
    {
     "data": {
      "text/latex": [
       "Calculated null_ray_exp: $\\Theta_{out}, \\; \\Theta_{in}$ List of expansion of null rays radially going out and in respectively"
      ],
      "text/plain": [
       "<IPython.core.display.Latex object>"
      ]
     },
     "metadata": {},
     "output_type": "display_data"
    },
    {
     "data": {
      "text/latex": [
       "I assume $p = 0$, if not then please define AurelCore.data['press'] = ... "
      ],
      "text/plain": [
       "<IPython.core.display.Latex object>"
      ]
     },
     "metadata": {},
     "output_type": "display_data"
    },
    {
     "data": {
      "text/latex": [
       "Calculated press: $p$ Pressure (need to input or I assume =0)"
      ],
      "text/plain": [
       "<IPython.core.display.Latex object>"
      ]
     },
     "metadata": {},
     "output_type": "display_data"
    },
    {
     "data": {
      "text/latex": [
       "I assume $\\epsilon = 0$, if not then please define AurelCore.data['eps'] = ... "
      ],
      "text/plain": [
       "<IPython.core.display.Latex object>"
      ]
     },
     "metadata": {},
     "output_type": "display_data"
    },
    {
     "data": {
      "text/latex": [
       "Calculated eps: $\\epsilon$ Specific internal energy (need to input or I assume =0)"
      ],
      "text/plain": [
       "<IPython.core.display.Latex object>"
      ]
     },
     "metadata": {},
     "output_type": "display_data"
    },
    {
     "data": {
      "text/latex": [
       "Calculated rho: $\\rho$ Energy density"
      ],
      "text/plain": [
       "<IPython.core.display.Latex object>"
      ]
     },
     "metadata": {},
     "output_type": "display_data"
    },
    {
     "data": {
      "text/latex": [
       "Calculated s_Ricci_down3: ${}^{(3)}R_{ij}$ Ricci tensor of spatial metric with spatial indices down"
      ],
      "text/plain": [
       "<IPython.core.display.Latex object>"
      ]
     },
     "metadata": {},
     "output_type": "display_data"
    },
    {
     "data": {
      "text/latex": [
       "Calculated s_RicciS: ${}^{(3)}R$ Ricci scalar of spatial metric"
      ],
      "text/plain": [
       "<IPython.core.display.Latex object>"
      ]
     },
     "metadata": {},
     "output_type": "display_data"
    },
    {
     "data": {
      "text/latex": [
       "Calculated Kup3: $K^{ij}$ Extrinsic curvature with spatial indices up"
      ],
      "text/plain": [
       "<IPython.core.display.Latex object>"
      ]
     },
     "metadata": {},
     "output_type": "display_data"
    },
    {
     "data": {
      "text/latex": [
       "Calculated rho_fromHam: $\\rho$ Energy density computed from the Hamiltonian constraint"
      ],
      "text/plain": [
       "<IPython.core.display.Latex object>"
      ]
     },
     "metadata": {},
     "output_type": "display_data"
    },
    {
     "data": {
      "text/latex": [
       "Calculated enthalpy: $h$ Specific enthalpy of the fluid"
      ],
      "text/plain": [
       "<IPython.core.display.Latex object>"
      ]
     },
     "metadata": {},
     "output_type": "display_data"
    },
    {
     "data": {
      "text/latex": [
       "I assume $W = 1$, if not then please define AurelCore.data['w_lorentz'] = ... "
      ],
      "text/plain": [
       "<IPython.core.display.Latex object>"
      ]
     },
     "metadata": {},
     "output_type": "display_data"
    },
    {
     "data": {
      "text/latex": [
       "Calculated w_lorentz: $W$ Lorentz factor (need to input or I assume =1)"
      ],
      "text/plain": [
       "<IPython.core.display.Latex object>"
      ]
     },
     "metadata": {},
     "output_type": "display_data"
    },
    {
     "data": {
      "text/latex": [
       "I assume $v^i=0$, if not then please define AurelCore.data['velup3'] = ... "
      ],
      "text/plain": [
       "<IPython.core.display.Latex object>"
      ]
     },
     "metadata": {},
     "output_type": "display_data"
    },
    {
     "data": {
      "text/latex": [
       "Calculated velup3: $v^i$ Eulerian fluid three velocity with spatial indices up (need to input or I assume =0)"
      ],
      "text/plain": [
       "<IPython.core.display.Latex object>"
      ]
     },
     "metadata": {},
     "output_type": "display_data"
    },
    {
     "data": {
      "text/latex": [
       "Calculated uup0: $u^t$ Lagrangian fluid four velocity with time indice up"
      ],
      "text/plain": [
       "<IPython.core.display.Latex object>"
      ]
     },
     "metadata": {},
     "output_type": "display_data"
    },
    {
     "data": {
      "text/latex": [
       "Calculated uup3: $u^i$ Lagrangian fluid four velocity with spatial indices up"
      ],
      "text/plain": [
       "<IPython.core.display.Latex object>"
      ]
     },
     "metadata": {},
     "output_type": "display_data"
    },
    {
     "name": "stdout",
     "output_type": "stream",
     "text": [
      "Cleaning up cache after 40 calculations...\n",
      "data size before cleanup: 441.39 MB\n",
      "Removing cached value for 'gammadet' used 32 calculations ago (size: 2.85 MB).\n",
      "Removing cached value for 'betadown3' used 19 calculations ago (size: 8.54 MB).\n",
      "Removing cached value for 'betamag' used 22 calculations ago (size: 2.85 MB).\n",
      "Removing cached value for 'A2' used 24 calculations ago (size: 2.85 MB).\n",
      "Removing cached value for 'dtalpha' used 23 calculations ago (size: 2.85 MB).\n",
      "Removing cached value for 'dtbetaup3' used 22 calculations ago (size: 8.54 MB).\n",
      "Removing cached value for 'nup4' used 21 calculations ago (size: 11.39 MB).\n",
      "Removing cached value for 'ndown4' used 20 calculations ago (size: 11.39 MB).\n",
      "Removing cached value for 'gammadown3' used 16 calculations ago (size: 25.63 MB).\n",
      "Removing cached value for 'gdown4' used 17 calculations ago (size: 45.56 MB).\n",
      "Removing cached value for 'gup4' used 17 calculations ago (size: 45.56 MB).\n",
      "Removing cached value for 'gammaup3' used 7 calculations ago (size: 25.63 MB).\n",
      "Removing cached value for 'Kdown3' used 7 calculations ago (size: 25.63 MB).\n",
      "Removing cached value for 's_Ricci_down3' used 8 calculations ago (size: 25.63 MB).\n",
      "Removing cached value for 'Kup3' used 6 calculations ago (size: 25.63 MB).\n",
      "Removed 15 items\n",
      "data size after cleanup: 170.86 MB\n"
     ]
    },
    {
     "data": {
      "text/latex": [
       "Calculated uup4: $u^\\mu$ Lagrangian fluid four velocity with spacetime indices up"
      ],
      "text/plain": [
       "<IPython.core.display.Latex object>"
      ]
     },
     "metadata": {},
     "output_type": "display_data"
    },
    {
     "data": {
      "text/latex": [
       "Calculated gammadown3: $\\gamma_{ij}$ Spatial metric with spatial indices down"
      ],
      "text/plain": [
       "<IPython.core.display.Latex object>"
      ]
     },
     "metadata": {},
     "output_type": "display_data"
    },
    {
     "data": {
      "text/latex": [
       "Calculated betadown3: $\\beta_{i}$ Shift vector with spatial indices down"
      ],
      "text/plain": [
       "<IPython.core.display.Latex object>"
      ]
     },
     "metadata": {},
     "output_type": "display_data"
    },
    {
     "data": {
      "text/latex": [
       "Calculated gdown4: $g_{\\mu\\nu}$ Spacetime metric with spacetime indices down"
      ],
      "text/plain": [
       "<IPython.core.display.Latex object>"
      ]
     },
     "metadata": {},
     "output_type": "display_data"
    },
    {
     "data": {
      "text/latex": [
       "Calculated udown4: $u_\\mu$ Lagrangian fluid four velocity with spacetime indices down"
      ],
      "text/plain": [
       "<IPython.core.display.Latex object>"
      ]
     },
     "metadata": {},
     "output_type": "display_data"
    },
    {
     "data": {
      "text/latex": [
       "Calculated udown3: $u_\\mu$ Lagrangian fluid four velocity with spatial indices down"
      ],
      "text/plain": [
       "<IPython.core.display.Latex object>"
      ]
     },
     "metadata": {},
     "output_type": "display_data"
    },
    {
     "data": {
      "text/latex": [
       "Calculated hdown4: $h_{\\mu\\nu}$ Spatial metric orthonomal to fluid flow with spacetime indices down"
      ],
      "text/plain": [
       "<IPython.core.display.Latex object>"
      ]
     },
     "metadata": {},
     "output_type": "display_data"
    },
    {
     "data": {
      "text/latex": [
       "Calculated gup4: $g^{\\mu\\nu}$ Spacetime metric with spacetime indices up"
      ],
      "text/plain": [
       "<IPython.core.display.Latex object>"
      ]
     },
     "metadata": {},
     "output_type": "display_data"
    },
    {
     "data": {
      "text/latex": [
       "Calculated hmixed4: ${h^{\\mu}}_{\\nu}$ Spatial metric orthonomal to fluid flow with mixed spacetime indices"
      ],
      "text/plain": [
       "<IPython.core.display.Latex object>"
      ]
     },
     "metadata": {},
     "output_type": "display_data"
    },
    {
     "data": {
      "text/latex": [
       "Calculated hup4: $h^{\\mu\\nu}$ Spatial metric orthonomal to fluid flow with spacetime indices up"
      ],
      "text/plain": [
       "<IPython.core.display.Latex object>"
      ]
     },
     "metadata": {},
     "output_type": "display_data"
    },
    {
     "data": {
      "text/latex": [
       "Calculated Tdown4: $T_{\\mu\\nu}$ Energy-stress tensor with spacetime indices down"
      ],
      "text/plain": [
       "<IPython.core.display.Latex object>"
      ]
     },
     "metadata": {},
     "output_type": "display_data"
    },
    {
     "data": {
      "text/latex": [
       "Calculated nup4: $n^{\\mu}$ Timelike vector normal to the spatial metric with spacetime indices up"
      ],
      "text/plain": [
       "<IPython.core.display.Latex object>"
      ]
     },
     "metadata": {},
     "output_type": "display_data"
    },
    {
     "data": {
      "text/latex": [
       "Calculated rho_n: $\\rho^{\\{n\\}}$ Energy density in the $n^\\mu$ frame"
      ],
      "text/plain": [
       "<IPython.core.display.Latex object>"
      ]
     },
     "metadata": {},
     "output_type": "display_data"
    },
    {
     "data": {
      "text/latex": [
       "Calculated gammaup3: $\\gamma^{ij}$ Spatial metric with spatial indices up"
      ],
      "text/plain": [
       "<IPython.core.display.Latex object>"
      ]
     },
     "metadata": {},
     "output_type": "display_data"
    },
    {
     "data": {
      "text/latex": [
       "Calculated gammaup4: $\\gamma^{\\mu\\nu}$ Spatial metric with spacetime indices up"
      ],
      "text/plain": [
       "<IPython.core.display.Latex object>"
      ]
     },
     "metadata": {},
     "output_type": "display_data"
    },
    {
     "data": {
      "text/latex": [
       "Calculated fluxup3_n: $S^{\\{n\\}i}$ Energy flux (or momentum density) in the $n^\\mu$ frame with spatial indices up"
      ],
      "text/plain": [
       "<IPython.core.display.Latex object>"
      ]
     },
     "metadata": {},
     "output_type": "display_data"
    },
    {
     "data": {
      "text/latex": [
       "Calculated fluxdown3_n: $S^{\\{n\\}}_{i}$ Energy flux (or momentum density) in the $n^\\mu$ frame with spatial indices down"
      ],
      "text/plain": [
       "<IPython.core.display.Latex object>"
      ]
     },
     "metadata": {},
     "output_type": "display_data"
    },
    {
     "data": {
      "text/latex": [
       "Calculated gammadet: $\\gamma$ Determinant of spatial metric"
      ],
      "text/plain": [
       "<IPython.core.display.Latex object>"
      ]
     },
     "metadata": {},
     "output_type": "display_data"
    },
    {
     "data": {
      "text/latex": [
       "Calculated angmomdown3_n: $J^{\\{n\\}}_{i}$ Angular momentum density in the $n^\\mu$ frame with spatial indices down"
      ],
      "text/plain": [
       "<IPython.core.display.Latex object>"
      ]
     },
     "metadata": {},
     "output_type": "display_data"
    },
    {
     "data": {
      "text/latex": [
       "Calculated angmomup3_n: $J^{\\{n\\}i}$ Angular momentum density in the $n^\\mu$ frame with spatial indices up"
      ],
      "text/plain": [
       "<IPython.core.display.Latex object>"
      ]
     },
     "metadata": {},
     "output_type": "display_data"
    },
    {
     "name": "stdout",
     "output_type": "stream",
     "text": [
      "Cleaning up cache after 60 calculations...\n",
      "data size before cleanup: 623.64 MB\n",
      "Removing cached value for 'betaup3' used 9 calculations ago (size: 8.54 MB).\n",
      "Removing cached value for 'Ktrace' used 27 calculations ago (size: 2.85 MB).\n",
      "Removing cached value for 'gdet' used 36 calculations ago (size: 2.85 MB).\n",
      "Removing cached value for 'eps' used 25 calculations ago (size: 2.85 MB).\n",
      "Removing cached value for 'rho_fromHam' used 25 calculations ago (size: 2.85 MB).\n",
      "Removing cached value for 'enthalpy' used 24 calculations ago (size: 2.85 MB).\n",
      "Removing cached value for 'w_lorentz' used 21 calculations ago (size: 2.85 MB).\n",
      "Removing cached value for 'velup3' used 21 calculations ago (size: 8.54 MB).\n",
      "Removing cached value for 'uup0' used 20 calculations ago (size: 2.85 MB).\n",
      "Removing cached value for 'uup3' used 20 calculations ago (size: 8.54 MB).\n",
      "Removing cached value for 'uup4' used 10 calculations ago (size: 11.39 MB).\n",
      "Removing cached value for 'gammadown3' used 3 calculations ago (size: 25.63 MB).\n",
      "Removing cached value for 'betadown3' used 17 calculations ago (size: 8.54 MB).\n",
      "Removing cached value for 'gdown4' used 13 calculations ago (size: 45.56 MB).\n",
      "Removing cached value for 'udown4' used 14 calculations ago (size: 11.39 MB).\n",
      "Removing cached value for 'hdown4' used 10 calculations ago (size: 45.56 MB).\n",
      "Removing cached value for 'gup4' used 11 calculations ago (size: 45.56 MB).\n",
      "Removing cached value for 'hmixed4' used 11 calculations ago (size: 45.56 MB).\n",
      "Removing cached value for 'hup4' used 10 calculations ago (size: 45.56 MB).\n",
      "Removing cached value for 'Tdown4' used 5 calculations ago (size: 45.56 MB).\n",
      "Removing cached value for 'nup4' used 5 calculations ago (size: 11.39 MB).\n",
      "Removing cached value for 'gammaup3' used 3 calculations ago (size: 25.63 MB).\n",
      "Removing cached value for 'gammaup4' used 5 calculations ago (size: 45.56 MB).\n",
      "Removed 23 items\n",
      "data size after cleanup: 165.17 MB\n"
     ]
    },
    {
     "data": {
      "text/latex": [
       "Calculated gammadown3: $\\gamma_{ij}$ Spatial metric with spatial indices down"
      ],
      "text/plain": [
       "<IPython.core.display.Latex object>"
      ]
     },
     "metadata": {},
     "output_type": "display_data"
    },
    {
     "data": {
      "text/latex": [
       "Calculated gammaup3: $\\gamma^{ij}$ Spatial metric with spatial indices up"
      ],
      "text/plain": [
       "<IPython.core.display.Latex object>"
      ]
     },
     "metadata": {},
     "output_type": "display_data"
    },
    {
     "data": {
      "text/latex": [
       "I assume $W = 1$, if not then please define AurelCore.data['w_lorentz'] = ... "
      ],
      "text/plain": [
       "<IPython.core.display.Latex object>"
      ]
     },
     "metadata": {},
     "output_type": "display_data"
    },
    {
     "data": {
      "text/latex": [
       "Calculated w_lorentz: $W$ Lorentz factor (need to input or I assume =1)"
      ],
      "text/plain": [
       "<IPython.core.display.Latex object>"
      ]
     },
     "metadata": {},
     "output_type": "display_data"
    },
    {
     "data": {
      "text/latex": [
       "Calculated uup0: $u^t$ Lagrangian fluid four velocity with time indice up"
      ],
      "text/plain": [
       "<IPython.core.display.Latex object>"
      ]
     },
     "metadata": {},
     "output_type": "display_data"
    },
    {
     "data": {
      "text/latex": [
       "I assume $v^i=0$, if not then please define AurelCore.data['velup3'] = ... "
      ],
      "text/plain": [
       "<IPython.core.display.Latex object>"
      ]
     },
     "metadata": {},
     "output_type": "display_data"
    },
    {
     "data": {
      "text/latex": [
       "Calculated velup3: $v^i$ Eulerian fluid three velocity with spatial indices up (need to input or I assume =0)"
      ],
      "text/plain": [
       "<IPython.core.display.Latex object>"
      ]
     },
     "metadata": {},
     "output_type": "display_data"
    },
    {
     "data": {
      "text/latex": [
       "I assume $\\beta^i=0$, if not then please define AurelCore.data['betaup3'] = ... "
      ],
      "text/plain": [
       "<IPython.core.display.Latex object>"
      ]
     },
     "metadata": {},
     "output_type": "display_data"
    },
    {
     "data": {
      "text/latex": [
       "Calculated betaup3: $\\beta^{i}$ Shift vector with spatial indices up (need to input or I assume =0)"
      ],
      "text/plain": [
       "<IPython.core.display.Latex object>"
      ]
     },
     "metadata": {},
     "output_type": "display_data"
    },
    {
     "data": {
      "text/latex": [
       "Calculated uup3: $u^i$ Lagrangian fluid four velocity with spatial indices up"
      ],
      "text/plain": [
       "<IPython.core.display.Latex object>"
      ]
     },
     "metadata": {},
     "output_type": "display_data"
    },
    {
     "data": {
      "text/latex": [
       "Calculated uup4: $u^\\mu$ Lagrangian fluid four velocity with spacetime indices up"
      ],
      "text/plain": [
       "<IPython.core.display.Latex object>"
      ]
     },
     "metadata": {},
     "output_type": "display_data"
    },
    {
     "data": {
      "text/latex": [
       "Calculated betadown3: $\\beta_{i}$ Shift vector with spatial indices down"
      ],
      "text/plain": [
       "<IPython.core.display.Latex object>"
      ]
     },
     "metadata": {},
     "output_type": "display_data"
    },
    {
     "data": {
      "text/latex": [
       "Calculated gdown4: $g_{\\mu\\nu}$ Spacetime metric with spacetime indices down"
      ],
      "text/plain": [
       "<IPython.core.display.Latex object>"
      ]
     },
     "metadata": {},
     "output_type": "display_data"
    },
    {
     "data": {
      "text/latex": [
       "Calculated udown4: $u_\\mu$ Lagrangian fluid four velocity with spacetime indices down"
      ],
      "text/plain": [
       "<IPython.core.display.Latex object>"
      ]
     },
     "metadata": {},
     "output_type": "display_data"
    },
    {
     "data": {
      "text/latex": [
       "Calculated hdown4: $h_{\\mu\\nu}$ Spatial metric orthonomal to fluid flow with spacetime indices down"
      ],
      "text/plain": [
       "<IPython.core.display.Latex object>"
      ]
     },
     "metadata": {},
     "output_type": "display_data"
    },
    {
     "data": {
      "text/latex": [
       "Calculated Tdown4: $T_{\\mu\\nu}$ Energy-stress tensor with spacetime indices down"
      ],
      "text/plain": [
       "<IPython.core.display.Latex object>"
      ]
     },
     "metadata": {},
     "output_type": "display_data"
    },
    {
     "data": {
      "text/latex": [
       "Calculated Stressup3_n: $S^{\\{n\\}ij}$ Stress tensor in the $n^\\mu$ frame with spatial indices up"
      ],
      "text/plain": [
       "<IPython.core.display.Latex object>"
      ]
     },
     "metadata": {},
     "output_type": "display_data"
    },
    {
     "data": {
      "text/latex": [
       "Calculated Stressdown3_n: $S^{\\{n\\}}_{ij}$ Stress tensor in the $n^\\mu$ frame with spatial indices down"
      ],
      "text/plain": [
       "<IPython.core.display.Latex object>"
      ]
     },
     "metadata": {},
     "output_type": "display_data"
    },
    {
     "data": {
      "text/latex": [
       "Calculated Stresstrace_n: $S^{\\{n\\}}$ Trace of Stress tensor in the $n^\\mu$ frame"
      ],
      "text/plain": [
       "<IPython.core.display.Latex object>"
      ]
     },
     "metadata": {},
     "output_type": "display_data"
    },
    {
     "data": {
      "text/latex": [
       "Calculated press_n: $p^{\\{n\\}}$ Pressure in the $n^\\mu$ frame"
      ],
      "text/plain": [
       "<IPython.core.display.Latex object>"
      ]
     },
     "metadata": {},
     "output_type": "display_data"
    },
    {
     "data": {
      "text/latex": [
       "Calculated anisotropic_press_down3_n: $\\pi^{\\{n\\}_{ij}}$ Anisotropic pressure in the $n^\\mu$ frame with spatial indices down"
      ],
      "text/plain": [
       "<IPython.core.display.Latex object>"
      ]
     },
     "metadata": {},
     "output_type": "display_data"
    },
    {
     "data": {
      "text/latex": [
       "Calculated conserved_D: $D$ Conserved mass-energy density in Wilson's formalism"
      ],
      "text/plain": [
       "<IPython.core.display.Latex object>"
      ]
     },
     "metadata": {},
     "output_type": "display_data"
    },
    {
     "data": {
      "text/latex": [
       "I assume $\\epsilon = 0$, if not then please define AurelCore.data['eps'] = ... "
      ],
      "text/plain": [
       "<IPython.core.display.Latex object>"
      ]
     },
     "metadata": {},
     "output_type": "display_data"
    },
    {
     "data": {
      "text/latex": [
       "Calculated eps: $\\epsilon$ Specific internal energy (need to input or I assume =0)"
      ],
      "text/plain": [
       "<IPython.core.display.Latex object>"
      ]
     },
     "metadata": {},
     "output_type": "display_data"
    },
    {
     "name": "stdout",
     "output_type": "stream",
     "text": [
      "Cleaning up cache after 80 calculations...\n",
      "data size before cleanup: 504.04 MB\n",
      "Removing cached value for 'rho_n' used 27 calculations ago (size: 2.85 MB).\n",
      "Removing cached value for 'fluxup3_n' used 22 calculations ago (size: 8.54 MB).\n",
      "Removing cached value for 'fluxdown3_n' used 23 calculations ago (size: 8.54 MB).\n",
      "Removing cached value for 'angmomdown3_n' used 20 calculations ago (size: 8.54 MB).\n",
      "Removing cached value for 'angmomup3_n' used 20 calculations ago (size: 8.54 MB).\n",
      "Removing cached value for 'gammadown3' used 3 calculations ago (size: 25.63 MB).\n",
      "Removing cached value for 'gammaup3' used 4 calculations ago (size: 25.63 MB).\n",
      "Removing cached value for 'velup3' used 15 calculations ago (size: 8.54 MB).\n",
      "Removing cached value for 'betaup3' used 12 calculations ago (size: 8.54 MB).\n",
      "Removing cached value for 'uup3' used 13 calculations ago (size: 8.54 MB).\n",
      "Removing cached value for 'uup4' used 10 calculations ago (size: 11.39 MB).\n",
      "Removing cached value for 'betadown3' used 11 calculations ago (size: 8.54 MB).\n",
      "Removing cached value for 'gdown4' used 10 calculations ago (size: 45.56 MB).\n",
      "Removing cached value for 'udown4' used 9 calculations ago (size: 11.39 MB).\n",
      "Removing cached value for 'hdown4' used 8 calculations ago (size: 45.56 MB).\n",
      "Removing cached value for 'Tdown4' used 4 calculations ago (size: 45.56 MB).\n",
      "Removing cached value for 'Stressup3_n' used 6 calculations ago (size: 25.63 MB).\n",
      "Removing cached value for 'Stressdown3_n' used 3 calculations ago (size: 25.63 MB).\n",
      "Removed 18 items\n",
      "data size after cleanup: 170.86 MB\n"
     ]
    },
    {
     "data": {
      "text/latex": [
       "Calculated conserved_E: $E$ Conserved internal energy density in Wilson's formalism"
      ],
      "text/plain": [
       "<IPython.core.display.Latex object>"
      ]
     },
     "metadata": {},
     "output_type": "display_data"
    },
    {
     "data": {
      "text/latex": [
       "Calculated enthalpy: $h$ Specific enthalpy of the fluid"
      ],
      "text/plain": [
       "<IPython.core.display.Latex object>"
      ]
     },
     "metadata": {},
     "output_type": "display_data"
    },
    {
     "data": {
      "text/latex": [
       "I assume $\\beta^i=0$, if not then please define AurelCore.data['betaup3'] = ... "
      ],
      "text/plain": [
       "<IPython.core.display.Latex object>"
      ]
     },
     "metadata": {},
     "output_type": "display_data"
    },
    {
     "data": {
      "text/latex": [
       "Calculated betaup3: $\\beta^{i}$ Shift vector with spatial indices up (need to input or I assume =0)"
      ],
      "text/plain": [
       "<IPython.core.display.Latex object>"
      ]
     },
     "metadata": {},
     "output_type": "display_data"
    },
    {
     "data": {
      "text/latex": [
       "Calculated gammadown3: $\\gamma_{ij}$ Spatial metric with spatial indices down"
      ],
      "text/plain": [
       "<IPython.core.display.Latex object>"
      ]
     },
     "metadata": {},
     "output_type": "display_data"
    },
    {
     "data": {
      "text/latex": [
       "Calculated betadown3: $\\beta_{i}$ Shift vector with spatial indices down"
      ],
      "text/plain": [
       "<IPython.core.display.Latex object>"
      ]
     },
     "metadata": {},
     "output_type": "display_data"
    },
    {
     "data": {
      "text/latex": [
       "Calculated gdown4: $g_{\\mu\\nu}$ Spacetime metric with spacetime indices down"
      ],
      "text/plain": [
       "<IPython.core.display.Latex object>"
      ]
     },
     "metadata": {},
     "output_type": "display_data"
    },
    {
     "data": {
      "text/latex": [
       "I assume $v^i=0$, if not then please define AurelCore.data['velup3'] = ... "
      ],
      "text/plain": [
       "<IPython.core.display.Latex object>"
      ]
     },
     "metadata": {},
     "output_type": "display_data"
    },
    {
     "data": {
      "text/latex": [
       "Calculated velup3: $v^i$ Eulerian fluid three velocity with spatial indices up (need to input or I assume =0)"
      ],
      "text/plain": [
       "<IPython.core.display.Latex object>"
      ]
     },
     "metadata": {},
     "output_type": "display_data"
    },
    {
     "data": {
      "text/latex": [
       "Calculated uup3: $u^i$ Lagrangian fluid four velocity with spatial indices up"
      ],
      "text/plain": [
       "<IPython.core.display.Latex object>"
      ]
     },
     "metadata": {},
     "output_type": "display_data"
    },
    {
     "data": {
      "text/latex": [
       "Calculated uup4: $u^\\mu$ Lagrangian fluid four velocity with spacetime indices up"
      ],
      "text/plain": [
       "<IPython.core.display.Latex object>"
      ]
     },
     "metadata": {},
     "output_type": "display_data"
    },
    {
     "data": {
      "text/latex": [
       "Calculated udown4: $u_\\mu$ Lagrangian fluid four velocity with spacetime indices down"
      ],
      "text/plain": [
       "<IPython.core.display.Latex object>"
      ]
     },
     "metadata": {},
     "output_type": "display_data"
    },
    {
     "data": {
      "text/latex": [
       "Calculated conserved_Sdown4: $S_{\\mu}$ Conserved energy flux (or momentum density) in Wilson's formalism with spacetime indices down"
      ],
      "text/plain": [
       "<IPython.core.display.Latex object>"
      ]
     },
     "metadata": {},
     "output_type": "display_data"
    },
    {
     "data": {
      "text/latex": [
       "Calculated conserved_Sdown3: $S_{i}$ Conserved energy flux (or momentum density) in Wilson's formalism with spatial indices down"
      ],
      "text/plain": [
       "<IPython.core.display.Latex object>"
      ]
     },
     "metadata": {},
     "output_type": "display_data"
    },
    {
     "data": {
      "text/latex": [
       "Calculated gup4: $g^{\\mu\\nu}$ Spacetime metric with spacetime indices up"
      ],
      "text/plain": [
       "<IPython.core.display.Latex object>"
      ]
     },
     "metadata": {},
     "output_type": "display_data"
    },
    {
     "data": {
      "text/latex": [
       "Calculated conserved_Sup4: $S^{\\mu}$ Conserved energy flux (or momentum density) in Wilson's formalism with spacetime indices up"
      ],
      "text/plain": [
       "<IPython.core.display.Latex object>"
      ]
     },
     "metadata": {},
     "output_type": "display_data"
    },
    {
     "data": {
      "text/latex": [
       "Calculated conserved_Sup3: $S^{i}$ Conserved energy flux (or momentum density) in Wilson's formalism with spatial indices up"
      ],
      "text/plain": [
       "<IPython.core.display.Latex object>"
      ]
     },
     "metadata": {},
     "output_type": "display_data"
    },
    {
     "name": "stdout",
     "output_type": "stream",
     "text": [
      "WARNING: dtconserved only works for constant press/rho\n"
     ]
    },
    {
     "data": {
      "text/latex": [
       "Calculated Kdown3: $K_{ij}$ Extrinsic curvature with spatial indices down"
      ],
      "text/plain": [
       "<IPython.core.display.Latex object>"
      ]
     },
     "metadata": {},
     "output_type": "display_data"
    },
    {
     "data": {
      "text/latex": [
       "Calculated gammaup3: $\\gamma^{ij}$ Spatial metric with spatial indices up"
      ],
      "text/plain": [
       "<IPython.core.display.Latex object>"
      ]
     },
     "metadata": {},
     "output_type": "display_data"
    },
    {
     "data": {
      "text/latex": [
       "Calculated Ktrace: $K = \\gamma^{ij}K_{ij}$ Trace of extrinsic curvature"
      ],
      "text/plain": [
       "<IPython.core.display.Latex object>"
      ]
     },
     "metadata": {},
     "output_type": "display_data"
    },
    {
     "data": {
      "text/latex": [
       "Calculated Kup3: $K^{ij}$ Extrinsic curvature with spatial indices up"
      ],
      "text/plain": [
       "<IPython.core.display.Latex object>"
      ]
     },
     "metadata": {},
     "output_type": "display_data"
    },
    {
     "data": {
      "text/latex": [
       "Calculated dtgammaup3: $\\partial_t \\gamma^{ij}$ Coordinate time derivative of spatial metric with spatial indices up"
      ],
      "text/plain": [
       "<IPython.core.display.Latex object>"
      ]
     },
     "metadata": {},
     "output_type": "display_data"
    },
    {
     "name": "stdout",
     "output_type": "stream",
     "text": [
      "Cleaning up cache after 100 calculations...\n",
      "data size before cleanup: 478.41 MB\n",
      "Removing cached value for 'rho' used 38 calculations ago (size: 2.85 MB).\n",
      "Removing cached value for 'Stresstrace_n' used 24 calculations ago (size: 2.85 MB).\n",
      "Removing cached value for 'press_n' used 23 calculations ago (size: 2.85 MB).\n",
      "Removing cached value for 'anisotropic_press_down3_n' used 22 calculations ago (size: 25.63 MB).\n",
      "Removing cached value for 'gammadown3' used 4 calculations ago (size: 25.63 MB).\n",
      "Removing cached value for 'gdown4' used 5 calculations ago (size: 45.56 MB).\n",
      "Removing cached value for 'velup3' used 13 calculations ago (size: 8.54 MB).\n",
      "Removing cached value for 'uup3' used 12 calculations ago (size: 8.54 MB).\n",
      "Removing cached value for 'uup4' used 5 calculations ago (size: 11.39 MB).\n",
      "Removing cached value for 'udown4' used 10 calculations ago (size: 11.39 MB).\n",
      "Removing cached value for 'conserved_Sdown4' used 5 calculations ago (size: 11.39 MB).\n",
      "Removing cached value for 'gup4' used 7 calculations ago (size: 45.56 MB).\n",
      "Removing cached value for 'conserved_Sup4' used 6 calculations ago (size: 11.39 MB).\n",
      "Removed 13 items\n",
      "data size after cleanup: 264.84 MB\n"
     ]
    },
    {
     "data": {
      "text/latex": [
       "Calculated dtconserved: $\\partial_t D, \\; \\partial_t E, \\partial_t S_{i}$ List of coordinate time derivatives of conserved rest mass-energy density, internal energy density and energy flux (or momentum density) with spatial indices down in Wilson's formalism"
      ],
      "text/plain": [
       "<IPython.core.display.Latex object>"
      ]
     },
     "metadata": {},
     "output_type": "display_data"
    },
    {
     "data": {
      "text/latex": [
       "I assume $v^i=0$, if not then please define AurelCore.data['velup3'] = ... "
      ],
      "text/plain": [
       "<IPython.core.display.Latex object>"
      ]
     },
     "metadata": {},
     "output_type": "display_data"
    },
    {
     "data": {
      "text/latex": [
       "Calculated velup3: $v^i$ Eulerian fluid three velocity with spatial indices up (need to input or I assume =0)"
      ],
      "text/plain": [
       "<IPython.core.display.Latex object>"
      ]
     },
     "metadata": {},
     "output_type": "display_data"
    },
    {
     "data": {
      "text/latex": [
       "Calculated uup3: $u^i$ Lagrangian fluid four velocity with spatial indices up"
      ],
      "text/plain": [
       "<IPython.core.display.Latex object>"
      ]
     },
     "metadata": {},
     "output_type": "display_data"
    },
    {
     "data": {
      "text/latex": [
       "I assume $\\partial_t \\alpha = 0$, if not then please define AurelCore.data['dtalpha'] = ... "
      ],
      "text/plain": [
       "<IPython.core.display.Latex object>"
      ]
     },
     "metadata": {},
     "output_type": "display_data"
    },
    {
     "data": {
      "text/latex": [
       "Calculated dtalpha: $\\partial_t \\alpha$ Coordinate time derivative of the lapse (need to input or I assume =0)"
      ],
      "text/plain": [
       "<IPython.core.display.Latex object>"
      ]
     },
     "metadata": {},
     "output_type": "display_data"
    },
    {
     "data": {
      "text/latex": [
       "Calculated gammadown3: $\\gamma_{ij}$ Spatial metric with spatial indices down"
      ],
      "text/plain": [
       "<IPython.core.display.Latex object>"
      ]
     },
     "metadata": {},
     "output_type": "display_data"
    },
    {
     "data": {
      "text/latex": [
       "Calculated gdown4: $g_{\\mu\\nu}$ Spacetime metric with spacetime indices down"
      ],
      "text/plain": [
       "<IPython.core.display.Latex object>"
      ]
     },
     "metadata": {},
     "output_type": "display_data"
    },
    {
     "data": {
      "text/latex": [
       "Calculated uup4: $u^\\mu$ Lagrangian fluid four velocity with spacetime indices up"
      ],
      "text/plain": [
       "<IPython.core.display.Latex object>"
      ]
     },
     "metadata": {},
     "output_type": "display_data"
    },
    {
     "data": {
      "text/latex": [
       "Calculated udown4: $u_\\mu$ Lagrangian fluid four velocity with spacetime indices down"
      ],
      "text/plain": [
       "<IPython.core.display.Latex object>"
      ]
     },
     "metadata": {},
     "output_type": "display_data"
    },
    {
     "data": {
      "text/latex": [
       "I assume $\\partial_t \\beta^i=0$, if not then please define AurelCore.data['dtbetaup3'] = ... "
      ],
      "text/plain": [
       "<IPython.core.display.Latex object>"
      ]
     },
     "metadata": {},
     "output_type": "display_data"
    },
    {
     "data": {
      "text/latex": [
       "Calculated dtbetaup3: $\\partial_t\\beta^{i}$ Coordinate time derivative of the shift vector with spatial indices up (need to input or I assume =0)"
      ],
      "text/plain": [
       "<IPython.core.display.Latex object>"
      ]
     },
     "metadata": {},
     "output_type": "display_data"
    },
    {
     "data": {
      "text/latex": [
       "Calculated st_Gamma_udd4: ${}^{(4)}{\\Gamma^{\\alpha}}_{\\mu\\nu}$ Christoffel symbols of spacetime metric with mixed spacetime indices"
      ],
      "text/plain": [
       "<IPython.core.display.Latex object>"
      ]
     },
     "metadata": {},
     "output_type": "display_data"
    },
    {
     "data": {
      "text/latex": [
       "Calculated gup4: $g^{\\mu\\nu}$ Spacetime metric with spacetime indices up"
      ],
      "text/plain": [
       "<IPython.core.display.Latex object>"
      ]
     },
     "metadata": {},
     "output_type": "display_data"
    },
    {
     "data": {
      "text/latex": [
       "Calculated hdown4: $h_{\\mu\\nu}$ Spatial metric orthonomal to fluid flow with spacetime indices down"
      ],
      "text/plain": [
       "<IPython.core.display.Latex object>"
      ]
     },
     "metadata": {},
     "output_type": "display_data"
    },
    {
     "data": {
      "text/latex": [
       "Calculated hmixed4: ${h^{\\mu}}_{\\nu}$ Spatial metric orthonomal to fluid flow with mixed spacetime indices"
      ],
      "text/plain": [
       "<IPython.core.display.Latex object>"
      ]
     },
     "metadata": {},
     "output_type": "display_data"
    },
    {
     "data": {
      "text/latex": [
       "Calculated thetadown4: $\\Theta_{\\mu\\nu}$ Fluid expansion tensor with spacetime indices down"
      ],
      "text/plain": [
       "<IPython.core.display.Latex object>"
      ]
     },
     "metadata": {},
     "output_type": "display_data"
    },
    {
     "data": {
      "text/latex": [
       "Calculated hup4: $h^{\\mu\\nu}$ Spatial metric orthonomal to fluid flow with spacetime indices up"
      ],
      "text/plain": [
       "<IPython.core.display.Latex object>"
      ]
     },
     "metadata": {},
     "output_type": "display_data"
    },
    {
     "data": {
      "text/latex": [
       "Calculated theta: $\\Theta$ Fluid expansion scalar"
      ],
      "text/plain": [
       "<IPython.core.display.Latex object>"
      ]
     },
     "metadata": {},
     "output_type": "display_data"
    },
    {
     "data": {
      "text/latex": [
       "Calculated sheardown4: $\\sigma_{\\mu\\nu}$ Fluid shear tensor with spacetime indices down"
      ],
      "text/plain": [
       "<IPython.core.display.Latex object>"
      ]
     },
     "metadata": {},
     "output_type": "display_data"
    },
    {
     "data": {
      "text/latex": [
       "Calculated shear2: $\\sigma^2$ Magnitude of fluid shear"
      ],
      "text/plain": [
       "<IPython.core.display.Latex object>"
      ]
     },
     "metadata": {},
     "output_type": "display_data"
    },
    {
     "data": {
      "text/latex": [
       "Calculated rho: $\\rho$ Energy density"
      ],
      "text/plain": [
       "<IPython.core.display.Latex object>"
      ]
     },
     "metadata": {},
     "output_type": "display_data"
    },
    {
     "data": {
      "text/latex": [
       "Calculated s_RicciS_u: ${}^{(3)}R^{\\{u\\}}$ Ricci scalar of the spatial metric orthonormal to fluid flow"
      ],
      "text/plain": [
       "<IPython.core.display.Latex object>"
      ]
     },
     "metadata": {},
     "output_type": "display_data"
    },
    {
     "name": "stdout",
     "output_type": "stream",
     "text": [
      "Cleaning up cache after 120 calculations...\n",
      "data size before cleanup: 854.30 MB\n",
      "Removing cached value for 'press' used 20 calculations ago (size: 2.85 MB).\n",
      "Removing cached value for 'gammadet' used 25 calculations ago (size: 2.85 MB).\n",
      "Removing cached value for 'enthalpy' used 38 calculations ago (size: 2.85 MB).\n",
      "Removing cached value for 'betaup3' used 11 calculations ago (size: 8.54 MB).\n",
      "Removing cached value for 'betadown3' used 15 calculations ago (size: 8.54 MB).\n",
      "Removing cached value for 'Kdown3' used 11 calculations ago (size: 25.63 MB).\n",
      "Removing cached value for 'gammaup3' used 11 calculations ago (size: 25.63 MB).\n",
      "Removing cached value for 'Ktrace' used 22 calculations ago (size: 2.85 MB).\n",
      "Removing cached value for 'Kup3' used 21 calculations ago (size: 25.63 MB).\n",
      "Removing cached value for 'dtgammaup3' used 19 calculations ago (size: 25.63 MB).\n",
      "Removing cached value for 'velup3' used 18 calculations ago (size: 8.54 MB).\n",
      "Removing cached value for 'uup3' used 14 calculations ago (size: 8.54 MB).\n",
      "Removing cached value for 'gammadown3' used 15 calculations ago (size: 25.63 MB).\n",
      "Removing cached value for 'gdown4' used 9 calculations ago (size: 45.56 MB).\n",
      "Removing cached value for 'uup4' used 6 calculations ago (size: 11.39 MB).\n",
      "Removing cached value for 'udown4' used 9 calculations ago (size: 11.39 MB).\n",
      "Removing cached value for 'dtbetaup3' used 11 calculations ago (size: 8.54 MB).\n",
      "Removing cached value for 'st_Gamma_udd4' used 10 calculations ago (size: 182.25 MB).\n",
      "Removing cached value for 'gup4' used 6 calculations ago (size: 45.56 MB).\n",
      "Removing cached value for 'hdown4' used 4 calculations ago (size: 45.56 MB).\n",
      "Removing cached value for 'hmixed4' used 7 calculations ago (size: 45.56 MB).\n",
      "Removing cached value for 'thetadown4' used 4 calculations ago (size: 45.56 MB).\n",
      "Removing cached value for 'hup4' used 3 calculations ago (size: 45.56 MB).\n",
      "Removing cached value for 'sheardown4' used 3 calculations ago (size: 45.56 MB).\n",
      "Removed 24 items\n",
      "data size after cleanup: 148.08 MB\n"
     ]
    },
    {
     "data": {
      "text/latex": [
       "Calculated s_Riemann_uddd3: ${}^{(3)}{R^{i}}_{jkl}$ Riemann tensor of spatial metric with mixed spatial indices"
      ],
      "text/plain": [
       "<IPython.core.display.Latex object>"
      ]
     },
     "metadata": {},
     "output_type": "display_data"
    },
    {
     "data": {
      "text/latex": [
       "Calculated gammadown3: $\\gamma_{ij}$ Spatial metric with spatial indices down"
      ],
      "text/plain": [
       "<IPython.core.display.Latex object>"
      ]
     },
     "metadata": {},
     "output_type": "display_data"
    },
    {
     "data": {
      "text/latex": [
       "Calculated s_Riemann_down3: ${}^{(3)}R_{ijkl}$ Riemann tensor of spatial metric with all spatial indices down"
      ],
      "text/plain": [
       "<IPython.core.display.Latex object>"
      ]
     },
     "metadata": {},
     "output_type": "display_data"
    },
    {
     "data": {
      "text/latex": [
       "Calculated gammaup3: $\\gamma^{ij}$ Spatial metric with spatial indices up"
      ],
      "text/plain": [
       "<IPython.core.display.Latex object>"
      ]
     },
     "metadata": {},
     "output_type": "display_data"
    },
    {
     "data": {
      "text/latex": [
       "Calculated s_Ricci_down3: ${}^{(3)}R_{ij}$ Ricci tensor of spatial metric with spatial indices down"
      ],
      "text/plain": [
       "<IPython.core.display.Latex object>"
      ]
     },
     "metadata": {},
     "output_type": "display_data"
    },
    {
     "data": {
      "text/latex": [
       "I assume $\\beta^i=0$, if not then please define AurelCore.data['betaup3'] = ... "
      ],
      "text/plain": [
       "<IPython.core.display.Latex object>"
      ]
     },
     "metadata": {},
     "output_type": "display_data"
    },
    {
     "data": {
      "text/latex": [
       "Calculated betaup3: $\\beta^{i}$ Shift vector with spatial indices up (need to input or I assume =0)"
      ],
      "text/plain": [
       "<IPython.core.display.Latex object>"
      ]
     },
     "metadata": {},
     "output_type": "display_data"
    },
    {
     "data": {
      "text/latex": [
       "Calculated Kdown3: $K_{ij}$ Extrinsic curvature with spatial indices down"
      ],
      "text/plain": [
       "<IPython.core.display.Latex object>"
      ]
     },
     "metadata": {},
     "output_type": "display_data"
    },
    {
     "data": {
      "text/latex": [
       "I assume $\\partial_t \\beta^i=0$, if not then please define AurelCore.data['dtbetaup3'] = ... "
      ],
      "text/plain": [
       "<IPython.core.display.Latex object>"
      ]
     },
     "metadata": {},
     "output_type": "display_data"
    },
    {
     "data": {
      "text/latex": [
       "Calculated dtbetaup3: $\\partial_t\\beta^{i}$ Coordinate time derivative of the shift vector with spatial indices up (need to input or I assume =0)"
      ],
      "text/plain": [
       "<IPython.core.display.Latex object>"
      ]
     },
     "metadata": {},
     "output_type": "display_data"
    },
    {
     "data": {
      "text/latex": [
       "Calculated st_Gamma_udd4: ${}^{(4)}{\\Gamma^{\\alpha}}_{\\mu\\nu}$ Christoffel symbols of spacetime metric with mixed spacetime indices"
      ],
      "text/plain": [
       "<IPython.core.display.Latex object>"
      ]
     },
     "metadata": {},
     "output_type": "display_data"
    },
    {
     "data": {
      "text/latex": [
       "I assume $v^i=0$, if not then please define AurelCore.data['velup3'] = ... "
      ],
      "text/plain": [
       "<IPython.core.display.Latex object>"
      ]
     },
     "metadata": {},
     "output_type": "display_data"
    },
    {
     "data": {
      "text/latex": [
       "Calculated velup3: $v^i$ Eulerian fluid three velocity with spatial indices up (need to input or I assume =0)"
      ],
      "text/plain": [
       "<IPython.core.display.Latex object>"
      ]
     },
     "metadata": {},
     "output_type": "display_data"
    },
    {
     "data": {
      "text/latex": [
       "Calculated uup3: $u^i$ Lagrangian fluid four velocity with spatial indices up"
      ],
      "text/plain": [
       "<IPython.core.display.Latex object>"
      ]
     },
     "metadata": {},
     "output_type": "display_data"
    },
    {
     "data": {
      "text/latex": [
       "Calculated uup4: $u^\\mu$ Lagrangian fluid four velocity with spacetime indices up"
      ],
      "text/plain": [
       "<IPython.core.display.Latex object>"
      ]
     },
     "metadata": {},
     "output_type": "display_data"
    },
    {
     "data": {
      "text/latex": [
       "I assume $p = 0$, if not then please define AurelCore.data['press'] = ... "
      ],
      "text/plain": [
       "<IPython.core.display.Latex object>"
      ]
     },
     "metadata": {},
     "output_type": "display_data"
    },
    {
     "data": {
      "text/latex": [
       "Calculated press: $p$ Pressure (need to input or I assume =0)"
      ],
      "text/plain": [
       "<IPython.core.display.Latex object>"
      ]
     },
     "metadata": {},
     "output_type": "display_data"
    },
    {
     "data": {
      "text/latex": [
       "Calculated betadown3: $\\beta_{i}$ Shift vector with spatial indices down"
      ],
      "text/plain": [
       "<IPython.core.display.Latex object>"
      ]
     },
     "metadata": {},
     "output_type": "display_data"
    },
    {
     "data": {
      "text/latex": [
       "Calculated gdown4: $g_{\\mu\\nu}$ Spacetime metric with spacetime indices down"
      ],
      "text/plain": [
       "<IPython.core.display.Latex object>"
      ]
     },
     "metadata": {},
     "output_type": "display_data"
    },
    {
     "data": {
      "text/latex": [
       "Calculated udown4: $u_\\mu$ Lagrangian fluid four velocity with spacetime indices down"
      ],
      "text/plain": [
       "<IPython.core.display.Latex object>"
      ]
     },
     "metadata": {},
     "output_type": "display_data"
    },
    {
     "data": {
      "text/latex": [
       "Calculated hdown4: $h_{\\mu\\nu}$ Spatial metric orthonomal to fluid flow with spacetime indices down"
      ],
      "text/plain": [
       "<IPython.core.display.Latex object>"
      ]
     },
     "metadata": {},
     "output_type": "display_data"
    },
    {
     "data": {
      "text/latex": [
       "Calculated Tdown4: $T_{\\mu\\nu}$ Energy-stress tensor with spacetime indices down"
      ],
      "text/plain": [
       "<IPython.core.display.Latex object>"
      ]
     },
     "metadata": {},
     "output_type": "display_data"
    },
    {
     "data": {
      "text/latex": [
       "Calculated gup4: $g^{\\mu\\nu}$ Spacetime metric with spacetime indices up"
      ],
      "text/plain": [
       "<IPython.core.display.Latex object>"
      ]
     },
     "metadata": {},
     "output_type": "display_data"
    },
    {
     "data": {
      "text/latex": [
       "Calculated st_Ricci_down3: ${}^{(4)}R_{ij}$ Ricci tensor of spacetime metric with spatial indices down"
      ],
      "text/plain": [
       "<IPython.core.display.Latex object>"
      ]
     },
     "metadata": {},
     "output_type": "display_data"
    },
    {
     "name": "stdout",
     "output_type": "stream",
     "text": [
      "Cleaning up cache after 140 calculations...\n",
      "data size before cleanup: 1170.39 MB\n",
      "Removing cached value for 'conserved_D' used 39 calculations ago (size: 2.85 MB).\n",
      "Removing cached value for 'eps' used 22 calculations ago (size: 2.85 MB).\n",
      "Removing cached value for 'conserved_E' used 39 calculations ago (size: 2.85 MB).\n",
      "Removing cached value for 'theta' used 22 calculations ago (size: 2.85 MB).\n",
      "Removing cached value for 'shear2' used 22 calculations ago (size: 2.85 MB).\n",
      "Removing cached value for 's_RicciS_u' used 20 calculations ago (size: 2.85 MB).\n",
      "Removing cached value for 's_Riemann_uddd3' used 19 calculations ago (size: 230.66 MB).\n",
      "Removing cached value for 's_Riemann_down3' used 11 calculations ago (size: 230.66 MB).\n",
      "Removing cached value for 'gammaup3' used 12 calculations ago (size: 25.63 MB).\n",
      "Removing cached value for 's_Ricci_down3' used 11 calculations ago (size: 25.63 MB).\n",
      "Removing cached value for 'betaup3' used 7 calculations ago (size: 8.54 MB).\n",
      "Removing cached value for 'Kdown3' used 11 calculations ago (size: 25.63 MB).\n",
      "Removing cached value for 'dtbetaup3' used 12 calculations ago (size: 8.54 MB).\n",
      "Removing cached value for 'st_Gamma_udd4' used 11 calculations ago (size: 182.25 MB).\n",
      "Removing cached value for 'velup3' used 10 calculations ago (size: 8.54 MB).\n",
      "Removing cached value for 'uup3' used 9 calculations ago (size: 8.54 MB).\n",
      "Removing cached value for 'uup4' used 5 calculations ago (size: 11.39 MB).\n",
      "Removing cached value for 'gdown4' used 2 calculations ago (size: 45.56 MB).\n",
      "Removing cached value for 'hdown4' used 3 calculations ago (size: 45.56 MB).\n",
      "Removing cached value for 'Tdown4' used 2 calculations ago (size: 45.56 MB).\n",
      "Removed 20 items\n",
      "data size after cleanup: 250.60 MB\n"
     ]
    },
    {
     "data": {
      "text/latex": [
       "Calculated Kdown3: $K_{ij}$ Extrinsic curvature with spatial indices down"
      ],
      "text/plain": [
       "<IPython.core.display.Latex object>"
      ]
     },
     "metadata": {},
     "output_type": "display_data"
    },
    {
     "data": {
      "text/latex": [
       "Calculated gammaup3: $\\gamma^{ij}$ Spatial metric with spatial indices up"
      ],
      "text/plain": [
       "<IPython.core.display.Latex object>"
      ]
     },
     "metadata": {},
     "output_type": "display_data"
    },
    {
     "data": {
      "text/latex": [
       "Calculated st_Riemann_down4: ${}^{(4)}R_{\\alpha\\beta\\mu\\nu}$ Riemann tensor of spacetime metric with spacetime indices down"
      ],
      "text/plain": [
       "<IPython.core.display.Latex object>"
      ]
     },
     "metadata": {},
     "output_type": "display_data"
    },
    {
     "data": {
      "text/latex": [
       "Calculated st_Riemann_uddd4: ${}^{(4)}{R^{\\alpha}}_{\\beta\\mu\\nu}$ Riemann tensor of spacetime metric with mixed spacetime indices"
      ],
      "text/plain": [
       "<IPython.core.display.Latex object>"
      ]
     },
     "metadata": {},
     "output_type": "display_data"
    },
    {
     "data": {
      "text/latex": [
       "Calculated st_Riemann_uudd4: ${}^{(4)}{R^{\\alpha\\beta}}_{\\mu\\nu}$ Riemann tensor of spacetime metric with mixed spacetime indices"
      ],
      "text/plain": [
       "<IPython.core.display.Latex object>"
      ]
     },
     "metadata": {},
     "output_type": "display_data"
    },
    {
     "data": {
      "text/latex": [
       "Calculated st_Ricci_down4: ${}^{(4)}R_{\\alpha\\beta}$ Ricci tensor of spacetime metric with spacetime indices down"
      ],
      "text/plain": [
       "<IPython.core.display.Latex object>"
      ]
     },
     "metadata": {},
     "output_type": "display_data"
    },
    {
     "data": {
      "text/latex": [
       "Calculated st_RicciS: ${}^{(4)}R$ Ricci scalar of spacetime metric"
      ],
      "text/plain": [
       "<IPython.core.display.Latex object>"
      ]
     },
     "metadata": {},
     "output_type": "display_data"
    },
    {
     "data": {
      "text/latex": [
       "Calculated Kretschmann: $K={R^{\\alpha\\beta}}_{\\mu\\nu}{R_{\\alpha\\beta}}^{\\mu\\nu}$ Kretschmann scalar"
      ],
      "text/plain": [
       "<IPython.core.display.Latex object>"
      ]
     },
     "metadata": {},
     "output_type": "display_data"
    },
    {
     "data": {
      "text/latex": [
       "Calculated Ktrace: $K = \\gamma^{ij}K_{ij}$ Trace of extrinsic curvature"
      ],
      "text/plain": [
       "<IPython.core.display.Latex object>"
      ]
     },
     "metadata": {},
     "output_type": "display_data"
    },
    {
     "data": {
      "text/latex": [
       "Calculated Kup3: $K^{ij}$ Extrinsic curvature with spatial indices up"
      ],
      "text/plain": [
       "<IPython.core.display.Latex object>"
      ]
     },
     "metadata": {},
     "output_type": "display_data"
    },
    {
     "data": {
      "text/latex": [
       "I assume $v^i=0$, if not then please define AurelCore.data['velup3'] = ... "
      ],
      "text/plain": [
       "<IPython.core.display.Latex object>"
      ]
     },
     "metadata": {},
     "output_type": "display_data"
    },
    {
     "data": {
      "text/latex": [
       "Calculated velup3: $v^i$ Eulerian fluid three velocity with spatial indices up (need to input or I assume =0)"
      ],
      "text/plain": [
       "<IPython.core.display.Latex object>"
      ]
     },
     "metadata": {},
     "output_type": "display_data"
    },
    {
     "data": {
      "text/latex": [
       "I assume $\\beta^i=0$, if not then please define AurelCore.data['betaup3'] = ... "
      ],
      "text/plain": [
       "<IPython.core.display.Latex object>"
      ]
     },
     "metadata": {},
     "output_type": "display_data"
    },
    {
     "data": {
      "text/latex": [
       "Calculated betaup3: $\\beta^{i}$ Shift vector with spatial indices up (need to input or I assume =0)"
      ],
      "text/plain": [
       "<IPython.core.display.Latex object>"
      ]
     },
     "metadata": {},
     "output_type": "display_data"
    },
    {
     "data": {
      "text/latex": [
       "Calculated uup3: $u^i$ Lagrangian fluid four velocity with spatial indices up"
      ],
      "text/plain": [
       "<IPython.core.display.Latex object>"
      ]
     },
     "metadata": {},
     "output_type": "display_data"
    },
    {
     "data": {
      "text/latex": [
       "Calculated uup4: $u^\\mu$ Lagrangian fluid four velocity with spacetime indices up"
      ],
      "text/plain": [
       "<IPython.core.display.Latex object>"
      ]
     },
     "metadata": {},
     "output_type": "display_data"
    },
    {
     "data": {
      "text/latex": [
       "Calculated gdown4: $g_{\\mu\\nu}$ Spacetime metric with spacetime indices down"
      ],
      "text/plain": [
       "<IPython.core.display.Latex object>"
      ]
     },
     "metadata": {},
     "output_type": "display_data"
    },
    {
     "data": {
      "text/latex": [
       "Calculated hdown4: $h_{\\mu\\nu}$ Spatial metric orthonomal to fluid flow with spacetime indices down"
      ],
      "text/plain": [
       "<IPython.core.display.Latex object>"
      ]
     },
     "metadata": {},
     "output_type": "display_data"
    },
    {
     "data": {
      "text/latex": [
       "Calculated Tdown4: $T_{\\mu\\nu}$ Energy-stress tensor with spacetime indices down"
      ],
      "text/plain": [
       "<IPython.core.display.Latex object>"
      ]
     },
     "metadata": {},
     "output_type": "display_data"
    },
    {
     "data": {
      "text/latex": [
       "Calculated nup4: $n^{\\mu}$ Timelike vector normal to the spatial metric with spacetime indices up"
      ],
      "text/plain": [
       "<IPython.core.display.Latex object>"
      ]
     },
     "metadata": {},
     "output_type": "display_data"
    },
    {
     "data": {
      "text/latex": [
       "Calculated rho_n: $\\rho^{\\{n\\}}$ Energy density in the $n^\\mu$ frame"
      ],
      "text/plain": [
       "<IPython.core.display.Latex object>"
      ]
     },
     "metadata": {},
     "output_type": "display_data"
    },
    {
     "data": {
      "text/latex": [
       "Calculated Hamiltonian: $\\mathcal{H}$ Hamilonian constraint"
      ],
      "text/plain": [
       "<IPython.core.display.Latex object>"
      ]
     },
     "metadata": {},
     "output_type": "display_data"
    },
    {
     "name": "stdout",
     "output_type": "stream",
     "text": [
      "Cleaning up cache after 160 calculations...\n",
      "data size before cleanup: 2759.39 MB\n",
      "Removing cached value for 'dtalpha' used 33 calculations ago (size: 2.85 MB).\n",
      "Removing cached value for 'gammadown3' used 6 calculations ago (size: 25.63 MB).\n",
      "Removing cached value for 'udown4' used 5 calculations ago (size: 11.39 MB).\n",
      "Removing cached value for 'gup4' used 14 calculations ago (size: 45.56 MB).\n",
      "Removing cached value for 'st_Ricci_down3' used 14 calculations ago (size: 25.63 MB).\n",
      "Removing cached value for 'Kdown3' used 11 calculations ago (size: 25.63 MB).\n",
      "Removing cached value for 'gammaup3' used 11 calculations ago (size: 25.63 MB).\n",
      "Removing cached value for 'st_Riemann_down4' used 16 calculations ago (size: 729.00 MB).\n",
      "Removing cached value for 'st_Riemann_uddd4' used 15 calculations ago (size: 729.00 MB).\n",
      "Removing cached value for 'st_Riemann_uudd4' used 13 calculations ago (size: 729.00 MB).\n",
      "Removing cached value for 'st_Ricci_down4' used 14 calculations ago (size: 45.56 MB).\n",
      "Removing cached value for 'Kup3' used 10 calculations ago (size: 25.63 MB).\n",
      "Removing cached value for 'velup3' used 9 calculations ago (size: 8.54 MB).\n",
      "Removing cached value for 'uup3' used 7 calculations ago (size: 8.54 MB).\n",
      "Removing cached value for 'uup4' used 6 calculations ago (size: 11.39 MB).\n",
      "Removing cached value for 'gdown4' used 5 calculations ago (size: 45.56 MB).\n",
      "Removing cached value for 'hdown4' used 4 calculations ago (size: 45.56 MB).\n",
      "Removing cached value for 'Tdown4' used 3 calculations ago (size: 45.56 MB).\n",
      "Removed 18 items\n",
      "data size after cleanup: 173.71 MB\n"
     ]
    },
    {
     "data": {
      "text/latex": [
       "Calculated Kdown3: $K_{ij}$ Extrinsic curvature with spatial indices down"
      ],
      "text/plain": [
       "<IPython.core.display.Latex object>"
      ]
     },
     "metadata": {},
     "output_type": "display_data"
    },
    {
     "data": {
      "text/latex": [
       "Calculated gammadown3: $\\gamma_{ij}$ Spatial metric with spatial indices down"
      ],
      "text/plain": [
       "<IPython.core.display.Latex object>"
      ]
     },
     "metadata": {},
     "output_type": "display_data"
    },
    {
     "data": {
      "text/latex": [
       "Calculated gammaup3: $\\gamma^{ij}$ Spatial metric with spatial indices up"
      ],
      "text/plain": [
       "<IPython.core.display.Latex object>"
      ]
     },
     "metadata": {},
     "output_type": "display_data"
    },
    {
     "data": {
      "text/latex": [
       "Calculated Kup3: $K^{ij}$ Extrinsic curvature with spatial indices up"
      ],
      "text/plain": [
       "<IPython.core.display.Latex object>"
      ]
     },
     "metadata": {},
     "output_type": "display_data"
    },
    {
     "data": {
      "text/latex": [
       "Calculated Hamiltonian_Escale: [$\\mathcal{H}$] Hamilonian constraint energy scale"
      ],
      "text/plain": [
       "<IPython.core.display.Latex object>"
      ]
     },
     "metadata": {},
     "output_type": "display_data"
    },
    {
     "data": {
      "text/latex": [
       "Calculated gammaup4: $\\gamma^{\\mu\\nu}$ Spatial metric with spacetime indices up"
      ],
      "text/plain": [
       "<IPython.core.display.Latex object>"
      ]
     },
     "metadata": {},
     "output_type": "display_data"
    },
    {
     "data": {
      "text/latex": [
       "I assume $v^i=0$, if not then please define AurelCore.data['velup3'] = ... "
      ],
      "text/plain": [
       "<IPython.core.display.Latex object>"
      ]
     },
     "metadata": {},
     "output_type": "display_data"
    },
    {
     "data": {
      "text/latex": [
       "Calculated velup3: $v^i$ Eulerian fluid three velocity with spatial indices up (need to input or I assume =0)"
      ],
      "text/plain": [
       "<IPython.core.display.Latex object>"
      ]
     },
     "metadata": {},
     "output_type": "display_data"
    },
    {
     "data": {
      "text/latex": [
       "Calculated uup3: $u^i$ Lagrangian fluid four velocity with spatial indices up"
      ],
      "text/plain": [
       "<IPython.core.display.Latex object>"
      ]
     },
     "metadata": {},
     "output_type": "display_data"
    },
    {
     "data": {
      "text/latex": [
       "Calculated uup4: $u^\\mu$ Lagrangian fluid four velocity with spacetime indices up"
      ],
      "text/plain": [
       "<IPython.core.display.Latex object>"
      ]
     },
     "metadata": {},
     "output_type": "display_data"
    },
    {
     "data": {
      "text/latex": [
       "Calculated gdown4: $g_{\\mu\\nu}$ Spacetime metric with spacetime indices down"
      ],
      "text/plain": [
       "<IPython.core.display.Latex object>"
      ]
     },
     "metadata": {},
     "output_type": "display_data"
    },
    {
     "data": {
      "text/latex": [
       "Calculated udown4: $u_\\mu$ Lagrangian fluid four velocity with spacetime indices down"
      ],
      "text/plain": [
       "<IPython.core.display.Latex object>"
      ]
     },
     "metadata": {},
     "output_type": "display_data"
    },
    {
     "data": {
      "text/latex": [
       "Calculated hdown4: $h_{\\mu\\nu}$ Spatial metric orthonomal to fluid flow with spacetime indices down"
      ],
      "text/plain": [
       "<IPython.core.display.Latex object>"
      ]
     },
     "metadata": {},
     "output_type": "display_data"
    },
    {
     "data": {
      "text/latex": [
       "Calculated Tdown4: $T_{\\mu\\nu}$ Energy-stress tensor with spacetime indices down"
      ],
      "text/plain": [
       "<IPython.core.display.Latex object>"
      ]
     },
     "metadata": {},
     "output_type": "display_data"
    },
    {
     "data": {
      "text/latex": [
       "Calculated fluxup3_n: $S^{\\{n\\}i}$ Energy flux (or momentum density) in the $n^\\mu$ frame with spatial indices up"
      ],
      "text/plain": [
       "<IPython.core.display.Latex object>"
      ]
     },
     "metadata": {},
     "output_type": "display_data"
    },
    {
     "data": {
      "text/latex": [
       "Calculated Momentumup3: $\\mathcal{M}^i$ Momentum constraint with spatial indices up"
      ],
      "text/plain": [
       "<IPython.core.display.Latex object>"
      ]
     },
     "metadata": {},
     "output_type": "display_data"
    },
    {
     "data": {
      "text/latex": [
       "Calculated fluxdown3_n: $S^{\\{n\\}}_{i}$ Energy flux (or momentum density) in the $n^\\mu$ frame with spatial indices down"
      ],
      "text/plain": [
       "<IPython.core.display.Latex object>"
      ]
     },
     "metadata": {},
     "output_type": "display_data"
    },
    {
     "data": {
      "text/latex": [
       "Calculated Momentum_Escale: [$\\mathcal{M}$] Momentum constraint energy scale"
      ],
      "text/plain": [
       "<IPython.core.display.Latex object>"
      ]
     },
     "metadata": {},
     "output_type": "display_data"
    },
    {
     "data": {
      "text/latex": [
       "Calculated gup4: $g^{\\mu\\nu}$ Spacetime metric with spacetime indices up"
      ],
      "text/plain": [
       "<IPython.core.display.Latex object>"
      ]
     },
     "metadata": {},
     "output_type": "display_data"
    },
    {
     "data": {
      "text/latex": [
       "Calculated ndown4: $n_{\\mu}$ Timelike vector normal to the spatial metric with spacetime indices down"
      ],
      "text/plain": [
       "<IPython.core.display.Latex object>"
      ]
     },
     "metadata": {},
     "output_type": "display_data"
    },
    {
     "data": {
      "text/latex": [
       "Calculated s_Ricci_down3: ${}^{(3)}R_{ij}$ Ricci tensor of spatial metric with spatial indices down"
      ],
      "text/plain": [
       "<IPython.core.display.Latex object>"
      ]
     },
     "metadata": {},
     "output_type": "display_data"
    },
    {
     "name": "stdout",
     "output_type": "stream",
     "text": [
      "Cleaning up cache after 180 calculations...\n",
      "data size before cleanup: 612.25 MB\n",
      "Removing cached value for 'betadown3' used 11 calculations ago (size: 8.54 MB).\n",
      "Removing cached value for 'st_RicciS' used 33 calculations ago (size: 2.85 MB).\n",
      "Removing cached value for 'Kretschmann' used 32 calculations ago (size: 2.85 MB).\n",
      "Removing cached value for 'betaup3' used 11 calculations ago (size: 8.54 MB).\n",
      "Removing cached value for 'Hamiltonian' used 20 calculations ago (size: 2.85 MB).\n",
      "Removing cached value for 'Kdown3' used 3 calculations ago (size: 25.63 MB).\n",
      "Removing cached value for 'gammadown3' used 5 calculations ago (size: 25.63 MB).\n",
      "Removing cached value for 'gammaup3' used 3 calculations ago (size: 25.63 MB).\n",
      "Removing cached value for 'Kup3' used 15 calculations ago (size: 25.63 MB).\n",
      "Removing cached value for 'gammaup4' used 14 calculations ago (size: 45.56 MB).\n",
      "Removing cached value for 'velup3' used 13 calculations ago (size: 8.54 MB).\n",
      "Removing cached value for 'uup3' used 12 calculations ago (size: 8.54 MB).\n",
      "Removing cached value for 'uup4' used 10 calculations ago (size: 11.39 MB).\n",
      "Removing cached value for 'gdown4' used 2 calculations ago (size: 45.56 MB).\n",
      "Removing cached value for 'udown4' used 9 calculations ago (size: 11.39 MB).\n",
      "Removing cached value for 'hdown4' used 8 calculations ago (size: 45.56 MB).\n",
      "Removing cached value for 'gup4' used 2 calculations ago (size: 45.56 MB).\n",
      "Removed 17 items\n",
      "data size after cleanup: 261.99 MB\n"
     ]
    },
    {
     "data": {
      "text/latex": [
       "Calculated Kdown3: $K_{ij}$ Extrinsic curvature with spatial indices down"
      ],
      "text/plain": [
       "<IPython.core.display.Latex object>"
      ]
     },
     "metadata": {},
     "output_type": "display_data"
    },
    {
     "data": {
      "text/latex": [
       "Calculated gammadown3: $\\gamma_{ij}$ Spatial metric with spatial indices down"
      ],
      "text/plain": [
       "<IPython.core.display.Latex object>"
      ]
     },
     "metadata": {},
     "output_type": "display_data"
    },
    {
     "data": {
      "text/latex": [
       "Calculated gammaup3: $\\gamma^{ij}$ Spatial metric with spatial indices up"
      ],
      "text/plain": [
       "<IPython.core.display.Latex object>"
      ]
     },
     "metadata": {},
     "output_type": "display_data"
    },
    {
     "data": {
      "text/latex": [
       "Calculated Stresstrace_n: $S^{\\{n\\}}$ Trace of Stress tensor in the $n^\\mu$ frame"
      ],
      "text/plain": [
       "<IPython.core.display.Latex object>"
      ]
     },
     "metadata": {},
     "output_type": "display_data"
    },
    {
     "data": {
      "text/latex": [
       "Calculated eweyl_n_down3: $E^{\\{n\\}}_{ij}$ Electric part of the Weyl tensor on the hypersurface orthogonal to $n^{\\mu}$ with spatial indices down"
      ],
      "text/plain": [
       "<IPython.core.display.Latex object>"
      ]
     },
     "metadata": {},
     "output_type": "display_data"
    },
    {
     "data": {
      "text/latex": [
       "I assume $\\beta^i=0$, if not then please define AurelCore.data['betaup3'] = ... "
      ],
      "text/plain": [
       "<IPython.core.display.Latex object>"
      ]
     },
     "metadata": {},
     "output_type": "display_data"
    },
    {
     "data": {
      "text/latex": [
       "Calculated betaup3: $\\beta^{i}$ Shift vector with spatial indices up (need to input or I assume =0)"
      ],
      "text/plain": [
       "<IPython.core.display.Latex object>"
      ]
     },
     "metadata": {},
     "output_type": "display_data"
    },
    {
     "data": {
      "text/latex": [
       "Calculated betadown3: $\\beta_{i}$ Shift vector with spatial indices down"
      ],
      "text/plain": [
       "<IPython.core.display.Latex object>"
      ]
     },
     "metadata": {},
     "output_type": "display_data"
    },
    {
     "data": {
      "text/latex": [
       "Calculated gdown4: $g_{\\mu\\nu}$ Spacetime metric with spacetime indices down"
      ],
      "text/plain": [
       "<IPython.core.display.Latex object>"
      ]
     },
     "metadata": {},
     "output_type": "display_data"
    },
    {
     "data": {
      "text/latex": [
       "Calculated gup4: $g^{\\mu\\nu}$ Spacetime metric with spacetime indices up"
      ],
      "text/plain": [
       "<IPython.core.display.Latex object>"
      ]
     },
     "metadata": {},
     "output_type": "display_data"
    },
    {
     "data": {
      "text/latex": [
       "Calculated gdet: $g$ Determinant of spacetime metric"
      ],
      "text/plain": [
       "<IPython.core.display.Latex object>"
      ]
     },
     "metadata": {},
     "output_type": "display_data"
    },
    {
     "data": {
      "text/latex": [
       "Calculated bweyl_n_down3: $B^{\\{n\\}}_{ij}$ Magnetic part of the Weyl tensor on the hypersurface orthogonal to $n^{\\mu}$ with spatial indices down"
      ],
      "text/plain": [
       "<IPython.core.display.Latex object>"
      ]
     },
     "metadata": {},
     "output_type": "display_data"
    },
    {
     "data": {
      "text/latex": [
       "Calculated st_Weyl_down4: $C_{\\alpha\\beta\\mu\\nu}$ Weyl tensor of spacetime metric with spacetime indices down"
      ],
      "text/plain": [
       "<IPython.core.display.Latex object>"
      ]
     },
     "metadata": {},
     "output_type": "display_data"
    },
    {
     "data": {
      "text/latex": [
       "Calculated gammadet: $\\gamma$ Determinant of spatial metric"
      ],
      "text/plain": [
       "<IPython.core.display.Latex object>"
      ]
     },
     "metadata": {},
     "output_type": "display_data"
    },
    {
     "data": {
      "text/latex": [
       "Calculated Weyl_Psi: $\\Psi_0, \\; \\Psi_1, \\; \\Psi_2, \\; \\Psi_3, \\; \\Psi_4$ List of Weyl scalars for an null vector base defined with AurelCore.tetrad_to_use"
      ],
      "text/plain": [
       "<IPython.core.display.Latex object>"
      ]
     },
     "metadata": {},
     "output_type": "display_data"
    },
    {
     "data": {
      "text/latex": [
       "Calculated Weyl_invariants: $I, \\; J, \\; L, \\; K, \\; N$ Dictionary of Weyl invariants"
      ],
      "text/plain": [
       "<IPython.core.display.Latex object>"
      ]
     },
     "metadata": {},
     "output_type": "display_data"
    },
    {
     "data": {
      "text/latex": [
       "I assume $v^i=0$, if not then please define AurelCore.data['velup3'] = ... "
      ],
      "text/plain": [
       "<IPython.core.display.Latex object>"
      ]
     },
     "metadata": {},
     "output_type": "display_data"
    },
    {
     "data": {
      "text/latex": [
       "Calculated velup3: $v^i$ Eulerian fluid three velocity with spatial indices up (need to input or I assume =0)"
      ],
      "text/plain": [
       "<IPython.core.display.Latex object>"
      ]
     },
     "metadata": {},
     "output_type": "display_data"
    },
    {
     "data": {
      "text/latex": [
       "Calculated uup3: $u^i$ Lagrangian fluid four velocity with spatial indices up"
      ],
      "text/plain": [
       "<IPython.core.display.Latex object>"
      ]
     },
     "metadata": {},
     "output_type": "display_data"
    },
    {
     "data": {
      "text/latex": [
       "Calculated uup4: $u^\\mu$ Lagrangian fluid four velocity with spacetime indices up"
      ],
      "text/plain": [
       "<IPython.core.display.Latex object>"
      ]
     },
     "metadata": {},
     "output_type": "display_data"
    },
    {
     "data": {
      "text/latex": [
       "Calculated eweyl_u_down4: $E^{\\{u\\}}_{\\alpha\\beta}$ Electric part of the Weyl tensor on the hypersurface orthogonal to $u^{\\mu}$ with spacetime indices down"
      ],
      "text/plain": [
       "<IPython.core.display.Latex object>"
      ]
     },
     "metadata": {},
     "output_type": "display_data"
    },
    {
     "data": {
      "text/latex": [
       "Calculated bweyl_u_down4: $B^{\\{u\\}}_{\\alpha\\beta}$ Magnetic part of the Weyl tensor on the hypersurface orthogonal to $u^{\\mu}$ with spacetime indices down"
      ],
      "text/plain": [
       "<IPython.core.display.Latex object>"
      ]
     },
     "metadata": {},
     "output_type": "display_data"
    },
    {
     "name": "stdout",
     "output_type": "stream",
     "text": [
      "Cleaning up cache after 200 calculations...\n",
      "data size before cleanup: 1355.49 MB\n",
      "Removing cached value for 'rho' used 34 calculations ago (size: 2.85 MB).\n",
      "Removing cached value for 'press' used 31 calculations ago (size: 2.85 MB).\n",
      "Removing cached value for 'nup4' used 7 calculations ago (size: 11.39 MB).\n",
      "Removing cached value for 'rho_n' used 36 calculations ago (size: 2.85 MB).\n",
      "Removing cached value for 'Hamiltonian_Escale' used 35 calculations ago (size: 2.85 MB).\n",
      "Removing cached value for 'Tdown4' used 18 calculations ago (size: 45.56 MB).\n",
      "Removing cached value for 'fluxup3_n' used 25 calculations ago (size: 8.54 MB).\n",
      "Removing cached value for 'Momentumup3' used 25 calculations ago (size: 8.54 MB).\n",
      "Removing cached value for 'fluxdown3_n' used 24 calculations ago (size: 8.54 MB).\n",
      "Removing cached value for 'Momentum_Escale' used 23 calculations ago (size: 2.85 MB).\n",
      "Removing cached value for 'ndown4' used 9 calculations ago (size: 11.39 MB).\n",
      "Removing cached value for 's_Ricci_down3' used 20 calculations ago (size: 25.63 MB).\n",
      "Removing cached value for 'Kdown3' used 10 calculations ago (size: 25.63 MB).\n",
      "Removing cached value for 'gammadown3' used 7 calculations ago (size: 25.63 MB).\n",
      "Removing cached value for 'gammaup3' used 7 calculations ago (size: 25.63 MB).\n",
      "Removing cached value for 'betadown3' used 13 calculations ago (size: 8.54 MB).\n",
      "Removing cached value for 'gdown4' used 9 calculations ago (size: 45.56 MB).\n",
      "Removing cached value for 'bweyl_n_down3' used 9 calculations ago (size: 25.63 MB).\n",
      "Removed 18 items\n",
      "data size after cleanup: 1065.03 MB\n"
     ]
    },
    {
     "data": {
      "text/latex": [
       "Calculated nup4: $n^{\\mu}$ Timelike vector normal to the spatial metric with spacetime indices up"
      ],
      "text/plain": [
       "<IPython.core.display.Latex object>"
      ]
     },
     "metadata": {},
     "output_type": "display_data"
    },
    {
     "data": {
      "text/latex": [
       "Calculated Kdown3: $K_{ij}$ Extrinsic curvature with spatial indices down"
      ],
      "text/plain": [
       "<IPython.core.display.Latex object>"
      ]
     },
     "metadata": {},
     "output_type": "display_data"
    },
    {
     "data": {
      "text/latex": [
       "Calculated gammadown3: $\\gamma_{ij}$ Spatial metric with spatial indices down"
      ],
      "text/plain": [
       "<IPython.core.display.Latex object>"
      ]
     },
     "metadata": {},
     "output_type": "display_data"
    },
    {
     "data": {
      "text/latex": [
       "Calculated gammaup3: $\\gamma^{ij}$ Spatial metric with spatial indices up"
      ],
      "text/plain": [
       "<IPython.core.display.Latex object>"
      ]
     },
     "metadata": {},
     "output_type": "display_data"
    },
    {
     "data": {
      "text/latex": [
       "Calculated bweyl_n_down3: $B^{\\{n\\}}_{ij}$ Magnetic part of the Weyl tensor on the hypersurface orthogonal to $n^{\\mu}$ with spatial indices down"
      ],
      "text/plain": [
       "<IPython.core.display.Latex object>"
      ]
     },
     "metadata": {},
     "output_type": "display_data"
    }
   ],
   "source": [
    "for i in aurel.descriptions:\n",
    "    try:\n",
    "        output = rel[i]\n",
    "    except:\n",
    "        print(f\"❌ {i} - Could not calculate.\")\n",
    "        continue"
   ]
  },
  {
   "cell_type": "code",
   "execution_count": null,
   "metadata": {},
   "outputs": [],
   "source": []
  }
 ],
 "metadata": {
  "kernelspec": {
   "display_name": "Python 3",
   "language": "python",
   "name": "python3"
  },
  "language_info": {
   "codemirror_mode": {
    "name": "ipython",
    "version": 3
   },
   "file_extension": ".py",
   "mimetype": "text/x-python",
   "name": "python",
   "nbconvert_exporter": "python",
   "pygments_lexer": "ipython3",
   "version": "3.12.4"
  }
 },
 "nbformat": 4,
 "nbformat_minor": 2
}
