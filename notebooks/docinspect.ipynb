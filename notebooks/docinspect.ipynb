{
 "cells": [
  {
   "cell_type": "code",
   "execution_count": 1,
   "metadata": {},
   "outputs": [],
   "source": [
    "import inspect\n",
    "import numpy as np\n",
    "import aurel"
   ]
  },
  {
   "cell_type": "markdown",
   "metadata": {},
   "source": [
    "# Check all docstrings"
   ]
  },
  {
   "cell_type": "code",
   "execution_count": 2,
   "metadata": {},
   "outputs": [
    {
     "name": "stdout",
     "output_type": "stream",
     "text": [
      "Documentation report for class: aurel\n",
      "\n",
      "Documentation report for class: FiniteDifference\n",
      "\n",
      "Documentation report for class: AurelCore\n",
      "\n",
      "Documentation report for class: AurelCoreAnalytic\n",
      "\n"
     ]
    }
   ],
   "source": [
    "def report_docstrings(module):\n",
    "    print(f\"Documentation report for class: {module.__name__}\\n\")\n",
    "    methods = inspect.getmembers(module, predicate=inspect.isfunction)\n",
    "\n",
    "    for name, func in methods:\n",
    "        doc = func.__doc__\n",
    "        if doc and doc.strip():\n",
    "            pass\n",
    "            #print(f\"✅ {name} - has docstring.\")\n",
    "        else:\n",
    "            print(f\"❌ {name} - MISSING docstring.\")\n",
    "\n",
    "# Example usage:\n",
    "report_docstrings(aurel)\n",
    "report_docstrings(aurel.FiniteDifference)\n",
    "report_docstrings(aurel.AurelCore)\n",
    "report_docstrings(aurel.AurelCoreAnalytic)"
   ]
  },
  {
   "cell_type": "markdown",
   "metadata": {},
   "source": [
    "# Check all functions"
   ]
  },
  {
   "cell_type": "code",
   "execution_count": 3,
   "metadata": {},
   "outputs": [
    {
     "name": "stdout",
     "output_type": "stream",
     "text": [
      "4th order finite difference schemes are defined\n",
      "dict_keys(['gxx', 'gxy', 'gxz', 'gyy', 'gyz', 'gzz', 'kxx', 'kxy', 'kxz', 'kyy', 'kyz', 'kzz', 'rho0'])\n"
     ]
    }
   ],
   "source": [
    "L = 3\n",
    "N = 72\n",
    "param = { 'Nx': N, 'Ny': N, 'Nz': N, \n",
    "          'xmin': -L/2, 'ymin': -L/2, 'zmin': -L/2, \n",
    "          'dx': L/N, 'dy': L/N, 'dz': L/N}\n",
    "fd = aurel.FiniteDifference(param)\n",
    "rel = aurel.AurelCore(fd, verbose=False)\n",
    "rel.data[\"gxx\"] = np.ones_like(fd.x)\n",
    "rel.data[\"gxy\"] = np.zeros_like(fd.x)\n",
    "rel.data[\"gxz\"] = np.zeros_like(fd.x)\n",
    "rel.data[\"gyy\"] = np.ones_like(fd.x)\n",
    "rel.data[\"gyz\"] = np.zeros_like(fd.x)\n",
    "rel.data[\"gzz\"] = np.ones_like(fd.x)\n",
    "rel.data[\"kxx\"] = np.zeros_like(fd.x)\n",
    "rel.data[\"kxy\"] = np.zeros_like(fd.x)\n",
    "rel.data[\"kxz\"] = np.zeros_like(fd.x)\n",
    "rel.data[\"kyy\"] = np.zeros_like(fd.x)\n",
    "rel.data[\"kyz\"] = np.zeros_like(fd.x)\n",
    "rel.data[\"kzz\"] = np.zeros_like(fd.x)\n",
    "rel.data[\"rho0\"] = np.zeros_like(fd.x)\n",
    "rel.freeze_data()\n",
    "print(rel.data.keys())"
   ]
  },
  {
   "cell_type": "code",
   "execution_count": 4,
   "metadata": {},
   "outputs": [],
   "source": [
    "for i in aurel.descriptions:\n",
    "    try:\n",
    "        output = rel[i]\n",
    "    except:\n",
    "        print(f\"❌ {i} - Could not calculate.\")\n",
    "        continue"
   ]
  },
  {
   "cell_type": "code",
   "execution_count": null,
   "metadata": {},
   "outputs": [],
   "source": []
  }
 ],
 "metadata": {
  "kernelspec": {
   "display_name": "Python 3",
   "language": "python",
   "name": "python3"
  },
  "language_info": {
   "codemirror_mode": {
    "name": "ipython",
    "version": 3
   },
   "file_extension": ".py",
   "mimetype": "text/x-python",
   "name": "python",
   "nbconvert_exporter": "python",
   "pygments_lexer": "ipython3",
   "version": "3.12.4"
  }
 },
 "nbformat": 4,
 "nbformat_minor": 2
}
