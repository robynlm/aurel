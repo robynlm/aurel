{
 "cells": [
  {
   "cell_type": "code",
   "execution_count": 1,
   "metadata": {},
   "outputs": [],
   "source": [
    "import inspect\n",
    "import numpy as np\n",
    "import aurel"
   ]
  },
  {
   "cell_type": "markdown",
   "metadata": {},
   "source": [
    "# Check all docstrings"
   ]
  },
  {
   "cell_type": "code",
   "execution_count": 2,
   "metadata": {},
   "outputs": [
    {
     "name": "stdout",
     "output_type": "stream",
     "text": [
      "Documentation report for class: aurel\n",
      "\n",
      "Documentation report for class: FiniteDifference\n",
      "\n",
      "Documentation report for class: AurelCore\n",
      "\n",
      "Documentation report for class: AurelCoreAnalytic\n",
      "\n"
     ]
    }
   ],
   "source": [
    "def report_docstrings(module):\n",
    "    print(f\"Documentation report for class: {module.__name__}\\n\")\n",
    "    methods = inspect.getmembers(module, predicate=inspect.isfunction)\n",
    "\n",
    "    for name, func in methods:\n",
    "        doc = func.__doc__\n",
    "        if doc and doc.strip():\n",
    "            pass\n",
    "            #print(f\"✅ {name} - has docstring.\")\n",
    "        else:\n",
    "            print(f\"❌ {name} - MISSING docstring.\")\n",
    "\n",
    "# Example usage:\n",
    "report_docstrings(aurel)\n",
    "report_docstrings(aurel.FiniteDifference)\n",
    "report_docstrings(aurel.AurelCore)\n",
    "report_docstrings(aurel.AurelCoreAnalytic)"
   ]
  },
  {
   "cell_type": "markdown",
   "metadata": {},
   "source": [
    "# Check all functions"
   ]
  },
  {
   "cell_type": "code",
   "execution_count": 3,
   "metadata": {},
   "outputs": [
    {
     "name": "stdout",
     "output_type": "stream",
     "text": [
      "4th order finite difference schemes are defined\n"
     ]
    },
    {
     "data": {
      "text/latex": [
       "Setting Cosmological constant $\\Lambda$ to 0.0, if not then redefine AurelCore.Lambda"
      ],
      "text/plain": [
       "<IPython.core.display.Latex object>"
      ]
     },
     "metadata": {},
     "output_type": "display_data"
    },
    {
     "name": "stdout",
     "output_type": "stream",
     "text": [
      "dict_keys(['gxx', 'gxy', 'gxz', 'gyy', 'gyz', 'gzz', 'kxx', 'kxy', 'kxz', 'kyy', 'kyz', 'kzz', 'rho0'])\n"
     ]
    }
   ],
   "source": [
    "L = 3\n",
    "N = 72\n",
    "param = { 'Nx': N, 'Ny': N, 'Nz': N, \n",
    "          'xmin': -L/2, 'ymin': -L/2, 'zmin': -L/2, \n",
    "          'dx': L/N, 'dy': L/N, 'dz': L/N}\n",
    "fd = aurel.FiniteDifference(param)\n",
    "rel = aurel.AurelCore(fd)\n",
    "rel.data[\"gxx\"] = np.ones_like(fd.x)\n",
    "rel.data[\"gxy\"] = np.zeros_like(fd.x)\n",
    "rel.data[\"gxz\"] = np.zeros_like(fd.x)\n",
    "rel.data[\"gyy\"] = np.ones_like(fd.x)\n",
    "rel.data[\"gyz\"] = np.zeros_like(fd.x)\n",
    "rel.data[\"gzz\"] = np.ones_like(fd.x)\n",
    "rel.data[\"kxx\"] = np.zeros_like(fd.x)\n",
    "rel.data[\"kxy\"] = np.zeros_like(fd.x)\n",
    "rel.data[\"kxz\"] = np.zeros_like(fd.x)\n",
    "rel.data[\"kyy\"] = np.zeros_like(fd.x)\n",
    "rel.data[\"kyz\"] = np.zeros_like(fd.x)\n",
    "rel.data[\"kzz\"] = np.zeros_like(fd.x)\n",
    "rel.data[\"rho0\"] = np.zeros_like(fd.x)\n",
    "rel.freeze_data()\n",
    "print(rel.data.keys())"
   ]
  },
  {
   "cell_type": "code",
   "execution_count": 4,
   "metadata": {},
   "outputs": [
    {
     "data": {
      "text/latex": [
       "Calculated gammadown3: $\\gamma_{ij}$ Spatial metric with spatial indices down"
      ],
      "text/plain": [
       "<IPython.core.display.Latex object>"
      ]
     },
     "metadata": {},
     "output_type": "display_data"
    },
    {
     "data": {
      "text/latex": [
       "Calculated gammaup3: $\\gamma^{ij}$ Spatial metric with spatial indices up"
      ],
      "text/plain": [
       "<IPython.core.display.Latex object>"
      ]
     },
     "metadata": {},
     "output_type": "display_data"
    },
    {
     "data": {
      "text/latex": [
       "I assume $\\beta^i=0$, if not then please define AurelCore.data['betaup3'] = ... "
      ],
      "text/plain": [
       "<IPython.core.display.Latex object>"
      ]
     },
     "metadata": {},
     "output_type": "display_data"
    },
    {
     "data": {
      "text/latex": [
       "Calculated betaup3: $\\beta^{i}$ Shift vector with spatial indices up (need to input or I assume =0)"
      ],
      "text/plain": [
       "<IPython.core.display.Latex object>"
      ]
     },
     "metadata": {},
     "output_type": "display_data"
    },
    {
     "data": {
      "text/latex": [
       "I assume $\\alpha=1$, if not then please define AurelCore.data['alpha'] = ... "
      ],
      "text/plain": [
       "<IPython.core.display.Latex object>"
      ]
     },
     "metadata": {},
     "output_type": "display_data"
    },
    {
     "data": {
      "text/latex": [
       "Calculated alpha: $\\alpha$ Lapse (need to input or I assume =1)"
      ],
      "text/plain": [
       "<IPython.core.display.Latex object>"
      ]
     },
     "metadata": {},
     "output_type": "display_data"
    },
    {
     "data": {
      "text/latex": [
       "Calculated Kdown3: $K_{ij}$ Extrinsic curvature with spatial indices down"
      ],
      "text/plain": [
       "<IPython.core.display.Latex object>"
      ]
     },
     "metadata": {},
     "output_type": "display_data"
    },
    {
     "data": {
      "text/latex": [
       "Calculated Kup3: $K^{ij}$ Extrinsic curvature with spatial indices up"
      ],
      "text/plain": [
       "<IPython.core.display.Latex object>"
      ]
     },
     "metadata": {},
     "output_type": "display_data"
    },
    {
     "data": {
      "text/latex": [
       "Calculated dtgammaup3: $\\partial_t \\gamma^{ij}$ Coordinate time derivative of spatial metric with spatial indices up"
      ],
      "text/plain": [
       "<IPython.core.display.Latex object>"
      ]
     },
     "metadata": {},
     "output_type": "display_data"
    },
    {
     "data": {
      "text/latex": [
       "Calculated gammadet: $\\gamma$ Determinant of spatial metric"
      ],
      "text/plain": [
       "<IPython.core.display.Latex object>"
      ]
     },
     "metadata": {},
     "output_type": "display_data"
    },
    {
     "data": {
      "text/latex": [
       "Calculated betadown3: $\\beta_{i}$ Shift vector with spatial indices down"
      ],
      "text/plain": [
       "<IPython.core.display.Latex object>"
      ]
     },
     "metadata": {},
     "output_type": "display_data"
    },
    {
     "data": {
      "text/latex": [
       "Calculated betamag: $\\beta_{i}\\beta^{i}$ Magnitude of shift vector"
      ],
      "text/plain": [
       "<IPython.core.display.Latex object>"
      ]
     },
     "metadata": {},
     "output_type": "display_data"
    },
    {
     "data": {
      "text/latex": [
       "Calculated gammadown4: $\\gamma_{\\mu\\nu}$ Spatial metric with spacetime indices down"
      ],
      "text/plain": [
       "<IPython.core.display.Latex object>"
      ]
     },
     "metadata": {},
     "output_type": "display_data"
    },
    {
     "data": {
      "text/latex": [
       "Calculated gammaup4: $\\gamma^{\\mu\\nu}$ Spatial metric with spacetime indices up"
      ],
      "text/plain": [
       "<IPython.core.display.Latex object>"
      ]
     },
     "metadata": {},
     "output_type": "display_data"
    },
    {
     "data": {
      "text/latex": [
       "Calculated Ktrace: $K = \\gamma^{ij}K_{ij}$ Trace of extrinsic curvature"
      ],
      "text/plain": [
       "<IPython.core.display.Latex object>"
      ]
     },
     "metadata": {},
     "output_type": "display_data"
    },
    {
     "data": {
      "text/latex": [
       "Calculated Adown3: $A_{ij}$ Traceless part of the extrinsic curvature with spatial indices down"
      ],
      "text/plain": [
       "<IPython.core.display.Latex object>"
      ]
     },
     "metadata": {},
     "output_type": "display_data"
    },
    {
     "data": {
      "text/latex": [
       "Calculated Aup3: $A^{ij}$ Traceless part of the extrinsic curvature with spatial indices up"
      ],
      "text/plain": [
       "<IPython.core.display.Latex object>"
      ]
     },
     "metadata": {},
     "output_type": "display_data"
    },
    {
     "data": {
      "text/latex": [
       "Calculated A2: $A^2$ Magnitude of traceless part of the extrinsic curvature"
      ],
      "text/plain": [
       "<IPython.core.display.Latex object>"
      ]
     },
     "metadata": {},
     "output_type": "display_data"
    },
    {
     "data": {
      "text/latex": [
       "I assume $\\partial_t \\alpha=0$, if not then please define AurelCore.data['dtalpha'] = ... "
      ],
      "text/plain": [
       "<IPython.core.display.Latex object>"
      ]
     },
     "metadata": {},
     "output_type": "display_data"
    },
    {
     "data": {
      "text/latex": [
       "Calculated dtalpha: $\\partial_t \\alpha$ Coordinate time derivative of the lapse (need to input or I assume =0)"
      ],
      "text/plain": [
       "<IPython.core.display.Latex object>"
      ]
     },
     "metadata": {},
     "output_type": "display_data"
    },
    {
     "data": {
      "text/latex": [
       "I assume $\\partial_t \\beta^i=0$, if not then please define AurelCore.data['dtbetaup3'] = ... "
      ],
      "text/plain": [
       "<IPython.core.display.Latex object>"
      ]
     },
     "metadata": {},
     "output_type": "display_data"
    },
    {
     "data": {
      "text/latex": [
       "Calculated dtbetaup3: $\\partial_t\\beta^{i}$ Coordinate time derivative of the shift vector with spatial indices up (need to input or I assume =0)"
      ],
      "text/plain": [
       "<IPython.core.display.Latex object>"
      ]
     },
     "metadata": {},
     "output_type": "display_data"
    },
    {
     "data": {
      "text/latex": [
       "Calculated nup4: $n^{\\mu}$ Timelike vector normal to the spatial metric with spacetime indices up"
      ],
      "text/plain": [
       "<IPython.core.display.Latex object>"
      ]
     },
     "metadata": {},
     "output_type": "display_data"
    },
    {
     "data": {
      "text/latex": [
       "Calculated ndown4: $n_{\\mu}$ Timelike vector normal to the spatial metric with spacetime indices down"
      ],
      "text/plain": [
       "<IPython.core.display.Latex object>"
      ]
     },
     "metadata": {},
     "output_type": "display_data"
    },
    {
     "data": {
      "text/latex": [
       "CLEAN-UP: Cleaning up cache after 20 calculations..."
      ],
      "text/plain": [
       "<IPython.core.display.Latex object>"
      ]
     },
     "metadata": {},
     "output_type": "display_data"
    },
    {
     "data": {
      "text/latex": [
       "CLEAN-UP: data size before cleanup: 18.53 MB"
      ],
      "text/plain": [
       "<IPython.core.display.Latex object>"
      ]
     },
     "metadata": {},
     "output_type": "display_data"
    },
    {
     "data": {
      "text/latex": [
       "CLEAN-UP: Removed 0 items"
      ],
      "text/plain": [
       "<IPython.core.display.Latex object>"
      ]
     },
     "metadata": {},
     "output_type": "display_data"
    },
    {
     "data": {
      "text/latex": [
       "CLEAN-UP: data size after cleanup: 18.53 MB"
      ],
      "text/plain": [
       "<IPython.core.display.Latex object>"
      ]
     },
     "metadata": {},
     "output_type": "display_data"
    },
    {
     "data": {
      "text/latex": [
       "Calculated gdown4: $g_{\\mu\\nu}$ Spacetime metric with spacetime indices down"
      ],
      "text/plain": [
       "<IPython.core.display.Latex object>"
      ]
     },
     "metadata": {},
     "output_type": "display_data"
    },
    {
     "data": {
      "text/latex": [
       "Calculated gup4: $g^{\\mu\\nu}$ Spacetime metric with spacetime indices up"
      ],
      "text/plain": [
       "<IPython.core.display.Latex object>"
      ]
     },
     "metadata": {},
     "output_type": "display_data"
    },
    {
     "data": {
      "text/latex": [
       "Calculated gdet: $g$ Determinant of spacetime metric"
      ],
      "text/plain": [
       "<IPython.core.display.Latex object>"
      ]
     },
     "metadata": {},
     "output_type": "display_data"
    },
    {
     "data": {
      "text/latex": [
       "Calculated s_Gamma_udd3: ${}^{(3)}{\\Gamma^{k}}_{ij}$ Christoffel symbols of spatial metric with mixed spatial indices"
      ],
      "text/plain": [
       "<IPython.core.display.Latex object>"
      ]
     },
     "metadata": {},
     "output_type": "display_data"
    },
    {
     "data": {
      "text/latex": [
       "Calculated null_ray_exp: $\\Theta_{out}, \\; \\Theta_{in}$ List of expansion of null rays radially going out and in respectively"
      ],
      "text/plain": [
       "<IPython.core.display.Latex object>"
      ]
     },
     "metadata": {},
     "output_type": "display_data"
    },
    {
     "data": {
      "text/latex": [
       "I assume $p=0$, if not then please define AurelCore.data['press'] = ... "
      ],
      "text/plain": [
       "<IPython.core.display.Latex object>"
      ]
     },
     "metadata": {},
     "output_type": "display_data"
    },
    {
     "data": {
      "text/latex": [
       "Calculated press: $p$ Pressure (need to input or I assume =0)"
      ],
      "text/plain": [
       "<IPython.core.display.Latex object>"
      ]
     },
     "metadata": {},
     "output_type": "display_data"
    },
    {
     "data": {
      "text/latex": [
       "I assume $\\epsilon=0$, if not then please define AurelCore.data['eps'] = ... "
      ],
      "text/plain": [
       "<IPython.core.display.Latex object>"
      ]
     },
     "metadata": {},
     "output_type": "display_data"
    },
    {
     "data": {
      "text/latex": [
       "Calculated eps: $\\epsilon$ Specific internal energy (need to input or I assume =0)"
      ],
      "text/plain": [
       "<IPython.core.display.Latex object>"
      ]
     },
     "metadata": {},
     "output_type": "display_data"
    },
    {
     "data": {
      "text/latex": [
       "Calculated rho: $\\rho$ Energy density"
      ],
      "text/plain": [
       "<IPython.core.display.Latex object>"
      ]
     },
     "metadata": {},
     "output_type": "display_data"
    },
    {
     "data": {
      "text/latex": [
       "Calculated enthalpy: $h$ Specific enthalpy of the fluid"
      ],
      "text/plain": [
       "<IPython.core.display.Latex object>"
      ]
     },
     "metadata": {},
     "output_type": "display_data"
    },
    {
     "data": {
      "text/latex": [
       "I assume $W=1$, if not then please define AurelCore.data['w_lorentz'] = ... "
      ],
      "text/plain": [
       "<IPython.core.display.Latex object>"
      ]
     },
     "metadata": {},
     "output_type": "display_data"
    },
    {
     "data": {
      "text/latex": [
       "Calculated w_lorentz: $W$ Lorentz factor (need to input or I assume =1)"
      ],
      "text/plain": [
       "<IPython.core.display.Latex object>"
      ]
     },
     "metadata": {},
     "output_type": "display_data"
    },
    {
     "data": {
      "text/latex": [
       "I assume $v^i=0$, if not then please define AurelCore.data['velup3'] = ... "
      ],
      "text/plain": [
       "<IPython.core.display.Latex object>"
      ]
     },
     "metadata": {},
     "output_type": "display_data"
    },
    {
     "data": {
      "text/latex": [
       "Calculated velup3: $v^i$ Eulerian fluid three velocity with spatial indices up (need to input or I assume =0)"
      ],
      "text/plain": [
       "<IPython.core.display.Latex object>"
      ]
     },
     "metadata": {},
     "output_type": "display_data"
    },
    {
     "data": {
      "text/latex": [
       "Calculated uup0: $u^t$ Lagrangian fluid four velocity with time indice up"
      ],
      "text/plain": [
       "<IPython.core.display.Latex object>"
      ]
     },
     "metadata": {},
     "output_type": "display_data"
    },
    {
     "data": {
      "text/latex": [
       "Calculated uup3: $u^i$ Lagrangian fluid four velocity with spatial indices up"
      ],
      "text/plain": [
       "<IPython.core.display.Latex object>"
      ]
     },
     "metadata": {},
     "output_type": "display_data"
    },
    {
     "data": {
      "text/latex": [
       "Calculated uup4: $u^\\mu$ Lagrangian fluid four velocity with spacetime indices up"
      ],
      "text/plain": [
       "<IPython.core.display.Latex object>"
      ]
     },
     "metadata": {},
     "output_type": "display_data"
    },
    {
     "data": {
      "text/latex": [
       "Calculated udown4: $u_\\mu$ Lagrangian fluid four velocity with spacetime indices down"
      ],
      "text/plain": [
       "<IPython.core.display.Latex object>"
      ]
     },
     "metadata": {},
     "output_type": "display_data"
    },
    {
     "data": {
      "text/latex": [
       "Calculated udown3: $u_\\mu$ Lagrangian fluid four velocity with spatial indices down"
      ],
      "text/plain": [
       "<IPython.core.display.Latex object>"
      ]
     },
     "metadata": {},
     "output_type": "display_data"
    },
    {
     "data": {
      "text/latex": [
       "Calculated hdown4: $h_{\\mu\\nu}$ Spatial metric orthonomal to fluid flow with spacetime indices down"
      ],
      "text/plain": [
       "<IPython.core.display.Latex object>"
      ]
     },
     "metadata": {},
     "output_type": "display_data"
    },
    {
     "data": {
      "text/latex": [
       "Calculated hmixed4: ${h^{\\mu}}_{\\nu}$ Spatial metric orthonomal to fluid flow with mixed spacetime indices"
      ],
      "text/plain": [
       "<IPython.core.display.Latex object>"
      ]
     },
     "metadata": {},
     "output_type": "display_data"
    },
    {
     "data": {
      "text/latex": [
       "Calculated hup4: $h^{\\mu\\nu}$ Spatial metric orthonomal to fluid flow with spacetime indices up"
      ],
      "text/plain": [
       "<IPython.core.display.Latex object>"
      ]
     },
     "metadata": {},
     "output_type": "display_data"
    },
    {
     "data": {
      "text/latex": [
       "Calculated Tdown4: $T_{\\mu\\nu}$ Energy-stress tensor with spacetime indices down"
      ],
      "text/plain": [
       "<IPython.core.display.Latex object>"
      ]
     },
     "metadata": {},
     "output_type": "display_data"
    },
    {
     "data": {
      "text/latex": [
       "CLEAN-UP: Cleaning up cache after 40 calculations..."
      ],
      "text/plain": [
       "<IPython.core.display.Latex object>"
      ]
     },
     "metadata": {},
     "output_type": "display_data"
    },
    {
     "data": {
      "text/latex": [
       "CLEAN-UP: data size before cleanup: 18.54 MB"
      ],
      "text/plain": [
       "<IPython.core.display.Latex object>"
      ]
     },
     "metadata": {},
     "output_type": "display_data"
    },
    {
     "data": {
      "text/latex": [
       "CLEAN-UP: Removed 0 items"
      ],
      "text/plain": [
       "<IPython.core.display.Latex object>"
      ]
     },
     "metadata": {},
     "output_type": "display_data"
    },
    {
     "data": {
      "text/latex": [
       "CLEAN-UP: data size after cleanup: 18.54 MB"
      ],
      "text/plain": [
       "<IPython.core.display.Latex object>"
      ]
     },
     "metadata": {},
     "output_type": "display_data"
    },
    {
     "data": {
      "text/latex": [
       "Calculated rho_n: $\\rho^{\\{n\\}}$ Energy density in the $n^\\mu$ frame"
      ],
      "text/plain": [
       "<IPython.core.display.Latex object>"
      ]
     },
     "metadata": {},
     "output_type": "display_data"
    },
    {
     "data": {
      "text/latex": [
       "Calculated fluxup3_n: $S^{\\{n\\}i}$ Energy flux (or momentum density) in the $n^\\mu$ frame with spatial indices up"
      ],
      "text/plain": [
       "<IPython.core.display.Latex object>"
      ]
     },
     "metadata": {},
     "output_type": "display_data"
    },
    {
     "data": {
      "text/latex": [
       "Calculated fluxdown3_n: $S^{\\{n\\}}_{i}$ Energy flux (or momentum density) in the $n^\\mu$ frame with spatial indices down"
      ],
      "text/plain": [
       "<IPython.core.display.Latex object>"
      ]
     },
     "metadata": {},
     "output_type": "display_data"
    },
    {
     "data": {
      "text/latex": [
       "Calculated angmomdown3_n: $J^{\\{n\\}}_{i}$ Angular momentum density in the $n^\\mu$ frame with spatial indices down"
      ],
      "text/plain": [
       "<IPython.core.display.Latex object>"
      ]
     },
     "metadata": {},
     "output_type": "display_data"
    },
    {
     "data": {
      "text/latex": [
       "Calculated angmomup3_n: $J^{\\{n\\}i}$ Angular momentum density in the $n^\\mu$ frame with spatial indices up"
      ],
      "text/plain": [
       "<IPython.core.display.Latex object>"
      ]
     },
     "metadata": {},
     "output_type": "display_data"
    },
    {
     "data": {
      "text/latex": [
       "Calculated Stressup3_n: $S^{\\{n\\}ij}$ Stress tensor in the $n^\\mu$ frame with spatial indices up"
      ],
      "text/plain": [
       "<IPython.core.display.Latex object>"
      ]
     },
     "metadata": {},
     "output_type": "display_data"
    },
    {
     "data": {
      "text/latex": [
       "Calculated Stressdown3_n: $S^{\\{n\\}}_{ij}$ Stress tensor in the $n^\\mu$ frame with spatial indices down"
      ],
      "text/plain": [
       "<IPython.core.display.Latex object>"
      ]
     },
     "metadata": {},
     "output_type": "display_data"
    },
    {
     "data": {
      "text/latex": [
       "Calculated Stresstrace_n: $S^{\\{n\\}}$ Trace of Stress tensor in the $n^\\mu$ frame"
      ],
      "text/plain": [
       "<IPython.core.display.Latex object>"
      ]
     },
     "metadata": {},
     "output_type": "display_data"
    },
    {
     "data": {
      "text/latex": [
       "Calculated press_n: $p^{\\{n\\}}$ Pressure in the $n^\\mu$ frame"
      ],
      "text/plain": [
       "<IPython.core.display.Latex object>"
      ]
     },
     "metadata": {},
     "output_type": "display_data"
    },
    {
     "data": {
      "text/latex": [
       "Calculated anisotropic_press_down3_n: $\\pi^{\\{n\\}_{ij}}$ Anisotropic pressure in the $n^\\mu$ frame with spatial indices down"
      ],
      "text/plain": [
       "<IPython.core.display.Latex object>"
      ]
     },
     "metadata": {},
     "output_type": "display_data"
    },
    {
     "data": {
      "text/latex": [
       "Calculated s_Ricci_down3: ${}^{(3)}R_{ij}$ Ricci tensor of spatial metric with spatial indices down"
      ],
      "text/plain": [
       "<IPython.core.display.Latex object>"
      ]
     },
     "metadata": {},
     "output_type": "display_data"
    },
    {
     "data": {
      "text/latex": [
       "Calculated s_RicciS: ${}^{(3)}R$ Ricci scalar of spatial metric"
      ],
      "text/plain": [
       "<IPython.core.display.Latex object>"
      ]
     },
     "metadata": {},
     "output_type": "display_data"
    },
    {
     "data": {
      "text/latex": [
       "Calculated rho_n_fromHam: $\\rho^{\\{n\\}}$ Energy density in the $n^\\mu$ frame computed from the Hamiltonian constraint"
      ],
      "text/plain": [
       "<IPython.core.display.Latex object>"
      ]
     },
     "metadata": {},
     "output_type": "display_data"
    },
    {
     "data": {
      "text/latex": [
       "Calculated fluxup3_n_fromMom: $S^{\\{n\\}i}$ Energy flux (or momentum density) in the $n^\\mu$ frame with spatial indices up computed from the Momentum constraint"
      ],
      "text/plain": [
       "<IPython.core.display.Latex object>"
      ]
     },
     "metadata": {},
     "output_type": "display_data"
    },
    {
     "data": {
      "text/latex": [
       "Calculated conserved_D: $D$ Conserved mass-energy density in Wilson's formalism"
      ],
      "text/plain": [
       "<IPython.core.display.Latex object>"
      ]
     },
     "metadata": {},
     "output_type": "display_data"
    },
    {
     "data": {
      "text/latex": [
       "Calculated conserved_E: $E$ Conserved internal energy density in Wilson's formalism"
      ],
      "text/plain": [
       "<IPython.core.display.Latex object>"
      ]
     },
     "metadata": {},
     "output_type": "display_data"
    },
    {
     "data": {
      "text/latex": [
       "Calculated conserved_Sdown4: $S_{\\mu}$ Conserved energy flux (or momentum density) in Wilson's formalism with spacetime indices down"
      ],
      "text/plain": [
       "<IPython.core.display.Latex object>"
      ]
     },
     "metadata": {},
     "output_type": "display_data"
    },
    {
     "data": {
      "text/latex": [
       "Calculated conserved_Sdown3: $S_{i}$ Conserved energy flux (or momentum density) in Wilson's formalism with spatial indices down"
      ],
      "text/plain": [
       "<IPython.core.display.Latex object>"
      ]
     },
     "metadata": {},
     "output_type": "display_data"
    },
    {
     "data": {
      "text/latex": [
       "Calculated conserved_Sup4: $S^{\\mu}$ Conserved energy flux (or momentum density) in Wilson's formalism with spacetime indices up"
      ],
      "text/plain": [
       "<IPython.core.display.Latex object>"
      ]
     },
     "metadata": {},
     "output_type": "display_data"
    },
    {
     "data": {
      "text/latex": [
       "Calculated conserved_Sup3: $S^{i}$ Conserved energy flux (or momentum density) in Wilson's formalism with spatial indices up"
      ],
      "text/plain": [
       "<IPython.core.display.Latex object>"
      ]
     },
     "metadata": {},
     "output_type": "display_data"
    },
    {
     "data": {
      "text/latex": [
       "CLEAN-UP: Cleaning up cache after 60 calculations..."
      ],
      "text/plain": [
       "<IPython.core.display.Latex object>"
      ]
     },
     "metadata": {},
     "output_type": "display_data"
    },
    {
     "data": {
      "text/latex": [
       "CLEAN-UP: data size before cleanup: 18.55 MB"
      ],
      "text/plain": [
       "<IPython.core.display.Latex object>"
      ]
     },
     "metadata": {},
     "output_type": "display_data"
    },
    {
     "data": {
      "text/latex": [
       "CLEAN-UP: Removed 0 items"
      ],
      "text/plain": [
       "<IPython.core.display.Latex object>"
      ]
     },
     "metadata": {},
     "output_type": "display_data"
    },
    {
     "data": {
      "text/latex": [
       "CLEAN-UP: data size after cleanup: 18.55 MB"
      ],
      "text/plain": [
       "<IPython.core.display.Latex object>"
      ]
     },
     "metadata": {},
     "output_type": "display_data"
    },
    {
     "data": {
      "text/latex": [
       "WARNING: dtconserved only works for constant press/rho"
      ],
      "text/plain": [
       "<IPython.core.display.Latex object>"
      ]
     },
     "metadata": {},
     "output_type": "display_data"
    },
    {
     "data": {
      "text/latex": [
       "Calculated dtconserved: $\\partial_t D, \\; \\partial_t E, \\partial_t S_{i}$ List of coordinate time derivatives of conserved rest mass-energy density, internal energy density and energy flux (or momentum density) with spatial indices down in Wilson's formalism"
      ],
      "text/plain": [
       "<IPython.core.display.Latex object>"
      ]
     },
     "metadata": {},
     "output_type": "display_data"
    },
    {
     "data": {
      "text/latex": [
       "Calculated st_Gamma_udd4: ${}^{(4)}{\\Gamma^{\\alpha}}_{\\mu\\nu}$ Christoffel symbols of spacetime metric with mixed spacetime indices"
      ],
      "text/plain": [
       "<IPython.core.display.Latex object>"
      ]
     },
     "metadata": {},
     "output_type": "display_data"
    },
    {
     "data": {
      "text/latex": [
       "Calculated st_covd_udown4: $\\nabla_{\\mu} u_{\\nu}$ Spacetime covariant derivative of Lagrangian fluid four velocity with spacetime indices down"
      ],
      "text/plain": [
       "<IPython.core.display.Latex object>"
      ]
     },
     "metadata": {},
     "output_type": "display_data"
    },
    {
     "data": {
      "text/latex": [
       "Calculated accelerationdown4: $a_{\\mu}$ Acceleration of the fluid with spacetime indices down"
      ],
      "text/plain": [
       "<IPython.core.display.Latex object>"
      ]
     },
     "metadata": {},
     "output_type": "display_data"
    },
    {
     "data": {
      "text/latex": [
       "Calculated accelerationup4: $a^{\\mu}$ Acceleration of the fluid with spacetime indices up"
      ],
      "text/plain": [
       "<IPython.core.display.Latex object>"
      ]
     },
     "metadata": {},
     "output_type": "display_data"
    },
    {
     "data": {
      "text/latex": [
       "Calculated s_covd_udown4: $\\mathcal{D}^{\\{u\\}}_{\\mu} u_{\\nu}$ Spatial covariant derivative of Lagrangian fluid four velocity with spacetime indices down, with respect to spatial hypersurfaces orthonormal to the fluid flow"
      ],
      "text/plain": [
       "<IPython.core.display.Latex object>"
      ]
     },
     "metadata": {},
     "output_type": "display_data"
    },
    {
     "data": {
      "text/latex": [
       "Calculated thetadown4: $\\Theta_{\\mu\\nu}$ Fluid expansion tensor with spacetime indices down"
      ],
      "text/plain": [
       "<IPython.core.display.Latex object>"
      ]
     },
     "metadata": {},
     "output_type": "display_data"
    },
    {
     "data": {
      "text/latex": [
       "Calculated theta: $\\Theta$ Fluid expansion scalar"
      ],
      "text/plain": [
       "<IPython.core.display.Latex object>"
      ]
     },
     "metadata": {},
     "output_type": "display_data"
    },
    {
     "data": {
      "text/latex": [
       "Calculated sheardown4: $\\sigma_{\\mu\\nu}$ Fluid shear tensor with spacetime indices down"
      ],
      "text/plain": [
       "<IPython.core.display.Latex object>"
      ]
     },
     "metadata": {},
     "output_type": "display_data"
    },
    {
     "data": {
      "text/latex": [
       "Calculated shear2: $\\sigma^2$ Magnitude of fluid shear"
      ],
      "text/plain": [
       "<IPython.core.display.Latex object>"
      ]
     },
     "metadata": {},
     "output_type": "display_data"
    },
    {
     "data": {
      "text/latex": [
       "Calculated omegadown4: $\\omega_{\\mu\\nu}$ Fluid vorticity tensor with spacetime indices down"
      ],
      "text/plain": [
       "<IPython.core.display.Latex object>"
      ]
     },
     "metadata": {},
     "output_type": "display_data"
    },
    {
     "data": {
      "text/latex": [
       "Calculated omega2: $\\omega^2$ Magnitude of fluid vorticity"
      ],
      "text/plain": [
       "<IPython.core.display.Latex object>"
      ]
     },
     "metadata": {},
     "output_type": "display_data"
    },
    {
     "data": {
      "text/latex": [
       "Calculated s_RicciS_u: ${}^{(3)}R^{\\{u\\}}$ Ricci scalar of the spatial metric orthonormal to fluid flow"
      ],
      "text/plain": [
       "<IPython.core.display.Latex object>"
      ]
     },
     "metadata": {},
     "output_type": "display_data"
    },
    {
     "data": {
      "text/latex": [
       "Calculated s_Riemann_uddd3: ${}^{(3)}{R^{i}}_{jkl}$ Riemann tensor of spatial metric with mixed spatial indices"
      ],
      "text/plain": [
       "<IPython.core.display.Latex object>"
      ]
     },
     "metadata": {},
     "output_type": "display_data"
    },
    {
     "data": {
      "text/latex": [
       "Calculated s_Riemann_down3: ${}^{(3)}R_{ijkl}$ Riemann tensor of spatial metric with all spatial indices down"
      ],
      "text/plain": [
       "<IPython.core.display.Latex object>"
      ]
     },
     "metadata": {},
     "output_type": "display_data"
    },
    {
     "data": {
      "text/latex": [
       "Calculated st_Ricci_down3: ${}^{(4)}R_{ij}$ Ricci tensor of spacetime metric with spatial indices down"
      ],
      "text/plain": [
       "<IPython.core.display.Latex object>"
      ]
     },
     "metadata": {},
     "output_type": "display_data"
    },
    {
     "data": {
      "text/latex": [
       "Calculated st_Riemann_down4: ${}^{(4)}R_{\\alpha\\beta\\mu\\nu}$ Riemann tensor of spacetime metric with spacetime indices down"
      ],
      "text/plain": [
       "<IPython.core.display.Latex object>"
      ]
     },
     "metadata": {},
     "output_type": "display_data"
    },
    {
     "data": {
      "text/latex": [
       "Calculated st_Riemann_uddd4: ${}^{(4)}{R^{\\alpha}}_{\\beta\\mu\\nu}$ Riemann tensor of spacetime metric with mixed spacetime indices"
      ],
      "text/plain": [
       "<IPython.core.display.Latex object>"
      ]
     },
     "metadata": {},
     "output_type": "display_data"
    },
    {
     "data": {
      "text/latex": [
       "Calculated st_Riemann_uudd4: ${}^{(4)}{R^{\\alpha\\beta}}_{\\mu\\nu}$ Riemann tensor of spacetime metric with mixed spacetime indices"
      ],
      "text/plain": [
       "<IPython.core.display.Latex object>"
      ]
     },
     "metadata": {},
     "output_type": "display_data"
    },
    {
     "data": {
      "text/latex": [
       "Calculated st_Ricci_down4: ${}^{(4)}R_{\\alpha\\beta}$ Ricci tensor of spacetime metric with spacetime indices down"
      ],
      "text/plain": [
       "<IPython.core.display.Latex object>"
      ]
     },
     "metadata": {},
     "output_type": "display_data"
    },
    {
     "data": {
      "text/latex": [
       "CLEAN-UP: Cleaning up cache after 80 calculations..."
      ],
      "text/plain": [
       "<IPython.core.display.Latex object>"
      ]
     },
     "metadata": {},
     "output_type": "display_data"
    },
    {
     "data": {
      "text/latex": [
       "CLEAN-UP: data size before cleanup: 18.56 MB"
      ],
      "text/plain": [
       "<IPython.core.display.Latex object>"
      ]
     },
     "metadata": {},
     "output_type": "display_data"
    },
    {
     "data": {
      "text/latex": [
       "CLEAN-UP: Removed 0 items"
      ],
      "text/plain": [
       "<IPython.core.display.Latex object>"
      ]
     },
     "metadata": {},
     "output_type": "display_data"
    },
    {
     "data": {
      "text/latex": [
       "CLEAN-UP: data size after cleanup: 18.56 MB"
      ],
      "text/plain": [
       "<IPython.core.display.Latex object>"
      ]
     },
     "metadata": {},
     "output_type": "display_data"
    },
    {
     "data": {
      "text/latex": [
       "Calculated st_RicciS: ${}^{(4)}R$ Ricci scalar of spacetime metric"
      ],
      "text/plain": [
       "<IPython.core.display.Latex object>"
      ]
     },
     "metadata": {},
     "output_type": "display_data"
    },
    {
     "data": {
      "text/latex": [
       "Calculated Kretschmann: $K={R^{\\alpha\\beta}}_{\\mu\\nu}{R_{\\alpha\\beta}}^{\\mu\\nu}$ Kretschmann scalar"
      ],
      "text/plain": [
       "<IPython.core.display.Latex object>"
      ]
     },
     "metadata": {},
     "output_type": "display_data"
    },
    {
     "data": {
      "text/latex": [
       "Calculated Hamiltonian: $\\mathcal{H}$ Hamilonian constraint"
      ],
      "text/plain": [
       "<IPython.core.display.Latex object>"
      ]
     },
     "metadata": {},
     "output_type": "display_data"
    },
    {
     "data": {
      "text/latex": [
       "Calculated Hamiltonian_Escale: [$\\mathcal{H}$] Hamilonian constraint energy scale"
      ],
      "text/plain": [
       "<IPython.core.display.Latex object>"
      ]
     },
     "metadata": {},
     "output_type": "display_data"
    },
    {
     "data": {
      "text/latex": [
       "Calculated Momentumup3: $\\mathcal{M}^i$ Momentum constraint with spatial indices up"
      ],
      "text/plain": [
       "<IPython.core.display.Latex object>"
      ]
     },
     "metadata": {},
     "output_type": "display_data"
    },
    {
     "data": {
      "text/latex": [
       "Calculated Momentum_Escale: [$\\mathcal{M}$] Momentum constraint energy scale"
      ],
      "text/plain": [
       "<IPython.core.display.Latex object>"
      ]
     },
     "metadata": {},
     "output_type": "display_data"
    },
    {
     "data": {
      "text/latex": [
       "Calculated st_Weyl_down4: $C_{\\alpha\\beta\\mu\\nu}$ Weyl tensor of spacetime metric with spacetime indices down"
      ],
      "text/plain": [
       "<IPython.core.display.Latex object>"
      ]
     },
     "metadata": {},
     "output_type": "display_data"
    },
    {
     "data": {
      "text/latex": [
       "Calculated Weyl_Psi: $\\Psi_0, \\; \\Psi_1, \\; \\Psi_2, \\; \\Psi_3, \\; \\Psi_4$ List of Weyl scalars for an null vector base defined with AurelCore.tetrad_to_use"
      ],
      "text/plain": [
       "<IPython.core.display.Latex object>"
      ]
     },
     "metadata": {},
     "output_type": "display_data"
    },
    {
     "name": "stdout",
     "output_type": "stream",
     "text": [
      "input data shape: (72, 72, 72)\n",
      "shift: [0, 0, 0]\n",
      "reflect: [False, False, False]\n",
      "rotate: False\n",
      "output data shape: (72, 72, 72)\n",
      "len x, y, z: 72 72 72\n",
      "input data shape: (72, 72, 72)\n",
      "shift: [0, 0, 0]\n",
      "reflect: [False, False, False]\n",
      "rotate: False\n",
      "output data shape: (72, 72, 72)\n",
      "len x, y, z: 72 72 72\n"
     ]
    },
    {
     "data": {
      "text/latex": [
       "WARNING: using ``spinsfast``, outputs from this code may differ from others as different codes use different normalisations, integration schemes, conventions..."
      ],
      "text/plain": [
       "<IPython.core.display.Latex object>"
      ]
     },
     "metadata": {},
     "output_type": "display_data"
    },
    {
     "data": {
      "text/latex": [
       "Calculated Psi4_lm: $\\Psi_4^{l,m}$ Dictionary of spin weighted spherical harmonic decomposition of the 4th Weyl scalar, with AurelCore.Psi4_lm_radius and AurelCore.Psi4_lm_lmax. ``spinsfast`` is used for the decomposition."
      ],
      "text/plain": [
       "<IPython.core.display.Latex object>"
      ]
     },
     "metadata": {},
     "output_type": "display_data"
    },
    {
     "data": {
      "text/latex": [
       "WARNING: I'm not switching Psi0 and Psi4 here, so the invariants are not correct if Psi4 = 0.Same for Psi1 and Psi3."
      ],
      "text/plain": [
       "<IPython.core.display.Latex object>"
      ]
     },
     "metadata": {},
     "output_type": "display_data"
    },
    {
     "data": {
      "text/latex": [
       "Calculated Weyl_invariants: $I, \\; J, \\; L, \\; K, \\; N$ Dictionary of Weyl invariants"
      ],
      "text/plain": [
       "<IPython.core.display.Latex object>"
      ]
     },
     "metadata": {},
     "output_type": "display_data"
    },
    {
     "data": {
      "text/latex": [
       "Calculated eweyl_u_down4: $E^{\\{u\\}}_{\\alpha\\beta}$ Electric part of the Weyl tensor on the hypersurface orthogonal to $u^{\\mu}$ with spacetime indices down"
      ],
      "text/plain": [
       "<IPython.core.display.Latex object>"
      ]
     },
     "metadata": {},
     "output_type": "display_data"
    },
    {
     "data": {
      "text/latex": [
       "Calculated eweyl_n_down3: $E^{\\{n\\}}_{ij}$ Electric part of the Weyl tensor on the hypersurface orthogonal to $n^{\\mu}$ with spatial indices down"
      ],
      "text/plain": [
       "<IPython.core.display.Latex object>"
      ]
     },
     "metadata": {},
     "output_type": "display_data"
    },
    {
     "data": {
      "text/latex": [
       "Calculated bweyl_u_down4: $B^{\\{u\\}}_{\\alpha\\beta}$ Magnetic part of the Weyl tensor on the hypersurface orthogonal to $u^{\\mu}$ with spacetime indices down"
      ],
      "text/plain": [
       "<IPython.core.display.Latex object>"
      ]
     },
     "metadata": {},
     "output_type": "display_data"
    },
    {
     "data": {
      "text/latex": [
       "Calculated bweyl_n_down3: $B^{\\{n\\}}_{ij}$ Magnetic part of the Weyl tensor on the hypersurface orthogonal to $n^{\\mu}$ with spatial indices down"
      ],
      "text/plain": [
       "<IPython.core.display.Latex object>"
      ]
     },
     "metadata": {},
     "output_type": "display_data"
    }
   ],
   "source": [
    "for i in aurel.descriptions:\n",
    "    try:\n",
    "        output = rel[i]\n",
    "    except:\n",
    "        print(f\"❌ {i} - Could not calculate.\")\n",
    "        break\n",
    "output = rel[i]"
   ]
  },
  {
   "cell_type": "code",
   "execution_count": null,
   "metadata": {},
   "outputs": [],
   "source": []
  },
  {
   "cell_type": "code",
   "execution_count": null,
   "metadata": {},
   "outputs": [],
   "source": []
  }
 ],
 "metadata": {
  "kernelspec": {
   "display_name": "Python 3",
   "language": "python",
   "name": "python3"
  },
  "language_info": {
   "codemirror_mode": {
    "name": "ipython",
    "version": 3
   },
   "file_extension": ".py",
   "mimetype": "text/x-python",
   "name": "python",
   "nbconvert_exporter": "python",
   "pygments_lexer": "ipython3",
   "version": "3.12.4"
  }
 },
 "nbformat": 4,
 "nbformat_minor": 2
}
