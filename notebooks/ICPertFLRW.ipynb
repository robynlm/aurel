{
 "cells": [
  {
   "cell_type": "code",
   "execution_count": 1,
   "metadata": {},
   "outputs": [],
   "source": [
    "import numpy as np\n",
    "import matplotlib.pyplot as plt\n",
    "\n",
    "import aurel\n",
    "from aurel.solutions import LCDM as sol\n",
    "#from aurel.solutions import EdS as sol\n",
    "from aurel.solutions import ICPertFLRW as IC"
   ]
  },
  {
   "cell_type": "code",
   "execution_count": 2,
   "metadata": {},
   "outputs": [
    {
     "name": "stdout",
     "output_type": "stream",
     "text": [
      "4th order finite difference schemes are defined\n"
     ]
    },
    {
     "data": {
      "text/latex": [
       "Setting Cosmological constant $\\Lambda$ to 0.0, if not then redefine AurelCore.Lambda"
      ],
      "text/plain": [
       "<IPython.core.display.Latex object>"
      ]
     },
     "metadata": {},
     "output_type": "display_data"
    }
   ],
   "source": [
    "# Define grid and classes\n",
    "L = 1821\n",
    "N = 64\n",
    "grid = {\n",
    "    't': 1.0,\n",
    "    'Lx' : L, 'Ly' : L, 'Lz' : L,\n",
    "    'xmin': -L / 2, 'ymin': -L / 2, 'zmin': -L / 2,\n",
    "    'Nx' : N, 'Ny' : N, 'Nz' : N,\n",
    "    'dx' : L / N, 'dy' : L / N, 'dz' : L / N,\n",
    "}\n",
    "fd = aurel.FiniteDifference(grid)\n",
    "rel = aurel.AurelCore(fd)\n",
    "rel.Lambda = sol.Lambda # redefine the cosmological constant to match"
   ]
  },
  {
   "cell_type": "code",
   "execution_count": 3,
   "metadata": {},
   "outputs": [],
   "source": [
    "# Define perturbation amplitude and wavelength\n",
    "amp = [0.01138486133517004756]*3\n",
    "lamb = [L]*3\n",
    "\n",
    "# Define initial conditions\n",
    "Rc = IC.Rc_func(fd.x, fd.y, fd.z, amp, lamb)\n",
    "rel.data[\"gammadown3\"] = IC.gammadown3(sol, fd, grid['t'], Rc)\n",
    "rel.data[\"Kdown3\"] = IC.Kdown3(sol, fd, grid['t'], Rc)"
   ]
  },
  {
   "cell_type": "code",
   "execution_count": 4,
   "metadata": {},
   "outputs": [
    {
     "data": {
      "text/latex": [
       "Calculated gammaup3: $\\gamma^{ij}$ Spatial metric with spatial indices up"
      ],
      "text/plain": [
       "<IPython.core.display.Latex object>"
      ]
     },
     "metadata": {},
     "output_type": "display_data"
    },
    {
     "data": {
      "text/latex": [
       "Calculated s_Gamma_udd3: ${}^{(3)}{\\Gamma^{k}}_{ij}$ Christoffel symbols of spatial metric with mixed spatial indices"
      ],
      "text/plain": [
       "<IPython.core.display.Latex object>"
      ]
     },
     "metadata": {},
     "output_type": "display_data"
    },
    {
     "data": {
      "text/latex": [
       "Calculated s_Ricci_down3: ${}^{(3)}R_{ij}$ Ricci tensor of spatial metric with spatial indices down"
      ],
      "text/plain": [
       "<IPython.core.display.Latex object>"
      ]
     },
     "metadata": {},
     "output_type": "display_data"
    },
    {
     "data": {
      "text/latex": [
       "Calculated s_RicciS: ${}^{(3)}R$ Ricci scalar of spatial metric"
      ],
      "text/plain": [
       "<IPython.core.display.Latex object>"
      ]
     },
     "metadata": {},
     "output_type": "display_data"
    },
    {
     "data": {
      "text/latex": [
       "Calculated Ktrace: $K = \\gamma^{ij}K_{ij}$ Trace of extrinsic curvature"
      ],
      "text/plain": [
       "<IPython.core.display.Latex object>"
      ]
     },
     "metadata": {},
     "output_type": "display_data"
    },
    {
     "data": {
      "text/latex": [
       "Calculated Kup3: $K^{ij}$ Extrinsic curvature with spatial indices up"
      ],
      "text/plain": [
       "<IPython.core.display.Latex object>"
      ]
     },
     "metadata": {},
     "output_type": "display_data"
    },
    {
     "data": {
      "text/latex": [
       "Calculated rho_n_fromHam: $\\rho^{\\{n\\}}$ Energy density in the $n^\\mu$ frame computed from the Hamiltonian constraint"
      ],
      "text/plain": [
       "<IPython.core.display.Latex object>"
      ]
     },
     "metadata": {},
     "output_type": "display_data"
    },
    {
     "data": {
      "text/plain": [
       "Text(0, 0.5, 'y/L')"
      ]
     },
     "execution_count": 4,
     "metadata": {},
     "output_type": "execute_result"
    },
    {
     "data": {
      "image/png": "[encoded data removed]",
      "text/plain": [
       "<Figure size 640x480 with 2 Axes>"
      ]
     },
     "metadata": {},
     "output_type": "display_data"
    }
   ],
   "source": [
    "# Calculate nonlinear density contrast\n",
    "delta = rel[\"rho_n_fromHam\"] / sol.rho(grid['t']) - 1\n",
    "\n",
    "# and plot\n",
    "plt.rcParams.update({\n",
    "    \"text.usetex\": True,\n",
    "    \"font.family\": \"lmodern\",\n",
    "    'font.size': 16.0,\n",
    "})\n",
    "plt.figure()\n",
    "plt.pcolor(fd.xarray/L, fd.yarray/L, delta[:, :, int(N/4)], cmap='inferno')\n",
    "plt.colorbar(extend='both')\n",
    "plt.gca().set_aspect(\"equal\")\n",
    "plt.title(r\"Initial $\\delta$ at z/L = 0.25\")\n",
    "plt.xlabel(\"x/L\")\n",
    "plt.ylabel(\"y/L\")"
   ]
  },
  {
   "cell_type": "code",
   "execution_count": null,
   "metadata": {},
   "outputs": [],
   "source": []
  }
 ],
 "metadata": {
  "kernelspec": {
   "display_name": "Python 3",
   "language": "python",
   "name": "python3"
  },
  "language_info": {
   "codemirror_mode": {
    "name": "ipython",
    "version": 3
   },
   "file_extension": ".py",
   "mimetype": "text/x-python",
   "name": "python",
   "nbconvert_exporter": "python",
   "pygments_lexer": "ipython3",
   "version": "3.12.4"
  }
 },
 "nbformat": 4,
 "nbformat_minor": 2
}
