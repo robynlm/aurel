{
 "cells": [
  {
   "cell_type": "code",
   "execution_count": 1,
   "id": "43b4c787",
   "metadata": {},
   "outputs": [
    {
     "name": "stdout",
     "output_type": "stream",
     "text": [
      "[CpuDevice(id=0)]\n"
     ]
    }
   ],
   "source": [
    "import jax\n",
    "jax.config.update('jax_num_cpu_devices', 1)\n",
    "jax.config.update(\"jax_enable_x64\", True)\n",
    "print(jax.devices())\n",
    "\n",
    "import numpy as np\n",
    "import matplotlib.pyplot as plt\n",
    "import sympy as sp\n",
    "\n",
    "# Import the module\n",
    "import aurel\n",
    "from aurel.solutions import Schwarzschild_isotropic as sol"
   ]
  },
  {
   "cell_type": "code",
   "execution_count": 2,
   "id": "ba13eb78",
   "metadata": {},
   "outputs": [
    {
     "name": "stdout",
     "output_type": "stream",
     "text": [
      " *** N =  32\n",
      "8th order finite difference schemes are defined\n"
     ]
    },
    {
     "data": {
      "text/latex": [
       "Setting Cosmological constant $\\Lambda$ to 0.0, if not then redefine AurelCore.Lambda"
      ],
      "text/plain": [
       "<IPython.core.display.Latex object>"
      ]
     },
     "metadata": {},
     "output_type": "display_data"
    },
    {
     "data": {
      "text/latex": [
       "Calculated gammaup3: $\\gamma^{ij}$ Spatial metric with spatial indices up"
      ],
      "text/plain": [
       "<IPython.core.display.Latex object>"
      ]
     },
     "metadata": {},
     "output_type": "display_data"
    },
    {
     "data": {
      "text/latex": [
       "Calculated s_Gamma_udd3: ${}^{(3)}{\\Gamma^{k}}_{ij}$ Christoffel symbols of spatial metric with mixed spatial indices"
      ],
      "text/plain": [
       "<IPython.core.display.Latex object>"
      ]
     },
     "metadata": {},
     "output_type": "display_data"
    },
    {
     "data": {
      "text/latex": [
       "Calculated s_Ricci_down3: ${}^{(3)}R_{ij}$ Ricci tensor of spatial metric with spatial indices down"
      ],
      "text/plain": [
       "<IPython.core.display.Latex object>"
      ]
     },
     "metadata": {},
     "output_type": "display_data"
    },
    {
     "data": {
      "text/latex": [
       "Calculated s_RicciS: ${}^{(3)}R$ Ricci scalar of spatial metric"
      ],
      "text/plain": [
       "<IPython.core.display.Latex object>"
      ]
     },
     "metadata": {},
     "output_type": "display_data"
    },
    {
     "data": {
      "text/latex": [
       "Calculated s_Riemann_uddd3: ${}^{(3)}{R^{i}}_{jkl}$ Riemann tensor of spatial metric with mixed spatial indices"
      ],
      "text/plain": [
       "<IPython.core.display.Latex object>"
      ]
     },
     "metadata": {},
     "output_type": "display_data"
    },
    {
     "data": {
      "text/latex": [
       "Calculated s_Riemann_down3: ${}^{(3)}R_{ijkl}$ Riemann tensor of spatial metric with all spatial indices down"
      ],
      "text/plain": [
       "<IPython.core.display.Latex object>"
      ]
     },
     "metadata": {},
     "output_type": "display_data"
    },
    {
     "data": {
      "text/latex": [
       "I assume $\\beta^i=0$, if not then please define AurelCore.data['betaup3'] = ... "
      ],
      "text/plain": [
       "<IPython.core.display.Latex object>"
      ]
     },
     "metadata": {},
     "output_type": "display_data"
    },
    {
     "data": {
      "text/latex": [
       "Calculated betaup3: $\\beta^{i}$ Shift vector with spatial indices up (need to input or I assume =0)"
      ],
      "text/plain": [
       "<IPython.core.display.Latex object>"
      ]
     },
     "metadata": {},
     "output_type": "display_data"
    },
    {
     "data": {
      "text/latex": [
       "Calculated betadown3: $\\beta_{i}$ Shift vector with spatial indices down"
      ],
      "text/plain": [
       "<IPython.core.display.Latex object>"
      ]
     },
     "metadata": {},
     "output_type": "display_data"
    },
    {
     "data": {
      "text/latex": [
       "Calculated gdown4: $g_{\\mu\\nu}$ Spacetime metric with spacetime indices down"
      ],
      "text/plain": [
       "<IPython.core.display.Latex object>"
      ]
     },
     "metadata": {},
     "output_type": "display_data"
    },
    {
     "data": {
      "text/latex": [
       "Calculated gup4: $g^{\\mu\\nu}$ Spacetime metric with spacetime indices up"
      ],
      "text/plain": [
       "<IPython.core.display.Latex object>"
      ]
     },
     "metadata": {},
     "output_type": "display_data"
    },
    {
     "data": {
      "text/latex": [
       "Calculated st_Ricci_down3: ${}^{(4)}R_{ij}$ Ricci tensor of spacetime metric with spatial indices down"
      ],
      "text/plain": [
       "<IPython.core.display.Latex object>"
      ]
     },
     "metadata": {},
     "output_type": "display_data"
    },
    {
     "data": {
      "text/latex": [
       "Calculated Ktrace: $K = \\gamma^{ij}K_{ij}$ Trace of extrinsic curvature"
      ],
      "text/plain": [
       "<IPython.core.display.Latex object>"
      ]
     },
     "metadata": {},
     "output_type": "display_data"
    },
    {
     "data": {
      "text/latex": [
       "Calculated st_Riemann_down4: ${}^{(4)}R_{\\alpha\\beta\\mu\\nu}$ Riemann tensor of spacetime metric with spacetime indices down"
      ],
      "text/plain": [
       "<IPython.core.display.Latex object>"
      ]
     },
     "metadata": {},
     "output_type": "display_data"
    },
    {
     "data": {
      "text/latex": [
       "Calculated st_Riemann_uudd4: ${}^{(4)}{R^{\\alpha\\beta}}_{\\mu\\nu}$ Riemann tensor of spacetime metric with mixed spacetime indices"
      ],
      "text/plain": [
       "<IPython.core.display.Latex object>"
      ]
     },
     "metadata": {},
     "output_type": "display_data"
    },
    {
     "data": {
      "text/latex": [
       "Calculated Kretschmann: $K={R^{\\alpha\\beta}}_{\\mu\\nu}{R_{\\alpha\\beta}}^{\\mu\\nu}$ Kretschmann scalar"
      ],
      "text/plain": [
       "<IPython.core.display.Latex object>"
      ]
     },
     "metadata": {},
     "output_type": "display_data"
    },
    {
     "data": {
      "text/latex": [
       "Calculated null_ray_exp: $\\Theta_{out}, \\; \\Theta_{in}$ List of expansion of null rays radially going out and in respectively"
      ],
      "text/plain": [
       "<IPython.core.display.Latex object>"
      ]
     },
     "metadata": {},
     "output_type": "display_data"
    },
    {
     "name": "stdout",
     "output_type": "stream",
     "text": [
      " *** N =  64\n",
      "8th order finite difference schemes are defined\n"
     ]
    },
    {
     "data": {
      "text/latex": [
       "Setting Cosmological constant $\\Lambda$ to 0.0, if not then redefine AurelCore.Lambda"
      ],
      "text/plain": [
       "<IPython.core.display.Latex object>"
      ]
     },
     "metadata": {},
     "output_type": "display_data"
    },
    {
     "data": {
      "text/latex": [
       "Calculated gammaup3: $\\gamma^{ij}$ Spatial metric with spatial indices up"
      ],
      "text/plain": [
       "<IPython.core.display.Latex object>"
      ]
     },
     "metadata": {},
     "output_type": "display_data"
    },
    {
     "data": {
      "text/latex": [
       "Calculated s_Gamma_udd3: ${}^{(3)}{\\Gamma^{k}}_{ij}$ Christoffel symbols of spatial metric with mixed spatial indices"
      ],
      "text/plain": [
       "<IPython.core.display.Latex object>"
      ]
     },
     "metadata": {},
     "output_type": "display_data"
    },
    {
     "data": {
      "text/latex": [
       "Calculated s_Ricci_down3: ${}^{(3)}R_{ij}$ Ricci tensor of spatial metric with spatial indices down"
      ],
      "text/plain": [
       "<IPython.core.display.Latex object>"
      ]
     },
     "metadata": {},
     "output_type": "display_data"
    },
    {
     "data": {
      "text/latex": [
       "Calculated s_RicciS: ${}^{(3)}R$ Ricci scalar of spatial metric"
      ],
      "text/plain": [
       "<IPython.core.display.Latex object>"
      ]
     },
     "metadata": {},
     "output_type": "display_data"
    },
    {
     "data": {
      "text/latex": [
       "Calculated s_Riemann_uddd3: ${}^{(3)}{R^{i}}_{jkl}$ Riemann tensor of spatial metric with mixed spatial indices"
      ],
      "text/plain": [
       "<IPython.core.display.Latex object>"
      ]
     },
     "metadata": {},
     "output_type": "display_data"
    },
    {
     "data": {
      "text/latex": [
       "Calculated s_Riemann_down3: ${}^{(3)}R_{ijkl}$ Riemann tensor of spatial metric with all spatial indices down"
      ],
      "text/plain": [
       "<IPython.core.display.Latex object>"
      ]
     },
     "metadata": {},
     "output_type": "display_data"
    },
    {
     "data": {
      "text/latex": [
       "I assume $\\beta^i=0$, if not then please define AurelCore.data['betaup3'] = ... "
      ],
      "text/plain": [
       "<IPython.core.display.Latex object>"
      ]
     },
     "metadata": {},
     "output_type": "display_data"
    },
    {
     "data": {
      "text/latex": [
       "Calculated betaup3: $\\beta^{i}$ Shift vector with spatial indices up (need to input or I assume =0)"
      ],
      "text/plain": [
       "<IPython.core.display.Latex object>"
      ]
     },
     "metadata": {},
     "output_type": "display_data"
    },
    {
     "data": {
      "text/latex": [
       "Calculated betadown3: $\\beta_{i}$ Shift vector with spatial indices down"
      ],
      "text/plain": [
       "<IPython.core.display.Latex object>"
      ]
     },
     "metadata": {},
     "output_type": "display_data"
    },
    {
     "data": {
      "text/latex": [
       "Calculated gdown4: $g_{\\mu\\nu}$ Spacetime metric with spacetime indices down"
      ],
      "text/plain": [
       "<IPython.core.display.Latex object>"
      ]
     },
     "metadata": {},
     "output_type": "display_data"
    },
    {
     "data": {
      "text/latex": [
       "Calculated gup4: $g^{\\mu\\nu}$ Spacetime metric with spacetime indices up"
      ],
      "text/plain": [
       "<IPython.core.display.Latex object>"
      ]
     },
     "metadata": {},
     "output_type": "display_data"
    },
    {
     "data": {
      "text/latex": [
       "Calculated st_Ricci_down3: ${}^{(4)}R_{ij}$ Ricci tensor of spacetime metric with spatial indices down"
      ],
      "text/plain": [
       "<IPython.core.display.Latex object>"
      ]
     },
     "metadata": {},
     "output_type": "display_data"
    },
    {
     "data": {
      "text/latex": [
       "Calculated Ktrace: $K = \\gamma^{ij}K_{ij}$ Trace of extrinsic curvature"
      ],
      "text/plain": [
       "<IPython.core.display.Latex object>"
      ]
     },
     "metadata": {},
     "output_type": "display_data"
    },
    {
     "data": {
      "text/latex": [
       "Calculated st_Riemann_down4: ${}^{(4)}R_{\\alpha\\beta\\mu\\nu}$ Riemann tensor of spacetime metric with spacetime indices down"
      ],
      "text/plain": [
       "<IPython.core.display.Latex object>"
      ]
     },
     "metadata": {},
     "output_type": "display_data"
    },
    {
     "data": {
      "text/latex": [
       "Calculated st_Riemann_uudd4: ${}^{(4)}{R^{\\alpha\\beta}}_{\\mu\\nu}$ Riemann tensor of spacetime metric with mixed spacetime indices"
      ],
      "text/plain": [
       "<IPython.core.display.Latex object>"
      ]
     },
     "metadata": {},
     "output_type": "display_data"
    },
    {
     "data": {
      "text/latex": [
       "Calculated Kretschmann: $K={R^{\\alpha\\beta}}_{\\mu\\nu}{R_{\\alpha\\beta}}^{\\mu\\nu}$ Kretschmann scalar"
      ],
      "text/plain": [
       "<IPython.core.display.Latex object>"
      ]
     },
     "metadata": {},
     "output_type": "display_data"
    },
    {
     "data": {
      "text/latex": [
       "Calculated null_ray_exp: $\\Theta_{out}, \\; \\Theta_{in}$ List of expansion of null rays radially going out and in respectively"
      ],
      "text/plain": [
       "<IPython.core.display.Latex object>"
      ]
     },
     "metadata": {},
     "output_type": "display_data"
    },
    {
     "name": "stdout",
     "output_type": "stream",
     "text": [
      " *** N =  96\n",
      "8th order finite difference schemes are defined\n"
     ]
    },
    {
     "data": {
      "text/latex": [
       "Setting Cosmological constant $\\Lambda$ to 0.0, if not then redefine AurelCore.Lambda"
      ],
      "text/plain": [
       "<IPython.core.display.Latex object>"
      ]
     },
     "metadata": {},
     "output_type": "display_data"
    },
    {
     "data": {
      "text/latex": [
       "Calculated gammaup3: $\\gamma^{ij}$ Spatial metric with spatial indices up"
      ],
      "text/plain": [
       "<IPython.core.display.Latex object>"
      ]
     },
     "metadata": {},
     "output_type": "display_data"
    },
    {
     "data": {
      "text/latex": [
       "Calculated s_Gamma_udd3: ${}^{(3)}{\\Gamma^{k}}_{ij}$ Christoffel symbols of spatial metric with mixed spatial indices"
      ],
      "text/plain": [
       "<IPython.core.display.Latex object>"
      ]
     },
     "metadata": {},
     "output_type": "display_data"
    },
    {
     "data": {
      "text/latex": [
       "Calculated s_Ricci_down3: ${}^{(3)}R_{ij}$ Ricci tensor of spatial metric with spatial indices down"
      ],
      "text/plain": [
       "<IPython.core.display.Latex object>"
      ]
     },
     "metadata": {},
     "output_type": "display_data"
    },
    {
     "data": {
      "text/latex": [
       "Calculated s_RicciS: ${}^{(3)}R$ Ricci scalar of spatial metric"
      ],
      "text/plain": [
       "<IPython.core.display.Latex object>"
      ]
     },
     "metadata": {},
     "output_type": "display_data"
    },
    {
     "data": {
      "text/latex": [
       "Calculated s_Riemann_uddd3: ${}^{(3)}{R^{i}}_{jkl}$ Riemann tensor of spatial metric with mixed spatial indices"
      ],
      "text/plain": [
       "<IPython.core.display.Latex object>"
      ]
     },
     "metadata": {},
     "output_type": "display_data"
    },
    {
     "data": {
      "text/latex": [
       "Calculated s_Riemann_down3: ${}^{(3)}R_{ijkl}$ Riemann tensor of spatial metric with all spatial indices down"
      ],
      "text/plain": [
       "<IPython.core.display.Latex object>"
      ]
     },
     "metadata": {},
     "output_type": "display_data"
    },
    {
     "data": {
      "text/latex": [
       "I assume $\\beta^i=0$, if not then please define AurelCore.data['betaup3'] = ... "
      ],
      "text/plain": [
       "<IPython.core.display.Latex object>"
      ]
     },
     "metadata": {},
     "output_type": "display_data"
    },
    {
     "data": {
      "text/latex": [
       "Calculated betaup3: $\\beta^{i}$ Shift vector with spatial indices up (need to input or I assume =0)"
      ],
      "text/plain": [
       "<IPython.core.display.Latex object>"
      ]
     },
     "metadata": {},
     "output_type": "display_data"
    },
    {
     "data": {
      "text/latex": [
       "Calculated betadown3: $\\beta_{i}$ Shift vector with spatial indices down"
      ],
      "text/plain": [
       "<IPython.core.display.Latex object>"
      ]
     },
     "metadata": {},
     "output_type": "display_data"
    },
    {
     "data": {
      "text/latex": [
       "Calculated gdown4: $g_{\\mu\\nu}$ Spacetime metric with spacetime indices down"
      ],
      "text/plain": [
       "<IPython.core.display.Latex object>"
      ]
     },
     "metadata": {},
     "output_type": "display_data"
    },
    {
     "data": {
      "text/latex": [
       "Calculated gup4: $g^{\\mu\\nu}$ Spacetime metric with spacetime indices up"
      ],
      "text/plain": [
       "<IPython.core.display.Latex object>"
      ]
     },
     "metadata": {},
     "output_type": "display_data"
    },
    {
     "data": {
      "text/latex": [
       "Calculated st_Ricci_down3: ${}^{(4)}R_{ij}$ Ricci tensor of spacetime metric with spatial indices down"
      ],
      "text/plain": [
       "<IPython.core.display.Latex object>"
      ]
     },
     "metadata": {},
     "output_type": "display_data"
    },
    {
     "data": {
      "text/latex": [
       "Calculated Ktrace: $K = \\gamma^{ij}K_{ij}$ Trace of extrinsic curvature"
      ],
      "text/plain": [
       "<IPython.core.display.Latex object>"
      ]
     },
     "metadata": {},
     "output_type": "display_data"
    },
    {
     "data": {
      "text/latex": [
       "Calculated st_Riemann_down4: ${}^{(4)}R_{\\alpha\\beta\\mu\\nu}$ Riemann tensor of spacetime metric with spacetime indices down"
      ],
      "text/plain": [
       "<IPython.core.display.Latex object>"
      ]
     },
     "metadata": {},
     "output_type": "display_data"
    },
    {
     "data": {
      "text/latex": [
       "Calculated st_Riemann_uudd4: ${}^{(4)}{R^{\\alpha\\beta}}_{\\mu\\nu}$ Riemann tensor of spacetime metric with mixed spacetime indices"
      ],
      "text/plain": [
       "<IPython.core.display.Latex object>"
      ]
     },
     "metadata": {},
     "output_type": "display_data"
    },
    {
     "data": {
      "text/latex": [
       "Calculated Kretschmann: $K={R^{\\alpha\\beta}}_{\\mu\\nu}{R_{\\alpha\\beta}}^{\\mu\\nu}$ Kretschmann scalar"
      ],
      "text/plain": [
       "<IPython.core.display.Latex object>"
      ]
     },
     "metadata": {},
     "output_type": "display_data"
    },
    {
     "data": {
      "text/latex": [
       "Calculated null_ray_exp: $\\Theta_{out}, \\; \\Theta_{in}$ List of expansion of null rays radially going out and in respectively"
      ],
      "text/plain": [
       "<IPython.core.display.Latex object>"
      ]
     },
     "metadata": {},
     "output_type": "display_data"
    },
    {
     "name": "stdout",
     "output_type": "stream",
     "text": [
      " *** N =  128\n",
      "8th order finite difference schemes are defined\n"
     ]
    },
    {
     "data": {
      "text/latex": [
       "Setting Cosmological constant $\\Lambda$ to 0.0, if not then redefine AurelCore.Lambda"
      ],
      "text/plain": [
       "<IPython.core.display.Latex object>"
      ]
     },
     "metadata": {},
     "output_type": "display_data"
    },
    {
     "data": {
      "text/latex": [
       "Calculated gammaup3: $\\gamma^{ij}$ Spatial metric with spatial indices up"
      ],
      "text/plain": [
       "<IPython.core.display.Latex object>"
      ]
     },
     "metadata": {},
     "output_type": "display_data"
    },
    {
     "data": {
      "text/latex": [
       "Calculated s_Gamma_udd3: ${}^{(3)}{\\Gamma^{k}}_{ij}$ Christoffel symbols of spatial metric with mixed spatial indices"
      ],
      "text/plain": [
       "<IPython.core.display.Latex object>"
      ]
     },
     "metadata": {},
     "output_type": "display_data"
    },
    {
     "data": {
      "text/latex": [
       "Calculated s_Ricci_down3: ${}^{(3)}R_{ij}$ Ricci tensor of spatial metric with spatial indices down"
      ],
      "text/plain": [
       "<IPython.core.display.Latex object>"
      ]
     },
     "metadata": {},
     "output_type": "display_data"
    },
    {
     "data": {
      "text/latex": [
       "Calculated s_RicciS: ${}^{(3)}R$ Ricci scalar of spatial metric"
      ],
      "text/plain": [
       "<IPython.core.display.Latex object>"
      ]
     },
     "metadata": {},
     "output_type": "display_data"
    },
    {
     "data": {
      "text/latex": [
       "Calculated s_Riemann_uddd3: ${}^{(3)}{R^{i}}_{jkl}$ Riemann tensor of spatial metric with mixed spatial indices"
      ],
      "text/plain": [
       "<IPython.core.display.Latex object>"
      ]
     },
     "metadata": {},
     "output_type": "display_data"
    },
    {
     "data": {
      "text/latex": [
       "Calculated s_Riemann_down3: ${}^{(3)}R_{ijkl}$ Riemann tensor of spatial metric with all spatial indices down"
      ],
      "text/plain": [
       "<IPython.core.display.Latex object>"
      ]
     },
     "metadata": {},
     "output_type": "display_data"
    },
    {
     "data": {
      "text/latex": [
       "I assume $\\beta^i=0$, if not then please define AurelCore.data['betaup3'] = ... "
      ],
      "text/plain": [
       "<IPython.core.display.Latex object>"
      ]
     },
     "metadata": {},
     "output_type": "display_data"
    },
    {
     "data": {
      "text/latex": [
       "Calculated betaup3: $\\beta^{i}$ Shift vector with spatial indices up (need to input or I assume =0)"
      ],
      "text/plain": [
       "<IPython.core.display.Latex object>"
      ]
     },
     "metadata": {},
     "output_type": "display_data"
    },
    {
     "data": {
      "text/latex": [
       "Calculated betadown3: $\\beta_{i}$ Shift vector with spatial indices down"
      ],
      "text/plain": [
       "<IPython.core.display.Latex object>"
      ]
     },
     "metadata": {},
     "output_type": "display_data"
    },
    {
     "data": {
      "text/latex": [
       "Calculated gdown4: $g_{\\mu\\nu}$ Spacetime metric with spacetime indices down"
      ],
      "text/plain": [
       "<IPython.core.display.Latex object>"
      ]
     },
     "metadata": {},
     "output_type": "display_data"
    },
    {
     "data": {
      "text/latex": [
       "Calculated gup4: $g^{\\mu\\nu}$ Spacetime metric with spacetime indices up"
      ],
      "text/plain": [
       "<IPython.core.display.Latex object>"
      ]
     },
     "metadata": {},
     "output_type": "display_data"
    },
    {
     "data": {
      "text/latex": [
       "Calculated st_Ricci_down3: ${}^{(4)}R_{ij}$ Ricci tensor of spacetime metric with spatial indices down"
      ],
      "text/plain": [
       "<IPython.core.display.Latex object>"
      ]
     },
     "metadata": {},
     "output_type": "display_data"
    },
    {
     "data": {
      "text/latex": [
       "Calculated Ktrace: $K = \\gamma^{ij}K_{ij}$ Trace of extrinsic curvature"
      ],
      "text/plain": [
       "<IPython.core.display.Latex object>"
      ]
     },
     "metadata": {},
     "output_type": "display_data"
    },
    {
     "data": {
      "text/latex": [
       "Calculated st_Riemann_down4: ${}^{(4)}R_{\\alpha\\beta\\mu\\nu}$ Riemann tensor of spacetime metric with spacetime indices down"
      ],
      "text/plain": [
       "<IPython.core.display.Latex object>"
      ]
     },
     "metadata": {},
     "output_type": "display_data"
    },
    {
     "data": {
      "text/latex": [
       "Calculated st_Riemann_uudd4: ${}^{(4)}{R^{\\alpha\\beta}}_{\\mu\\nu}$ Riemann tensor of spacetime metric with mixed spacetime indices"
      ],
      "text/plain": [
       "<IPython.core.display.Latex object>"
      ]
     },
     "metadata": {},
     "output_type": "display_data"
    },
    {
     "data": {
      "text/latex": [
       "Calculated Kretschmann: $K={R^{\\alpha\\beta}}_{\\mu\\nu}{R_{\\alpha\\beta}}^{\\mu\\nu}$ Kretschmann scalar"
      ],
      "text/plain": [
       "<IPython.core.display.Latex object>"
      ]
     },
     "metadata": {},
     "output_type": "display_data"
    },
    {
     "data": {
      "text/latex": [
       "Calculated null_ray_exp: $\\Theta_{out}, \\; \\Theta_{in}$ List of expansion of null rays radially going out and in respectively"
      ],
      "text/plain": [
       "<IPython.core.display.Latex object>"
      ]
     },
     "metadata": {},
     "output_type": "display_data"
    },
    {
     "name": "stdout",
     "output_type": "stream",
     "text": [
      " *** N =  144\n",
      "8th order finite difference schemes are defined\n"
     ]
    },
    {
     "data": {
      "text/latex": [
       "Setting Cosmological constant $\\Lambda$ to 0.0, if not then redefine AurelCore.Lambda"
      ],
      "text/plain": [
       "<IPython.core.display.Latex object>"
      ]
     },
     "metadata": {},
     "output_type": "display_data"
    },
    {
     "data": {
      "text/latex": [
       "Calculated gammaup3: $\\gamma^{ij}$ Spatial metric with spatial indices up"
      ],
      "text/plain": [
       "<IPython.core.display.Latex object>"
      ]
     },
     "metadata": {},
     "output_type": "display_data"
    },
    {
     "data": {
      "text/latex": [
       "Calculated s_Gamma_udd3: ${}^{(3)}{\\Gamma^{k}}_{ij}$ Christoffel symbols of spatial metric with mixed spatial indices"
      ],
      "text/plain": [
       "<IPython.core.display.Latex object>"
      ]
     },
     "metadata": {},
     "output_type": "display_data"
    },
    {
     "data": {
      "text/latex": [
       "Calculated s_Ricci_down3: ${}^{(3)}R_{ij}$ Ricci tensor of spatial metric with spatial indices down"
      ],
      "text/plain": [
       "<IPython.core.display.Latex object>"
      ]
     },
     "metadata": {},
     "output_type": "display_data"
    },
    {
     "data": {
      "text/latex": [
       "Calculated s_RicciS: ${}^{(3)}R$ Ricci scalar of spatial metric"
      ],
      "text/plain": [
       "<IPython.core.display.Latex object>"
      ]
     },
     "metadata": {},
     "output_type": "display_data"
    },
    {
     "data": {
      "text/latex": [
       "Calculated s_Riemann_uddd3: ${}^{(3)}{R^{i}}_{jkl}$ Riemann tensor of spatial metric with mixed spatial indices"
      ],
      "text/plain": [
       "<IPython.core.display.Latex object>"
      ]
     },
     "metadata": {},
     "output_type": "display_data"
    },
    {
     "data": {
      "text/latex": [
       "Calculated s_Riemann_down3: ${}^{(3)}R_{ijkl}$ Riemann tensor of spatial metric with all spatial indices down"
      ],
      "text/plain": [
       "<IPython.core.display.Latex object>"
      ]
     },
     "metadata": {},
     "output_type": "display_data"
    },
    {
     "data": {
      "text/latex": [
       "I assume $\\beta^i=0$, if not then please define AurelCore.data['betaup3'] = ... "
      ],
      "text/plain": [
       "<IPython.core.display.Latex object>"
      ]
     },
     "metadata": {},
     "output_type": "display_data"
    },
    {
     "data": {
      "text/latex": [
       "Calculated betaup3: $\\beta^{i}$ Shift vector with spatial indices up (need to input or I assume =0)"
      ],
      "text/plain": [
       "<IPython.core.display.Latex object>"
      ]
     },
     "metadata": {},
     "output_type": "display_data"
    },
    {
     "data": {
      "text/latex": [
       "Calculated betadown3: $\\beta_{i}$ Shift vector with spatial indices down"
      ],
      "text/plain": [
       "<IPython.core.display.Latex object>"
      ]
     },
     "metadata": {},
     "output_type": "display_data"
    },
    {
     "data": {
      "text/latex": [
       "Calculated gdown4: $g_{\\mu\\nu}$ Spacetime metric with spacetime indices down"
      ],
      "text/plain": [
       "<IPython.core.display.Latex object>"
      ]
     },
     "metadata": {},
     "output_type": "display_data"
    },
    {
     "data": {
      "text/latex": [
       "Calculated gup4: $g^{\\mu\\nu}$ Spacetime metric with spacetime indices up"
      ],
      "text/plain": [
       "<IPython.core.display.Latex object>"
      ]
     },
     "metadata": {},
     "output_type": "display_data"
    },
    {
     "data": {
      "text/latex": [
       "Calculated st_Ricci_down3: ${}^{(4)}R_{ij}$ Ricci tensor of spacetime metric with spatial indices down"
      ],
      "text/plain": [
       "<IPython.core.display.Latex object>"
      ]
     },
     "metadata": {},
     "output_type": "display_data"
    },
    {
     "data": {
      "text/latex": [
       "Calculated Ktrace: $K = \\gamma^{ij}K_{ij}$ Trace of extrinsic curvature"
      ],
      "text/plain": [
       "<IPython.core.display.Latex object>"
      ]
     },
     "metadata": {},
     "output_type": "display_data"
    },
    {
     "data": {
      "text/latex": [
       "Calculated st_Riemann_down4: ${}^{(4)}R_{\\alpha\\beta\\mu\\nu}$ Riemann tensor of spacetime metric with spacetime indices down"
      ],
      "text/plain": [
       "<IPython.core.display.Latex object>"
      ]
     },
     "metadata": {},
     "output_type": "display_data"
    },
    {
     "data": {
      "text/latex": [
       "Calculated st_Riemann_uudd4: ${}^{(4)}{R^{\\alpha\\beta}}_{\\mu\\nu}$ Riemann tensor of spacetime metric with mixed spacetime indices"
      ],
      "text/plain": [
       "<IPython.core.display.Latex object>"
      ]
     },
     "metadata": {},
     "output_type": "display_data"
    },
    {
     "data": {
      "text/latex": [
       "Calculated Kretschmann: $K={R^{\\alpha\\beta}}_{\\mu\\nu}{R_{\\alpha\\beta}}^{\\mu\\nu}$ Kretschmann scalar"
      ],
      "text/plain": [
       "<IPython.core.display.Latex object>"
      ]
     },
     "metadata": {},
     "output_type": "display_data"
    },
    {
     "data": {
      "text/latex": [
       "Calculated null_ray_exp: $\\Theta_{out}, \\; \\Theta_{in}$ List of expansion of null rays radially going out and in respectively"
      ],
      "text/plain": [
       "<IPython.core.display.Latex object>"
      ]
     },
     "metadata": {},
     "output_type": "display_data"
    },
    {
     "name": "stdout",
     "output_type": "stream",
     "text": [
      " *** N =  192\n",
      "8th order finite difference schemes are defined\n"
     ]
    },
    {
     "data": {
      "text/latex": [
       "Setting Cosmological constant $\\Lambda$ to 0.0, if not then redefine AurelCore.Lambda"
      ],
      "text/plain": [
       "<IPython.core.display.Latex object>"
      ]
     },
     "metadata": {},
     "output_type": "display_data"
    },
    {
     "data": {
      "text/latex": [
       "Calculated gammaup3: $\\gamma^{ij}$ Spatial metric with spatial indices up"
      ],
      "text/plain": [
       "<IPython.core.display.Latex object>"
      ]
     },
     "metadata": {},
     "output_type": "display_data"
    },
    {
     "data": {
      "text/latex": [
       "Calculated s_Gamma_udd3: ${}^{(3)}{\\Gamma^{k}}_{ij}$ Christoffel symbols of spatial metric with mixed spatial indices"
      ],
      "text/plain": [
       "<IPython.core.display.Latex object>"
      ]
     },
     "metadata": {},
     "output_type": "display_data"
    },
    {
     "data": {
      "text/latex": [
       "Calculated s_Ricci_down3: ${}^{(3)}R_{ij}$ Ricci tensor of spatial metric with spatial indices down"
      ],
      "text/plain": [
       "<IPython.core.display.Latex object>"
      ]
     },
     "metadata": {},
     "output_type": "display_data"
    },
    {
     "data": {
      "text/latex": [
       "Calculated s_RicciS: ${}^{(3)}R$ Ricci scalar of spatial metric"
      ],
      "text/plain": [
       "<IPython.core.display.Latex object>"
      ]
     },
     "metadata": {},
     "output_type": "display_data"
    },
    {
     "data": {
      "text/latex": [
       "Calculated s_Riemann_uddd3: ${}^{(3)}{R^{i}}_{jkl}$ Riemann tensor of spatial metric with mixed spatial indices"
      ],
      "text/plain": [
       "<IPython.core.display.Latex object>"
      ]
     },
     "metadata": {},
     "output_type": "display_data"
    },
    {
     "data": {
      "text/latex": [
       "Calculated s_Riemann_down3: ${}^{(3)}R_{ijkl}$ Riemann tensor of spatial metric with all spatial indices down"
      ],
      "text/plain": [
       "<IPython.core.display.Latex object>"
      ]
     },
     "metadata": {},
     "output_type": "display_data"
    },
    {
     "data": {
      "text/latex": [
       "I assume $\\beta^i=0$, if not then please define AurelCore.data['betaup3'] = ... "
      ],
      "text/plain": [
       "<IPython.core.display.Latex object>"
      ]
     },
     "metadata": {},
     "output_type": "display_data"
    },
    {
     "data": {
      "text/latex": [
       "Calculated betaup3: $\\beta^{i}$ Shift vector with spatial indices up (need to input or I assume =0)"
      ],
      "text/plain": [
       "<IPython.core.display.Latex object>"
      ]
     },
     "metadata": {},
     "output_type": "display_data"
    },
    {
     "data": {
      "text/latex": [
       "Calculated betadown3: $\\beta_{i}$ Shift vector with spatial indices down"
      ],
      "text/plain": [
       "<IPython.core.display.Latex object>"
      ]
     },
     "metadata": {},
     "output_type": "display_data"
    },
    {
     "data": {
      "text/latex": [
       "Calculated gdown4: $g_{\\mu\\nu}$ Spacetime metric with spacetime indices down"
      ],
      "text/plain": [
       "<IPython.core.display.Latex object>"
      ]
     },
     "metadata": {},
     "output_type": "display_data"
    },
    {
     "data": {
      "text/latex": [
       "Calculated gup4: $g^{\\mu\\nu}$ Spacetime metric with spacetime indices up"
      ],
      "text/plain": [
       "<IPython.core.display.Latex object>"
      ]
     },
     "metadata": {},
     "output_type": "display_data"
    },
    {
     "data": {
      "text/latex": [
       "Calculated st_Ricci_down3: ${}^{(4)}R_{ij}$ Ricci tensor of spacetime metric with spatial indices down"
      ],
      "text/plain": [
       "<IPython.core.display.Latex object>"
      ]
     },
     "metadata": {},
     "output_type": "display_data"
    },
    {
     "data": {
      "text/latex": [
       "Calculated Ktrace: $K = \\gamma^{ij}K_{ij}$ Trace of extrinsic curvature"
      ],
      "text/plain": [
       "<IPython.core.display.Latex object>"
      ]
     },
     "metadata": {},
     "output_type": "display_data"
    },
    {
     "data": {
      "text/latex": [
       "Calculated st_Riemann_down4: ${}^{(4)}R_{\\alpha\\beta\\mu\\nu}$ Riemann tensor of spacetime metric with spacetime indices down"
      ],
      "text/plain": [
       "<IPython.core.display.Latex object>"
      ]
     },
     "metadata": {},
     "output_type": "display_data"
    },
    {
     "data": {
      "text/latex": [
       "Calculated st_Riemann_uudd4: ${}^{(4)}{R^{\\alpha\\beta}}_{\\mu\\nu}$ Riemann tensor of spacetime metric with mixed spacetime indices"
      ],
      "text/plain": [
       "<IPython.core.display.Latex object>"
      ]
     },
     "metadata": {},
     "output_type": "display_data"
    },
    {
     "data": {
      "text/latex": [
       "Calculated Kretschmann: $K={R^{\\alpha\\beta}}_{\\mu\\nu}{R_{\\alpha\\beta}}^{\\mu\\nu}$ Kretschmann scalar"
      ],
      "text/plain": [
       "<IPython.core.display.Latex object>"
      ]
     },
     "metadata": {},
     "output_type": "display_data"
    },
    {
     "data": {
      "text/latex": [
       "Calculated null_ray_exp: $\\Theta_{out}, \\; \\Theta_{in}$ List of expansion of null rays radially going out and in respectively"
      ],
      "text/plain": [
       "<IPython.core.display.Latex object>"
      ]
     },
     "metadata": {},
     "output_type": "display_data"
    }
   ],
   "source": [
    "L = 10\n",
    "nt = 0.0\n",
    "NRerror = []\n",
    "NKerror = []\n",
    "NNerror = []\n",
    "allN = [32, 64, 96, 128, 144, 192]\n",
    "for N in allN:\n",
    "    print(\" *** N = \", N)\n",
    "    dx = 2*L / N\n",
    "    param = { 'Nx': N, 'Ny': N, 'Nz': N, \n",
    "            'xmin': -L+0.01, 'ymin': -L+0.01, 'zmin': -L+0.01, \n",
    "            'dx': dx, 'dy': dx, 'dz': dx}\n",
    "    fd = aurel.FiniteDifference(param, fd_order=8)\n",
    "    rel = aurel.AurelCore(fd)\n",
    "    rel.data = sol.data(nt, fd.x, fd.y, fd.z)\n",
    "    rel.freeze_data()\n",
    "    rel.memory_threshold_inGB = 20\n",
    "\n",
    "    R_numerical = rel[\"s_RicciS\"]\n",
    "    Rerror = abs(R_numerical)\n",
    "    NRerror += [np.nanmedian(fd.excision2(Rerror))]\n",
    "\n",
    "    K_numerical = rel[\"Kretschmann\"].block_until_ready()\n",
    "    K_exact = sol.Kretschmann(nt, fd.x, fd.y, fd.z)\n",
    "    Kerror = abs((K_numerical - K_exact) / K_exact)\n",
    "    NKerror += [np.nanmedian(fd.excision2(Kerror))]\n",
    "\n",
    "    N_numerical = rel[\"null_ray_exp\"][0]\n",
    "    N_exact = sol.null_ray_exp_out(nt, fd.x, fd.y, fd.z)\n",
    "    Nerror = abs((N_numerical - N_exact) / N_exact)\n",
    "    NNerror += [np.nanmedian(fd.excision2(Nerror))]\n",
    "    \n",
    "    if N != allN[-1]:\n",
    "        del fd, rel"
   ]
  },
  {
   "cell_type": "code",
   "execution_count": 3,
   "id": "f1f65e86",
   "metadata": {},
   "outputs": [
    {
     "data": {
      "text/plain": [
       "Text(0.5, 1.0, '8th order FD with excision')"
      ]
     },
     "execution_count": 3,
     "metadata": {},
     "output_type": "execute_result"
    },
    {
     "data": {
      "image/png": "[encoded data removed]",
      "text/plain": [
       "<Figure size 640x480 with 1 Axes>"
      ]
     },
     "metadata": {},
     "output_type": "display_data"
    }
   ],
   "source": [
    "plt.figure()\n",
    "\n",
    "plt.loglog(allN, NRerror, 'o-', color='C0', label='3 Ricci scalar')\n",
    "order = 8\n",
    "ical = -3\n",
    "converge = [NRerror[ical]*((allN[ical]/allN[i])**(order))for i in range(len(allN))]\n",
    "plt.loglog(allN, converge, '--', color='C0', label='{}th order'.format(order))\n",
    "\n",
    "plt.loglog(allN, NKerror, 'o-', color='C1', label='Kretschmann')\n",
    "order = 8\n",
    "ical = -3\n",
    "converge = [NKerror[ical]*((allN[ical]/allN[i])**(order))for i in range(len(allN))]\n",
    "plt.loglog(allN, converge, '--', color='C1', label='{}th order'.format(order))\n",
    "\n",
    "plt.loglog(allN, NNerror, 'o-', color='C2', label=r'$\\Theta_{out}$')\n",
    "order = 8\n",
    "ical = -3\n",
    "converge = [NNerror[ical]*((allN[ical]/allN[i])**(order))for i in range(len(allN))]\n",
    "plt.loglog(allN, converge, '--', color='C2', label='{}th order'.format(order))\n",
    "\n",
    "plt.grid()\n",
    "plt.xlabel('N')\n",
    "plt.ylabel('Error')\n",
    "plt.legend()\n",
    "plt.title('8th order FD with excision')"
   ]
  },
  {
   "cell_type": "markdown",
   "id": "d90ee9d1",
   "metadata": {},
   "source": [
    "This shows better than 8th order convergence and a transition from truncation error (from the finite differencing) to floating point noise (from the number of digits stored)."
   ]
  },
  {
   "cell_type": "code",
   "execution_count": null,
   "id": "f728277d",
   "metadata": {},
   "outputs": [],
   "source": []
  }
 ],
 "metadata": {
  "kernelspec": {
   "display_name": "Python 3",
   "language": "python",
   "name": "python3"
  },
  "language_info": {
   "codemirror_mode": {
    "name": "ipython",
    "version": 3
   },
   "file_extension": ".py",
   "mimetype": "text/x-python",
   "name": "python",
   "nbconvert_exporter": "python",
   "pygments_lexer": "ipython3",
   "version": "3.12.4"
  }
 },
 "nbformat": 4,
 "nbformat_minor": 5
}
