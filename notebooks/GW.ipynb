{
 "cells": [
  {
   "cell_type": "code",
   "execution_count": 1,
   "id": "593f39ed",
   "metadata": {},
   "outputs": [],
   "source": [
    "import aurel\n",
    "import numpy as np\n",
    "from aurel.solutions import Conformally_flat as sol\n",
    "from scipy.interpolate import RegularGridInterpolator\n",
    "import spinsfast"
   ]
  },
  {
   "cell_type": "code",
   "execution_count": null,
   "id": "d30dcbf5",
   "metadata": {},
   "outputs": [
    {
     "name": "stdout",
     "output_type": "stream",
     "text": [
      "4th order finite difference schemes are defined\n"
     ]
    },
    {
     "data": {
      "text/latex": [
       "Setting Cosmological constant $\\Lambda$ to 0.0, if not then redefine AurelCore.Lambda"
      ],
      "text/plain": [
       "<IPython.core.display.Latex object>"
      ]
     },
     "metadata": {},
     "output_type": "display_data"
    }
   ],
   "source": [
    "L = 3\n",
    "N = 72\n",
    "param = { 'Nx': N, 'Ny': N, 'Nz': N, \n",
    "          'xmin': -L/2, 'ymin': -L/2, 'zmin': -L/2, \n",
    "          'dx': L/N, 'dy': L/N, 'dz': L/N}\n",
    "t = 0.0\n",
    "fd = aurel.FiniteDifference(param)\n",
    "rel = aurel.AurelCore(fd, verbose=False)\n",
    "rel.data = sol.data(t, fd.x, fd.y, fd.z)\n",
    "rel.freeze_data()"
   ]
  },
  {
   "cell_type": "code",
   "execution_count": 16,
   "id": "1a198098",
   "metadata": {},
   "outputs": [],
   "source": [
    "def Psi4_lm(r_sphere):\n",
    "    lmax = 8\n",
    "    Ntheta = 2*lmax + 1\n",
    "    Nphi = 2*lmax + 1\n",
    "\n",
    "    theta = np.linspace(0, np.pi, Ntheta)\n",
    "    phi = np.linspace(0, 2*np.pi, Nphi, endpoint=False)\n",
    "    theta_sphere, phi_sphere = np.meshgrid(theta, phi, indexing='ij')\n",
    "\n",
    "    x_sphere = r_sphere * np.sin(theta_sphere) * np.cos(phi_sphere)\n",
    "    y_sphere = r_sphere * np.sin(theta_sphere) * np.sin(phi_sphere)\n",
    "    z_sphere = r_sphere * np.cos(theta_sphere)\n",
    "    points_sphere = np.stack(\n",
    "        (x_sphere.flatten(), y_sphere.flatten(), z_sphere.flatten()), axis=-1)\n",
    "\n",
    "    # Psi4 on a sphere\n",
    "    # sphere around the origin with radius 1\n",
    "    Psi4 = rel['Weyl_Psi'][4]\n",
    "    interp_real = RegularGridInterpolator(\n",
    "        (fd.xarray, fd.yarray, fd.zarray), np.real(Psi4), \n",
    "        bounds_error=False, fill_value=0)\n",
    "    interp_imag = RegularGridInterpolator(\n",
    "        (fd.xarray, fd.yarray, fd.zarray), np.imag(Psi4), \n",
    "        bounds_error=False, fill_value=0)\n",
    "    psi4_sphere = interp_real(points_sphere) + 1j * interp_imag(points_sphere)\n",
    "    psi4_sphere = psi4_sphere.reshape(Ntheta, Nphi)\n",
    "\n",
    "    # lm mode of Psi4\n",
    "    alm = spinsfast.map2salm(theta_sphere, -2, lmax)\n",
    "    lm_dict = {}\n",
    "    for l in range(lmax + 1):\n",
    "        for m in range(-l, l + 1):\n",
    "            lm_dict[l, m] = alm[l**2 + m + l]\n",
    "    return lm_dict"
   ]
  },
  {
   "cell_type": "code",
   "execution_count": 19,
   "id": "c0ff8f72",
   "metadata": {},
   "outputs": [
    {
     "data": {
      "text/plain": [
       "{(0, 0): np.complex128(-0+0j),\n",
       " (1, -1): np.complex128(0j),\n",
       " (1, 0): np.complex128(-0+0j),\n",
       " (1, 1): np.complex128(-0j),\n",
       " (2, -2): np.complex128(2.80553942438068e-17+0j),\n",
       " (2, -1): np.complex128(8.546044971242637e-17-3.28919271857445e-33j),\n",
       " (2, 0): np.complex128(5.083164752420469-6.225081443590376e-16j),\n",
       " (2, 1): np.complex128(6.730885007874829e-17-1.0420684579357859e-32j),\n",
       " (2, 2): np.complex128(2.6485213187778702e-17-6.487006311029691e-33j),\n",
       " (3, -3): np.complex128(7.361752683005684e-18-1.3096990393221705e-33j),\n",
       " (3, -2): np.complex128(2.9131792499469056e-17+0j),\n",
       " (3, -1): np.complex128(-1.9636941574675802e-17+1.6569689295569014e-33j),\n",
       " (3, 0): np.complex128(-1.8912420850118556+2.3161035658225354e-16j),\n",
       " (3, 1): np.complex128(-1.432159185088158e-17+2.1762806954981552e-33j),\n",
       " (3, 2): np.complex128(-4.2492517690426484e-17+1.0407665155458615e-32j),\n",
       " (3, 3): np.complex128(-2.9729471923690708e-18+2.670678948082261e-33j),\n",
       " (4, -4): np.complex128(1.4428388171575308e-17+1.7669679391175233e-33j),\n",
       " (4, -3): np.complex128(-2.817214691875817e-17-2.3348933853885864e-33j),\n",
       " (4, -2): np.complex128(5.2050450722426635e-17+0j),\n",
       " (4, -1): np.complex128(9.051816871659714e-17-4.8511378836565144e-33j),\n",
       " (4, 0): np.complex128(1.7608599228871045-2.1564314683105477e-16j),\n",
       " (4, 1): np.complex128(1.2390826669451015e-17-1.5846565374134025e-33j),\n",
       " (4, 2): np.complex128(1.95101197942863e-17-4.7786011514108266e-33j),\n",
       " (4, 3): np.complex128(-9.082363906974153e-20-5.8204018821186066e-34j),\n",
       " (4, 4): np.complex128(9.21349013539422e-18-3.384981360985873e-33j),\n",
       " (5, -5): np.complex128(9.771787425197788e-18+1.3632602164910746e-33j),\n",
       " (5, -4): np.complex128(6.687305320757061e-18+8.189587055986198e-34j),\n",
       " (5, -3): np.complex128(5.0576464049310575e-17+2.3245093625369686e-33j),\n",
       " (5, -2): np.complex128(-6.009144739165389e-17+0j),\n",
       " (5, -1): np.complex128(-1.0315568538532584e-17+8.70016028607934e-34j),\n",
       " (5, 0): np.complex128(-1.0454431923205787+1.2802986591657875e-16j),\n",
       " (5, 1): np.complex128(-8.437692581217075e-17+1.5261420188662308e-32j),\n",
       " (5, 2): np.complex128(1.7747735241406117e-17-4.3469414311005355e-33j),\n",
       " (5, 3): np.complex128(2.712635237992156e-17-7.53264427568153e-33j),\n",
       " (5, 4): np.complex128(-8.662535996769865e-18+3.1825640942828826e-33j),\n",
       " (5, 5): np.complex128(-4.6590452698836315e-18+2.4287777192374115e-33j),\n",
       " (6, -6): np.complex128(-1.9295756753091725e-19-4.72609734895994e-35j),\n",
       " (6, -5): np.complex128(7.300224651421306e-18+1.2623975306963667e-33j),\n",
       " (6, -4): np.complex128(-5.5983235143537685e-18-6.855968972444704e-34j),\n",
       " (6, -3): np.complex128(-1.4313071638646885e-17-1.243712358975887e-33j),\n",
       " (6, -2): np.complex128(3.3222070029969945e-17+0j),\n",
       " (6, -1): np.complex128(-3.457467619682955e-17+2.5042454437420044e-33j),\n",
       " (6, 0): np.complex128(0.9796520237939416-1.1997277152174772e-16j),\n",
       " (6, 1): np.complex128(6.461514738231438e-17-1.1482452895786037e-32j),\n",
       " (6, 2): np.complex128(-3.696101269949582e-17+9.052837179136446e-33j),\n",
       " (6, 3): np.complex128(-6.6901171062143644e-18+1.68096813444749e-33j),\n",
       " (6, 4): np.complex128(1.0287300374925957e-17-3.7794928428061315e-33j),\n",
       " (6, 5): np.complex128(9.822816573996893e-18-4.288950288751492e-33j),\n",
       " (6, 6): np.complex128(5.144385256855893e-18-2.5200219753557617e-33j),\n",
       " (7, -7): np.complex128(1.00852265943597e-18+3.1336810445068254e-34j),\n",
       " (7, -6): np.complex128(1.4213634662040934e-17+3.4813364386236597e-33j),\n",
       " (7, -5): np.complex128(-7.935405769281495e-18-1.674568209991176e-33j),\n",
       " (7, -4): np.complex128(-4.579749298709743e-19-5.608575319562223e-35j),\n",
       " (7, -3): np.complex128(1.1348937039899597e-17-3.576327180290208e-34j),\n",
       " (7, -2): np.complex128(-1.3905953107201482e-18+1.6455280546162012e-33j),\n",
       " (7, -1): np.complex128(-5.332409981797584e-17+3.416159810993548e-33j),\n",
       " (7, 0): np.complex128(-0.6826826020592945+4.479244940414707e-17j),\n",
       " (7, 1): np.complex128(3.330521774758713e-17-6.269069649441874e-33j),\n",
       " (7, 2): np.complex128(2.8180421337065075e-17-5.256684503195903e-33j),\n",
       " (7, 3): np.complex128(-2.4168481323120894e-17+8.452018012164062e-33j),\n",
       " (7, 4): np.complex128(-8.975360029001345e-18+3.297493779213477e-33j),\n",
       " (7, 5): np.complex128(-1.1169968938347392e-17+5.0046011661211454e-33j),\n",
       " (7, 6): np.complex128(-3.718430359776598e-18+1.821505535181101e-33j),\n",
       " (7, 7): np.complex128(3.827983903568815e-18-2.1141647983761363e-33j),\n",
       " (8, -8): np.complex128(3.2540360130633455e-18+1.1857254783775555e-33j),\n",
       " (8, -7): np.complex128(-2.686441844699253e-18-7.001361273651539e-34j),\n",
       " (8, -6): np.complex128(-9.321511699878743e-18-2.283111893294221e-33j),\n",
       " (8, -5): np.complex128(-9.666636328544807e-18-1.8336386257976782e-33j),\n",
       " (8, -4): np.complex128(1.5427630621483767e-17+1.8893398459027788e-33j),\n",
       " (8, -3): np.complex128(-3.586988006976613e-17-1.4748606000285782e-33j),\n",
       " (8, -2): np.complex128(-5.455290979325683e-18-1.751798387086683e-33j),\n",
       " (8, -1): np.complex128(1.078108008322288e-16-6.345273396966857e-33j),\n",
       " (8, 0): np.complex128(0.6467910432458791-7.920905808282431e-17j),\n",
       " (8, 1): np.complex128(-3.684200107739314e-17+7.024000014710159e-33j),\n",
       " (8, 2): np.complex128(-8.634670874759829e-18+3.866682796779783e-33j),\n",
       " (8, 3): np.complex128(6.0083497380585385e-18-1.1179904780844585e-33j),\n",
       " (8, 4): np.complex128(-6.7629282643036684e-18+2.4846595355227956e-33j),\n",
       " (8, 5): np.complex128(-7.682227624229053e-18+3.2348990745601296e-33j),\n",
       " (8, 6): np.complex128(1.3277014393060726e-18-6.503861271478062e-34j),\n",
       " (8, 7): np.complex128(6.372410079164773e-18-3.389428748650103e-33j),\n",
       " (8, 8): np.complex128(3.463097585059432e-18-2.1107477284040643e-33j)}"
      ]
     },
     "execution_count": 19,
     "metadata": {},
     "output_type": "execute_result"
    }
   ],
   "source": [
    "Psi4_lm(1)"
   ]
  },
  {
   "cell_type": "code",
   "execution_count": null,
   "id": "22dd75fe",
   "metadata": {},
   "outputs": [],
   "source": []
  }
 ],
 "metadata": {
  "kernelspec": {
   "display_name": "Python 3",
   "language": "python",
   "name": "python3"
  },
  "language_info": {
   "codemirror_mode": {
    "name": "ipython",
    "version": 3
   },
   "file_extension": ".py",
   "mimetype": "text/x-python",
   "name": "python",
   "nbconvert_exporter": "python",
   "pygments_lexer": "ipython3",
   "version": "3.12.4"
  }
 },
 "nbformat": 4,
 "nbformat_minor": 5
}
