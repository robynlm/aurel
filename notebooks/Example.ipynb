{
 "cells": [
  {
   "cell_type": "code",
   "execution_count": 1,
   "id": "5765ddeb",
   "metadata": {},
   "outputs": [],
   "source": [
    "import numpy as np\n",
    "import matplotlib.pyplot as plt\n",
    "\n",
    "import aurel"
   ]
  },
  {
   "cell_type": "markdown",
   "id": "f665cee1",
   "metadata": {
    "vscode": {
     "languageId": "markdown"
    }
   },
   "source": [
    "# Table of Contents\n",
    "\n",
    " - [Quick Demonstration](#Quick-demonstration)  \n",
    "     - [Conformally Flat Metric](#Conformally-Flat-Metric)  \n",
    "        - [Accessing Variables](#Accessing-Variables)  \n",
    " - [In-depth Demonstration](#In-depth-Demonstration)  \n",
    "        - [Documentation](#Documentation)  \n",
    "        - [Grid and finite difference setup](#Grid-and-Finite-Difference-Setup)  \n",
    "        - [aurel: Automatic Relativity](#aurel:-Automatic-Relativity)  \n",
    "     - [Minkowski Metric](#Minkowski-Metric)  \n",
    "        - [Assumed variables](#Assumed-variables)  \n",
    "     - [Harvey Tsoubelis metric](#Harvey-Tsoubelis-Metric)  \n",
    "        - [Weyl Scalars and Petrov Classification](#Weyl-Scalars-and-Petrov-Classification)  \n",
    "        - [Cache Management](#Cache-Management)  "
   ]
  },
  {
   "cell_type": "markdown",
   "id": "bde149cf",
   "metadata": {},
   "source": [
    "# Quick demonstration"
   ]
  },
  {
   "cell_type": "code",
   "execution_count": 2,
   "id": "6c0f6fce",
   "metadata": {},
   "outputs": [
    {
     "name": "stdout",
     "output_type": "stream",
     "text": [
      "4th order finite difference schemes are defined\n"
     ]
    },
    {
     "data": {
      "text/latex": [
       "Setting Cosmological constant $\\Lambda$ to 0.0, if not then redefine AurelCore.Lambda"
      ],
      "text/plain": [
       "<IPython.core.display.Latex object>"
      ]
     },
     "metadata": {},
     "output_type": "display_data"
    },
    {
     "name": "stdout",
     "output_type": "stream",
     "text": [
      "dict_keys([])\n"
     ]
    }
   ],
   "source": [
    "# Define the grid parameters\n",
    "L = 3\n",
    "N = 72\n",
    "param = { 'Nx': N, 'Ny': N, 'Nz': N, \n",
    "          'xmin': -L/2, 'ymin': -L/2, 'zmin': -L/2, \n",
    "          'dx': L/N, 'dy': L/N, 'dz': L/N}\n",
    "t = 0.0\n",
    "\n",
    "# Define the finite difference and aurel classes\n",
    "fd = aurel.FiniteDifference(param)\n",
    "rel = aurel.AurelCore(fd)\n",
    "print(rel.data.keys())"
   ]
  },
  {
   "cell_type": "markdown",
   "id": "4fab36ad",
   "metadata": {},
   "source": [
    "At this point the data dictionary is empty so there is nothing to compute from."
   ]
  },
  {
   "cell_type": "markdown",
   "id": "1f13a406",
   "metadata": {},
   "source": [
    "## Conformally flat metric"
   ]
  },
  {
   "cell_type": "markdown",
   "id": "0e17a1d1",
   "metadata": {},
   "source": [
    "The user needs to input the spacetime and matter distribution. \n",
    "For an easy example we use a conformally flat metric:\n",
    "$$\n",
    "ds^2 = \\Omega(x)^2 \\left[- dt^2 + dx^2 + dy^2 + dz^2\\right]\n",
    "$$\n",
    "where $\\Omega(x) = 1 + x^2$."
   ]
  },
  {
   "cell_type": "code",
   "execution_count": 3,
   "id": "36eaefb8",
   "metadata": {},
   "outputs": [
    {
     "name": "stdout",
     "output_type": "stream",
     "text": [
      "dict_keys(['gammadown3', 'alpha', 'Kdown3', 'Tdown4'])\n"
     ]
    }
   ],
   "source": [
    "from aurel.solutions import Conformally_flat as sol\n",
    "rel.data = sol.data(t, fd.x, fd.y, fd.z)\n",
    "\"\"\"\n",
    "Om2 = ( 1 + fd.x**2 )**2\n",
    "Box0 = np.zeros_like(fd.x)\n",
    "rel[\"gammadown3\"] = np.array([  Om2, zeros, zeros],\n",
    "                             [zeros,   Om2, zeros],\n",
    "                             [zeros, zeros,   Om2])\n",
    "\"\"\"\n",
    "rel.freeze_data()\n",
    "print(rel.data.keys())"
   ]
  },
  {
   "cell_type": "markdown",
   "id": "1f9e6733",
   "metadata": {},
   "source": [
    "### Accessing Variables"
   ]
  },
  {
   "cell_type": "code",
   "execution_count": 4,
   "id": "d59fd22c",
   "metadata": {},
   "outputs": [
    {
     "name": "stdout",
     "output_type": "stream",
     "text": [
      " -  alpha was part of the input data\n",
      " *****************************************************\n",
      " - Calculations for rho_n\n"
     ]
    },
    {
     "data": {
      "text/latex": [
       "I assume $\\beta^i=0$, if not then please define AurelCore.data['betaup3'] = ... "
      ],
      "text/plain": [
       "<IPython.core.display.Latex object>"
      ]
     },
     "metadata": {},
     "output_type": "display_data"
    },
    {
     "data": {
      "text/latex": [
       "Calculated betaup3: $\\beta^{i}$ Shift vector with spatial indices up (need to input or I assume =0)"
      ],
      "text/plain": [
       "<IPython.core.display.Latex object>"
      ]
     },
     "metadata": {},
     "output_type": "display_data"
    },
    {
     "data": {
      "text/latex": [
       "Calculated nup4: $n^{\\mu}$ Timelike vector normal to the spatial metric with spacetime indices up"
      ],
      "text/plain": [
       "<IPython.core.display.Latex object>"
      ]
     },
     "metadata": {},
     "output_type": "display_data"
    },
    {
     "data": {
      "text/latex": [
       "Calculated rho_n: $\\rho^{\\{n\\}}$ Energy density in the $n^\\mu$ frame"
      ],
      "text/plain": [
       "<IPython.core.display.Latex object>"
      ]
     },
     "metadata": {},
     "output_type": "display_data"
    },
    {
     "name": "stdout",
     "output_type": "stream",
     "text": [
      " *****************************************************\n",
      " - Calculations for press_n\n"
     ]
    },
    {
     "data": {
      "text/latex": [
       "Calculated gammaup3: $\\gamma^{ij}$ Spatial metric with spatial indices up"
      ],
      "text/plain": [
       "<IPython.core.display.Latex object>"
      ]
     },
     "metadata": {},
     "output_type": "display_data"
    },
    {
     "data": {
      "text/latex": [
       "Calculated press_n: $p^{\\{n\\}}$ Pressure in the $n^\\mu$ frame"
      ],
      "text/plain": [
       "<IPython.core.display.Latex object>"
      ]
     },
     "metadata": {},
     "output_type": "display_data"
    },
    {
     "name": "stdout",
     "output_type": "stream",
     "text": [
      " *****************************************************\n",
      " - Calculations for s_RicciS\n"
     ]
    },
    {
     "data": {
      "text/latex": [
       "Calculated s_Gamma_udd3: ${}^{(3)}{\\Gamma^{k}}_{ij}$ Christoffel symbols of spatial metric with mixed spatial indices"
      ],
      "text/plain": [
       "<IPython.core.display.Latex object>"
      ]
     },
     "metadata": {},
     "output_type": "display_data"
    },
    {
     "data": {
      "text/latex": [
       "Calculated s_Ricci_down3: ${}^{(3)}R_{ij}$ Ricci tensor of spatial metric with spatial indices down"
      ],
      "text/plain": [
       "<IPython.core.display.Latex object>"
      ]
     },
     "metadata": {},
     "output_type": "display_data"
    },
    {
     "data": {
      "text/latex": [
       "Calculated s_RicciS: ${}^{(3)}R$ Ricci scalar of spatial metric"
      ],
      "text/plain": [
       "<IPython.core.display.Latex object>"
      ]
     },
     "metadata": {},
     "output_type": "display_data"
    },
    {
     "name": "stdout",
     "output_type": "stream",
     "text": [
      " *****************************************************\n",
      " - Calculations for null_ray_exp\n"
     ]
    },
    {
     "data": {
      "text/latex": [
       "Calculated Ktrace: $K = \\gamma^{ij}K_{ij}$ Trace of extrinsic curvature"
      ],
      "text/plain": [
       "<IPython.core.display.Latex object>"
      ]
     },
     "metadata": {},
     "output_type": "display_data"
    },
    {
     "data": {
      "text/latex": [
       "Calculated null_ray_exp: $\\Theta_{out}, \\; \\Theta_{in}$ List of expansion of null rays radially going out and in respectively"
      ],
      "text/plain": [
       "<IPython.core.display.Latex object>"
      ]
     },
     "metadata": {},
     "output_type": "display_data"
    },
    {
     "name": "stdout",
     "output_type": "stream",
     "text": [
      " *****************************************************\n",
      " - Calculations for Kretschmann\n"
     ]
    },
    {
     "data": {
      "text/latex": [
       "Calculated s_Riemann_uddd3: ${}^{(3)}{R^{i}}_{jkl}$ Riemann tensor of spatial metric with mixed spatial indices"
      ],
      "text/plain": [
       "<IPython.core.display.Latex object>"
      ]
     },
     "metadata": {},
     "output_type": "display_data"
    },
    {
     "data": {
      "text/latex": [
       "Calculated s_Riemann_down3: ${}^{(3)}R_{ijkl}$ Riemann tensor of spatial metric with all spatial indices down"
      ],
      "text/plain": [
       "<IPython.core.display.Latex object>"
      ]
     },
     "metadata": {},
     "output_type": "display_data"
    },
    {
     "data": {
      "text/latex": [
       "Calculated betadown3: $\\beta_{i}$ Shift vector with spatial indices down"
      ],
      "text/plain": [
       "<IPython.core.display.Latex object>"
      ]
     },
     "metadata": {},
     "output_type": "display_data"
    },
    {
     "data": {
      "text/latex": [
       "Calculated gdown4: $g_{\\mu\\nu}$ Spacetime metric with spacetime indices down"
      ],
      "text/plain": [
       "<IPython.core.display.Latex object>"
      ]
     },
     "metadata": {},
     "output_type": "display_data"
    },
    {
     "data": {
      "text/latex": [
       "Calculated gup4: $g^{\\mu\\nu}$ Spacetime metric with spacetime indices up"
      ],
      "text/plain": [
       "<IPython.core.display.Latex object>"
      ]
     },
     "metadata": {},
     "output_type": "display_data"
    },
    {
     "data": {
      "text/latex": [
       "Calculated st_Ricci_down3: ${}^{(4)}R_{ij}$ Ricci tensor of spacetime metric with spatial indices down"
      ],
      "text/plain": [
       "<IPython.core.display.Latex object>"
      ]
     },
     "metadata": {},
     "output_type": "display_data"
    },
    {
     "data": {
      "text/latex": [
       "Calculated st_Riemann_down4: ${}^{(4)}R_{\\alpha\\beta\\mu\\nu}$ Riemann tensor of spacetime metric with spacetime indices down"
      ],
      "text/plain": [
       "<IPython.core.display.Latex object>"
      ]
     },
     "metadata": {},
     "output_type": "display_data"
    },
    {
     "data": {
      "text/latex": [
       "Calculated st_Riemann_uudd4: ${}^{(4)}{R^{\\alpha\\beta}}_{\\mu\\nu}$ Riemann tensor of spacetime metric with mixed spacetime indices"
      ],
      "text/plain": [
       "<IPython.core.display.Latex object>"
      ]
     },
     "metadata": {},
     "output_type": "display_data"
    },
    {
     "data": {
      "text/latex": [
       "Calculated Kretschmann: $K={R^{\\alpha\\beta}}_{\\mu\\nu}{R_{\\alpha\\beta}}^{\\mu\\nu}$ Kretschmann scalar"
      ],
      "text/plain": [
       "<IPython.core.display.Latex object>"
      ]
     },
     "metadata": {},
     "output_type": "display_data"
    },
    {
     "name": "stdout",
     "output_type": "stream",
     "text": [
      " *****************************************************\n"
     ]
    },
    {
     "data": {
      "image/png": "[encoded data removed]",
      "text/plain": [
       "<Figure size 1700x800 with 6 Axes>"
      ]
     },
     "metadata": {},
     "output_type": "display_data"
    }
   ],
   "source": [
    "# Plot formating\n",
    "plt.rcParams.update({\n",
    "    \"text.usetex\": True,\n",
    "    \"font.family\": \"lmodern\",\n",
    "    'font.size': 16.0,\n",
    "})\n",
    "def plot_var(var, varname):\n",
    "    plt.plot(fd.xarray, \n",
    "             var[:,fd.iycenter,fd.izcenter], \n",
    "             label=varname)  \n",
    "    plt.xlabel('x')\n",
    "    plt.grid()\n",
    "    plt.legend(loc=3)\n",
    "    print(\" *****************************************************\")\n",
    "    \n",
    "\n",
    "plt.figure(figsize=(17, 8))\n",
    "plt.subplot(231)\n",
    "print(\" -  alpha was part of the input data\")\n",
    "plot_var(rel[\"alpha\"], r'$\\alpha$')\n",
    "\n",
    "plt.subplot(232)\n",
    "print(\" - Calculations for rho_n\")\n",
    "plot_var(rel[\"rho_n\"], \n",
    "         r'$\\rho^{\\{n\\}} = T_{\\mu\\nu}n^{\\mu}n^{\\nu}$')\n",
    "\n",
    "plt.subplot(233)\n",
    "print(\" - Calculations for press_n\")\n",
    "plot_var(rel[\"press_n\"],  \n",
    "         r'$p^{\\{n\\}} = T_{\\mu\\nu}\\gamma^{\\mu\\nu} / 3$')\n",
    "\n",
    "plt.subplot(234)\n",
    "print(\" - Calculations for s_RicciS\")\n",
    "plot_var(rel[\"s_RicciS\"], r'${}^{(3)}R$')\n",
    "\n",
    "plt.subplot(235)\n",
    "print(\" - Calculations for null_ray_exp\")\n",
    "plot_var(rel[\"null_ray_exp\"][0], r'$\\Theta_{out}$')\n",
    "plt.semilogy(fd.xarray, \n",
    "             -rel[\"null_ray_exp\"][1][:,fd.iycenter,fd.izcenter], \n",
    "             linestyle='--', label=r'$-\\Theta_{in}$')\n",
    "plt.legend(loc=3)\n",
    "\n",
    "plt.subplot(236)\n",
    "print(\" - Calculations for Kretschmann\")\n",
    "plot_var(rel[\"Kretschmann\"], \n",
    "         r'$K = {R^{\\alpha\\beta}}_{\\mu\\nu} {R_{\\alpha\\beta}}^{\\mu\\nu}$')\n"
   ]
  },
  {
   "cell_type": "code",
   "execution_count": 5,
   "id": "1d67bc10",
   "metadata": {},
   "outputs": [],
   "source": [
    "del param, fd, rel # for new demonstration"
   ]
  },
  {
   "cell_type": "markdown",
   "id": "ee11518a",
   "metadata": {},
   "source": [
    "# In depth demonstration"
   ]
  },
  {
   "cell_type": "markdown",
   "id": "0bb06402",
   "metadata": {},
   "source": [
    "## Documentation"
   ]
  },
  {
   "cell_type": "markdown",
   "id": "8beb5e69",
   "metadata": {},
   "source": [
    "All functions are documented, and you can access it with the help() function."
   ]
  },
  {
   "cell_type": "code",
   "execution_count": 6,
   "id": "025cb700",
   "metadata": {
    "scrolled": true
   },
   "outputs": [
    {
     "name": "stdout",
     "output_type": "stream",
     "text": [
      "Help on function freeze_data in module aurel.core:\n",
      "\n",
      "freeze_data(self)\n",
      "    Freeze the data dictionary to prevent cache removal.\n",
      "\n",
      "---\n",
      "Help on function Ktrace in module aurel.core:\n",
      "\n",
      "Ktrace(self)\n",
      "    $K = \\gamma^{ij}K_{ij}$ Trace of extrinsic curvature\n",
      "\n",
      "---\n",
      "Help on function s_covd in module aurel.core:\n",
      "\n",
      "s_covd(self, f, indexing)\n",
      "    Spatial covariant derivative of a 3D tensor of rank 0, 1 or 2.\n",
      "\n",
      "    Covariant derivative with respects to the spatial metric.\n",
      "\n",
      "    Parameters\n",
      "    ----------\n",
      "    f : (..., Nx, Ny, Nz) array_like\n",
      "        Tensor of rank 0, 1 or 2. The first indices are the spatial ones.\n",
      "    indexing : str\n",
      "        '' for scalar,\n",
      "        'u' for upper index, 'd' for down index,\n",
      "        'uu' for two upper indices, 'dd' for two down indices,\n",
      "        'ud' for one upper and one down index\n",
      "\n",
      "    Returns\n",
      "    -------\n",
      "    (3, ..., Nx, Ny, Nz) array_like\n",
      "\n"
     ]
    }
   ],
   "source": [
    "help(aurel.AurelCore.freeze_data)\n",
    "print('---')\n",
    "help(aurel.AurelCore.Ktrace)\n",
    "print('---')\n",
    "help(aurel.AurelCore.s_covd)"
   ]
  },
  {
   "cell_type": "markdown",
   "id": "4b4107c4",
   "metadata": {},
   "source": [
    "## Grid and finite difference setup"
   ]
  },
  {
   "cell_type": "markdown",
   "id": "81d81fcf",
   "metadata": {},
   "source": [
    "AurelCore takes as input the FiniteDifference class that defines the grid and will be used to calculate spatial derivatives."
   ]
  },
  {
   "cell_type": "code",
   "execution_count": 7,
   "id": "6b39298d",
   "metadata": {},
   "outputs": [
    {
     "name": "stdout",
     "output_type": "stream",
     "text": [
      "4th order finite difference schemes are defined\n"
     ]
    }
   ],
   "source": [
    "# == Parameters\n",
    "\n",
    "L = 10 # Data grid size\n",
    "N = 64 # Number of data points per side\n",
    "dx = L / N # Elementary grid size\n",
    "# If you are running this on your own laptop and don't want the \n",
    "# computation to take too much time, you should make N smaller. \n",
    "# (But keep in mind that the accuracy increases as N increases)\n",
    "\n",
    "# aurel is able to work with a rectangular grid of arbitrary size \n",
    "# and number of points so each side of the grid can be different\n",
    "param = {\n",
    "    'Nx': N,\n",
    "    'Ny': N,\n",
    "    'Nz': N,\n",
    "    'xmin': - L / 2,\n",
    "    'ymin': - L / 2,\n",
    "    'zmin': - L / 2,\n",
    "    'dx': dx,\n",
    "    'dy': dx,\n",
    "    'dz': dx,\n",
    "}\n",
    "\n",
    "# == Finite Difference class\n",
    "fd = aurel.FiniteDifference(\n",
    "    param, \n",
    "    boundary = 'no boundary',\n",
    "    # 'no boundary' is the default option, \n",
    "    # it calculates derivatives along edges using a combination of \n",
    "    # backward, centered and forward difference schemes\n",
    "    # 'periodic' and 'symmetric' are also available\n",
    "    # careful, if f is periodic, that does not mean dxf is periodic\n",
    "    fd_order = 4\n",
    "    # 4th order schemes are the default option,\n",
    "    # but 6th and 8th order schemes are also available\n",
    "    )"
   ]
  },
  {
   "cell_type": "markdown",
   "id": "c1a38d88",
   "metadata": {},
   "source": [
    "There are a couple useful variables that are defined in the initialization:\n",
    " - fd.xarray, fd.yarray, fd.zarray: These are each 1D numpy arrays of the corresponding Cartesian coordinate\n",
    " - fd.x, fd.y, fd.z: These are each 3D numpy arrays of the corresponding Cartesian coordinate\n",
    " - fd.r, fd.phi (azimuth), fd.theta (inclination): These are each 3D numpy arrays of the corresponding Spherical coordinate\n",
    " - fd.cartesian_coords, fd.spherical_coords: These are lists of the previously listed coordinates\n",
    " - fd.ixcenter, fd.iycenter, fd.izcenter: These are each ints of the index of the grid position closest to the origin of the grid (x=0, y=0, z=0).\n",
    "\n",
    "These are useful for plotting but also for generating analytical data. Furthermore, the FiniteDifference class functions can be used independently to calculate spatial derivatives. \n",
    "\n",
    "FiniteDifference is defined outside of the AurelCore class, because all calculations in AurelCore are valid for a fixed time, while FiniteDifference is valid for all times.\n",
    "So for multiple timesteps, the Aurel class should be redefined for each.\n",
    "The timesteps can then be treated independently in parallel."
   ]
  },
  {
   "cell_type": "markdown",
   "id": "f1184e57",
   "metadata": {},
   "source": [
    "## aurel: Automatic Relativity"
   ]
  },
  {
   "cell_type": "code",
   "execution_count": 8,
   "id": "ff70a4e2",
   "metadata": {},
   "outputs": [
    {
     "data": {
      "text/latex": [
       "Setting Cosmological constant $\\Lambda$ to 0.0, if not then redefine AurelCore.Lambda"
      ],
      "text/plain": [
       "<IPython.core.display.Latex object>"
      ]
     },
     "metadata": {},
     "output_type": "display_data"
    }
   ],
   "source": [
    "# == Aurel class\n",
    "rel = aurel.AurelCore(\n",
    "    fd,\n",
    "    verbose = True # Default\n",
    ")"
   ]
  },
  {
   "cell_type": "code",
   "execution_count": 9,
   "id": "bca102e3",
   "metadata": {},
   "outputs": [
    {
     "name": "stdout",
     "output_type": "stream",
     "text": [
      "[]\n",
      "['gxx', 'gxy', 'gxz', 'gyy', 'gyz', 'gzz', 'gammadown3', 'gammaup3', 'dtgammaup3', 'gammadet', 'gammadown4', 'gammaup4', 'kxx', 'kxy', 'kxz', 'kyy', 'kyz', 'kzz', 'Kdown3', 'Kup3', 'Ktrace', 'Adown3', 'Aup3', 'A2', 'alpha', 'dtalpha', 'betaup3', 'dtbetaup3', 'betadown3', 'betamag', 'nup4', 'ndown4', 'gdown4', 'gup4', 'gdet', 'null_ray_exp', 'rho0', 'press', 'eps', 'rho', 'enthalpy', 'w_lorentz', 'velup3', 'uup0', 'uup3', 'uup4', 'udown3', 'udown4', 'hdown4', 'hmixed4', 'hup4', 'Tdown4', 'rho_n', 'fluxup3_n', 'fluxdown3_n', 'angmomup3_n', 'angmomdown3_n', 'Stressup3_n', 'Stressdown3_n', 'Stresstrace_n', 'press_n', 'anisotropic_press_down3_n', 'rho_n_fromHam', 'fluxup3_n_fromMom', 'conserved_D', 'conserved_E', 'conserved_Sdown4', 'conserved_Sdown3', 'conserved_Sup4', 'conserved_Sup3', 'dtconserved', 'st_covd_udown4', 'accelerationdown4', 'accelerationup4', 's_covd_udown4', 'thetadown4', 'theta', 'sheardown4', 'shear2', 'omegadown4', 'omega2', 's_RicciS_u', 's_Gamma_udd3', 's_Riemann_uddd3', 's_Riemann_down3', 's_Ricci_down3', 's_RicciS', 'st_Gamma_udd4', 'st_Riemann_uddd4', 'st_Riemann_down4', 'st_Riemann_uudd4', 'st_Ricci_down4', 'st_Ricci_down3', 'st_RicciS', 'Kretschmann', 'Hamiltonian', 'Hamiltonian_Escale', 'Momentumup3', 'Momentum_Escale', 'st_Weyl_down4', 'Weyl_Psi', 'Psi4_lm', 'Weyl_invariants', 'eweyl_u_down4', 'eweyl_n_down3', 'bweyl_u_down4', 'bweyl_n_down3']\n"
     ]
    }
   ],
   "source": [
    "# There are two main dictionnaries in aurel:\n",
    "print(list(rel.data.keys()))\n",
    "print(list(aurel.descriptions.keys()))"
   ]
  },
  {
   "cell_type": "markdown",
   "id": "3011e91f",
   "metadata": {},
   "source": [
    "As you can see, right now the AurelCore.data dictionnary is empty, so far we have not provided the spacetime or matter fields or asked for anything to be calculated.\n",
    "\n",
    "The au.descriptions dictionnary lists all variables that aurel knows how to handle and calculate, and gives the corresponding discriptive documentation. To compute a variable, you can either call its method directly or access it like a dictionary key.\n",
    "\n",
    "Taking an example with Ktrace, the trace of the extrinsic curvature, this variable can be called in two ways:\n",
    " - AurelCore.Ktrace() this is calling the function that calculates that variable, then directly returns it\n",
    " - AurelCore[\"Ktrace\"] this is calling the variable in the AurelCore.data dictionary. If it is not available, then AurelCore.Ktrace() is called to complete the calculation and its output is stored in AurelCore.data and also provided to the user. Following this, should AurelCore[\"Ktrace\"] be called again, the variable is directly retrieved from the AurelCore.data dictionary without the need for further calculations.\n",
    "\n",
    "During these calcutions, many intermediary variables may be necessary. Thankfully, these are all listed in the desciptions dictionary. Therefore, if these are available in the data dictionary, these are provided directly, otherwise they will also be calculated.\n",
    "This creates a recursive automatic process managed by the __ getitem __ function to calculate all necessary variables until important variables that the user needs to define are reached.\n",
    "\n",
    "For the AurelCore class to complete it's calculation, necessary data includes:\n",
    " - gxx, gxy, gxz, gyy, gyz, gzz, spatial components of metric with indices down\n",
    " - kxx, kxy, kxz, kyy, kyz, kzz, spatial components of exrinsic curvature with indices down\n",
    " - rho0, rest-mass energy density\n",
    "\n",
    "As none of these have been input yet, the code will error"
   ]
  },
  {
   "cell_type": "code",
   "execution_count": 10,
   "id": "acbcf06b",
   "metadata": {},
   "outputs": [],
   "source": [
    "# print(np.mean(rel[\"Ktrace\"]))\n",
    "# >> ValueError: 'kxx' is not defined. \n",
    "# Please define AurelCore.data['kxx'] = ... in the data dictionary."
   ]
  },
  {
   "cell_type": "markdown",
   "id": "e38fa935",
   "metadata": {},
   "source": [
    "We then need to provide these missing terms.\n",
    "Use the variable name as the key, and provide the variable as a numpy array with the appropriate data grid shape. "
   ]
  },
  {
   "cell_type": "markdown",
   "id": "4d0c8d5e",
   "metadata": {},
   "source": [
    "## Minkowski metric"
   ]
  },
  {
   "cell_type": "code",
   "execution_count": 11,
   "id": "c195545e",
   "metadata": {},
   "outputs": [
    {
     "data": {
      "text/latex": [
       "Calculated gammadown3: $\\gamma_{ij}$ Spatial metric with spatial indices down"
      ],
      "text/plain": [
       "<IPython.core.display.Latex object>"
      ]
     },
     "metadata": {},
     "output_type": "display_data"
    },
    {
     "data": {
      "text/latex": [
       "Calculated gammadet: $\\gamma$ Determinant of spatial metric"
      ],
      "text/plain": [
       "<IPython.core.display.Latex object>"
      ]
     },
     "metadata": {},
     "output_type": "display_data"
    },
    {
     "name": "stdout",
     "output_type": "stream",
     "text": [
      " *** Determinant of the spatial metric:  1.0\n"
     ]
    },
    {
     "data": {
      "text/latex": [
       "I assume $\\alpha=1$, if not then please define AurelCore.data['alpha'] = ... "
      ],
      "text/plain": [
       "<IPython.core.display.Latex object>"
      ]
     },
     "metadata": {},
     "output_type": "display_data"
    },
    {
     "data": {
      "text/latex": [
       "Calculated alpha: $\\alpha$ Lapse (need to input or I assume =1)"
      ],
      "text/plain": [
       "<IPython.core.display.Latex object>"
      ]
     },
     "metadata": {},
     "output_type": "display_data"
    },
    {
     "data": {
      "text/latex": [
       "I assume $\\beta^i=0$, if not then please define AurelCore.data['betaup3'] = ... "
      ],
      "text/plain": [
       "<IPython.core.display.Latex object>"
      ]
     },
     "metadata": {},
     "output_type": "display_data"
    },
    {
     "data": {
      "text/latex": [
       "Calculated betaup3: $\\beta^{i}$ Shift vector with spatial indices up (need to input or I assume =0)"
      ],
      "text/plain": [
       "<IPython.core.display.Latex object>"
      ]
     },
     "metadata": {},
     "output_type": "display_data"
    },
    {
     "data": {
      "text/latex": [
       "Calculated betadown3: $\\beta_{i}$ Shift vector with spatial indices down"
      ],
      "text/plain": [
       "<IPython.core.display.Latex object>"
      ]
     },
     "metadata": {},
     "output_type": "display_data"
    },
    {
     "data": {
      "text/latex": [
       "Calculated gdown4: $g_{\\mu\\nu}$ Spacetime metric with spacetime indices down"
      ],
      "text/plain": [
       "<IPython.core.display.Latex object>"
      ]
     },
     "metadata": {},
     "output_type": "display_data"
    },
    {
     "data": {
      "text/latex": [
       "Calculated gdet: $g$ Determinant of spacetime metric"
      ],
      "text/plain": [
       "<IPython.core.display.Latex object>"
      ]
     },
     "metadata": {},
     "output_type": "display_data"
    },
    {
     "name": "stdout",
     "output_type": "stream",
     "text": [
      " *** Determinant of the spacetime metric:  -1.0\n"
     ]
    },
    {
     "data": {
      "text/latex": [
       "Calculated Kdown3: $K_{ij}$ Extrinsic curvature with spatial indices down"
      ],
      "text/plain": [
       "<IPython.core.display.Latex object>"
      ]
     },
     "metadata": {},
     "output_type": "display_data"
    },
    {
     "data": {
      "text/latex": [
       "Calculated gammaup3: $\\gamma^{ij}$ Spatial metric with spatial indices up"
      ],
      "text/plain": [
       "<IPython.core.display.Latex object>"
      ]
     },
     "metadata": {},
     "output_type": "display_data"
    },
    {
     "data": {
      "text/latex": [
       "Calculated Ktrace: $K = \\gamma^{ij}K_{ij}$ Trace of extrinsic curvature"
      ],
      "text/plain": [
       "<IPython.core.display.Latex object>"
      ]
     },
     "metadata": {},
     "output_type": "display_data"
    },
    {
     "name": "stdout",
     "output_type": "stream",
     "text": [
      " *** Trace of the extrinsic curvature:  0.0\n"
     ]
    }
   ],
   "source": [
    "# metric\n",
    "rel.data[\"gxx\"] = np.ones_like(fd.x) \n",
    "# or np.ones((Nx, Ny, Nz)) or np.ones(rel.data_shape)\n",
    "rel.data[\"gxy\"] = np.zeros_like(fd.x)\n",
    "rel.data[\"gxz\"] = np.zeros_like(fd.x)\n",
    "rel.data[\"gyy\"] = np.ones_like(fd.x)\n",
    "rel.data[\"gyz\"] = np.zeros_like(fd.x)\n",
    "rel.data[\"gzz\"] = np.ones_like(fd.x)\n",
    "# extrinsic curvature\n",
    "rel.data[\"kxx\"] = np.zeros_like(fd.x)\n",
    "rel.data[\"kxy\"] = np.zeros_like(fd.x)\n",
    "rel.data[\"kxz\"] = np.zeros_like(fd.x)\n",
    "rel.data[\"kyy\"] = np.zeros_like(fd.x)\n",
    "rel.data[\"kyz\"] = np.zeros_like(fd.x)\n",
    "rel.data[\"kzz\"] = np.zeros_like(fd.x)\n",
    "# rest mass energy density\n",
    "rel.data[\"rho0\"] = np.zeros_like(fd.x)\n",
    "\n",
    "# with the spacetime and matter variables defined, \n",
    "# we can now calculate anything in aurel.descriptions:\n",
    "print(' *** Determinant of the spatial metric: ', \n",
    "      np.mean(rel[\"gammadet\"]))\n",
    "print(' *** Determinant of the spacetime metric: ', \n",
    "      np.mean(rel[\"gdet\"]))\n",
    "print(' *** Trace of the extrinsic curvature: ', \n",
    "      np.mean(rel[\"Ktrace\"]))"
   ]
  },
  {
   "cell_type": "markdown",
   "id": "c832582d",
   "metadata": {},
   "source": [
    "### Assumed variables"
   ]
  },
  {
   "cell_type": "markdown",
   "id": "7fd8afb3",
   "metadata": {},
   "source": [
    "You may notice with the verbose output we are informed that aurel makes certain assumptions:\n",
    " - $\\Lambda = 0$, the Cosmological constant, to change this do AurelCore.Lambda = ... before running calculations\n",
    " - $\\alpha = 1$, the lapse, key: alpha, to change this do AurelCore.data[\"alpha\"] = ... before running calculations\n",
    " - $\\partial_t \\alpha = 0$, the time derivative of the lapse, key: dtalpha \n",
    " - $\\beta^i = 0$, the shift vector with spatial indices up, key: betaup3\n",
    " - $\\partial_t \\beta^i = 0$, the time derivative of the shift vector with spatial indices up, key: dtbetaup3\n",
    " - $p = 0$, the fluid pressure, key: press\n",
    " - $\\epsilon = 0$, the fluid specific internal energy, key: eps\n",
    " - $W = 1$, the Lorentz factor, key: w_lorentz\n",
    " - $v^i = 0$, the Eulerian fluid three velocity with spatial indices up, key: velup3\n",
    "\n",
    "This is to reduce the number of variable the user has to handle."
   ]
  },
  {
   "cell_type": "markdown",
   "id": "73e122d0",
   "metadata": {},
   "source": [
    "## Harvey Tsoubelis metric"
   ]
  },
  {
   "cell_type": "markdown",
   "id": "fdf86b57",
   "metadata": {},
   "source": [
    "Now let us use a more interesting spacetime, a number of different analytical spacetimes can be found in the solutions folder. Here we use the Harvey Tsoubelis solution that corresponds to a vacuum plane wave solution.\n",
    "\n",
    "Should you want to do numerical calculations from an analytical spacetime, this can be done by directly providing the corresponding numpy arrays, as was done for the Minkowski example. Or you can create a python file for your specific solution and call it to pass the generated data to AurelCore.data as was done in the Conformally flat example and in the Harvey Tsoubelis example below."
   ]
  },
  {
   "cell_type": "code",
   "execution_count": 12,
   "id": "7449fde1",
   "metadata": {},
   "outputs": [
    {
     "data": {
      "text/latex": [
       "Setting Cosmological constant $\\Lambda$ to 0.0, if not then redefine AurelCore.Lambda"
      ],
      "text/plain": [
       "<IPython.core.display.Latex object>"
      ]
     },
     "metadata": {},
     "output_type": "display_data"
    }
   ],
   "source": [
    "# We can use the same grid as before so we keep param and fd \n",
    "# but AurelCore needs to be redefined for this example\n",
    "del rel\n",
    "rel = aurel.AurelCore(fd) "
   ]
  },
  {
   "cell_type": "code",
   "execution_count": 13,
   "id": "02085961",
   "metadata": {},
   "outputs": [],
   "source": [
    "from aurel.solutions import Harvey_Tsoubelis as sol\n",
    "# This module generates numerical data for the \n",
    "# analytical Harvey-Tsoubelis solution\n",
    "# The spacetime and matter variables are defined in the file \n",
    "# as functions that depend on the grid coordinates\n",
    "\n",
    "# define the coordinates used\n",
    "t = 2\n",
    "x, y, z = fd.cartesian_coords\n",
    "\n",
    "# Update the AurelCore.data dictionnary to include \n",
    "# the spacetime and matter solution\n",
    "rel.data[\"gammadown3\"] = sol.gammadown3(t, x, y, z) \n",
    "# this is a (3, 3, Nx, Ny, Nz) numpy.array\n",
    "rel.data[\"Kdown3\"] = sol.Kdown3(t, x, y, z)\n",
    "# this is a (3, 3, Nx, Ny, Nz) numpy.array\n",
    "rel.data[\"Tdown4\"] = sol.Tdown4(t, x, y, z)\n",
    "# this is a (4, 4, Nx, Ny, Nz) numpy.array\n",
    "rel.data[\"uup4\"] = sol.uup4(t, x, y, z)\n",
    "# this is a (4, 4, Nx, Ny, Nz) numpy.array\n",
    "rel.freeze_data() \n",
    "# freeze the data to not delete it in cache cleanup"
   ]
  },
  {
   "cell_type": "markdown",
   "id": "82615902",
   "metadata": {},
   "source": [
    "Notice here we directly passed, gammadown3 instead of gxx, gxy, gxz, ... and Tdown4 instead of rho0.\n",
    "This is because the automatic recursive process will only go down to what it needs for the specific calculation requested."
   ]
  },
  {
   "cell_type": "markdown",
   "id": "566d7d39",
   "metadata": {},
   "source": [
    "### Weyl Scalars and Petrov Classification"
   ]
  },
  {
   "cell_type": "code",
   "execution_count": 14,
   "id": "3b1d4062",
   "metadata": {},
   "outputs": [
    {
     "data": {
      "text/latex": [
       "I assume $\\alpha=1$, if not then please define AurelCore.data['alpha'] = ... "
      ],
      "text/plain": [
       "<IPython.core.display.Latex object>"
      ]
     },
     "metadata": {},
     "output_type": "display_data"
    },
    {
     "data": {
      "text/latex": [
       "Calculated alpha: $\\alpha$ Lapse (need to input or I assume =1)"
      ],
      "text/plain": [
       "<IPython.core.display.Latex object>"
      ]
     },
     "metadata": {},
     "output_type": "display_data"
    },
    {
     "data": {
      "text/latex": [
       "I assume $\\beta^i=0$, if not then please define AurelCore.data['betaup3'] = ... "
      ],
      "text/plain": [
       "<IPython.core.display.Latex object>"
      ]
     },
     "metadata": {},
     "output_type": "display_data"
    },
    {
     "data": {
      "text/latex": [
       "Calculated betaup3: $\\beta^{i}$ Shift vector with spatial indices up (need to input or I assume =0)"
      ],
      "text/plain": [
       "<IPython.core.display.Latex object>"
      ]
     },
     "metadata": {},
     "output_type": "display_data"
    },
    {
     "data": {
      "text/latex": [
       "Calculated betadown3: $\\beta_{i}$ Shift vector with spatial indices down"
      ],
      "text/plain": [
       "<IPython.core.display.Latex object>"
      ]
     },
     "metadata": {},
     "output_type": "display_data"
    },
    {
     "data": {
      "text/latex": [
       "Calculated gdown4: $g_{\\mu\\nu}$ Spacetime metric with spacetime indices down"
      ],
      "text/plain": [
       "<IPython.core.display.Latex object>"
      ]
     },
     "metadata": {},
     "output_type": "display_data"
    },
    {
     "data": {
      "text/latex": [
       "Calculated gdet: $g$ Determinant of spacetime metric"
      ],
      "text/plain": [
       "<IPython.core.display.Latex object>"
      ]
     },
     "metadata": {},
     "output_type": "display_data"
    },
    {
     "data": {
      "text/latex": [
       "Calculated gammadet: $\\gamma$ Determinant of spatial metric"
      ],
      "text/plain": [
       "<IPython.core.display.Latex object>"
      ]
     },
     "metadata": {},
     "output_type": "display_data"
    },
    {
     "data": {
      "text/latex": [
       "Calculated gammaup3: $\\gamma^{ij}$ Spatial metric with spatial indices up"
      ],
      "text/plain": [
       "<IPython.core.display.Latex object>"
      ]
     },
     "metadata": {},
     "output_type": "display_data"
    },
    {
     "data": {
      "text/latex": [
       "Calculated gup4: $g^{\\mu\\nu}$ Spacetime metric with spacetime indices up"
      ],
      "text/plain": [
       "<IPython.core.display.Latex object>"
      ]
     },
     "metadata": {},
     "output_type": "display_data"
    },
    {
     "data": {
      "text/latex": [
       "Calculated ndown4: $n_{\\mu}$ Timelike vector normal to the spatial metric with spacetime indices down"
      ],
      "text/plain": [
       "<IPython.core.display.Latex object>"
      ]
     },
     "metadata": {},
     "output_type": "display_data"
    },
    {
     "data": {
      "text/latex": [
       "Calculated nup4: $n^{\\mu}$ Timelike vector normal to the spatial metric with spacetime indices up"
      ],
      "text/plain": [
       "<IPython.core.display.Latex object>"
      ]
     },
     "metadata": {},
     "output_type": "display_data"
    },
    {
     "data": {
      "text/latex": [
       "Calculated s_Gamma_udd3: ${}^{(3)}{\\Gamma^{k}}_{ij}$ Christoffel symbols of spatial metric with mixed spatial indices"
      ],
      "text/plain": [
       "<IPython.core.display.Latex object>"
      ]
     },
     "metadata": {},
     "output_type": "display_data"
    },
    {
     "data": {
      "text/latex": [
       "Calculated s_Ricci_down3: ${}^{(3)}R_{ij}$ Ricci tensor of spatial metric with spatial indices down"
      ],
      "text/plain": [
       "<IPython.core.display.Latex object>"
      ]
     },
     "metadata": {},
     "output_type": "display_data"
    },
    {
     "data": {
      "text/latex": [
       "Calculated Ktrace: $K = \\gamma^{ij}K_{ij}$ Trace of extrinsic curvature"
      ],
      "text/plain": [
       "<IPython.core.display.Latex object>"
      ]
     },
     "metadata": {},
     "output_type": "display_data"
    },
    {
     "data": {
      "text/latex": [
       "Calculated s_RicciS: ${}^{(3)}R$ Ricci scalar of spatial metric"
      ],
      "text/plain": [
       "<IPython.core.display.Latex object>"
      ]
     },
     "metadata": {},
     "output_type": "display_data"
    },
    {
     "data": {
      "text/latex": [
       "Calculated Stresstrace_n: $S^{\\{n\\}}$ Trace of Stress tensor in the $n^\\mu$ frame"
      ],
      "text/plain": [
       "<IPython.core.display.Latex object>"
      ]
     },
     "metadata": {},
     "output_type": "display_data"
    },
    {
     "data": {
      "text/latex": [
       "Calculated eweyl_n_down3: $E^{\\{n\\}}_{ij}$ Electric part of the Weyl tensor on the hypersurface orthogonal to $n^{\\mu}$ with spatial indices down"
      ],
      "text/plain": [
       "<IPython.core.display.Latex object>"
      ]
     },
     "metadata": {},
     "output_type": "display_data"
    },
    {
     "data": {
      "text/latex": [
       "Calculated bweyl_n_down3: $B^{\\{n\\}}_{ij}$ Magnetic part of the Weyl tensor on the hypersurface orthogonal to $n^{\\mu}$ with spatial indices down"
      ],
      "text/plain": [
       "<IPython.core.display.Latex object>"
      ]
     },
     "metadata": {},
     "output_type": "display_data"
    },
    {
     "data": {
      "text/latex": [
       "Calculated st_Weyl_down4: $C_{\\alpha\\beta\\mu\\nu}$ Weyl tensor of spacetime metric with spacetime indices down"
      ],
      "text/plain": [
       "<IPython.core.display.Latex object>"
      ]
     },
     "metadata": {},
     "output_type": "display_data"
    },
    {
     "data": {
      "text/latex": [
       "Calculated Weyl_Psi: $\\Psi_0, \\; \\Psi_1, \\; \\Psi_2, \\; \\Psi_3, \\; \\Psi_4$ List of Weyl scalars for an null vector base defined with AurelCore.tetrad_to_use"
      ],
      "text/plain": [
       "<IPython.core.display.Latex object>"
      ]
     },
     "metadata": {},
     "output_type": "display_data"
    },
    {
     "name": "stdout",
     "output_type": "stream",
     "text": [
      "mean(abs(Psi_0)) =  -0.056854304  + i( 0.00043375778 )\n",
      "mean(abs(Psi_1)) =  0.00036388863  + i( 0.0005091321 )\n",
      "mean(abs(Psi_2)) =  0.0011930849  + i( -0.00489712 )\n",
      "mean(abs(Psi_3)) =  -8.006629e-05  + i( -0.0001327365 )\n",
      "mean(abs(Psi_4)) =  -0.04428654  + i( 0.009394549 )\n"
     ]
    }
   ],
   "source": [
    "for i in range(5):\n",
    "    Psi = fd.cutoffmask2(rel[\"Weyl_Psi\"][i])\n",
    "    print('mean(abs(Psi_{})) = '.format(i), \n",
    "          np.mean(np.real(Psi)), \n",
    "          ' + i(', np.mean(np.imag(Psi)), ')')"
   ]
  },
  {
   "cell_type": "code",
   "execution_count": 15,
   "id": "9b9c35cf",
   "metadata": {},
   "outputs": [
    {
     "name": "stdout",
     "output_type": "stream",
     "text": [
      "Help on method cutoffmask2 in module aurel.finitedifference:\n",
      "\n",
      "cutoffmask2(f) method of aurel.finitedifference.FiniteDifference instance\n",
      "    Remove boundary points, for when FDs were applied twice.\n",
      "\n"
     ]
    }
   ],
   "source": [
    "# Notice that here I'm applying the FiniteDifference.cutoffmask function \n",
    "# before taking the mean.\n",
    "help(fd.cutoffmask2)\n",
    "# The backward and forward finite difference schemes \n",
    "# slightly underperform compared to the centered one, \n",
    "# so that is why I remove those before taking the mean."
   ]
  },
  {
   "cell_type": "code",
   "execution_count": 16,
   "id": "6afedc73",
   "metadata": {},
   "outputs": [],
   "source": [
    "# By default, the Weyl scalars are computed with the \n",
    "# quasi-Kinnersley tetrad another tetrad is available \n",
    "# corresponding to the fluid and then x, y, and z directions\n",
    "# it can be accessed by setting the tetrad_to_use attribute\n",
    "del rel.data[\"Weyl_Psi\"], rel.last_accessed[\"Weyl_Psi\"]\n",
    "rel.tetrad_to_use = 'not Kinnersley'"
   ]
  },
  {
   "cell_type": "code",
   "execution_count": 17,
   "id": "70d77b1f",
   "metadata": {},
   "outputs": [
    {
     "data": {
      "text/latex": [
       "Calculated Weyl_Psi: $\\Psi_0, \\; \\Psi_1, \\; \\Psi_2, \\; \\Psi_3, \\; \\Psi_4$ List of Weyl scalars for an null vector base defined with AurelCore.tetrad_to_use"
      ],
      "text/plain": [
       "<IPython.core.display.Latex object>"
      ]
     },
     "metadata": {},
     "output_type": "display_data"
    },
    {
     "data": {
      "text/latex": [
       "CLEAN-UP: Cleaning up cache after 20 calculations..."
      ],
      "text/plain": [
       "<IPython.core.display.Latex object>"
      ]
     },
     "metadata": {},
     "output_type": "display_data"
    },
    {
     "data": {
      "text/latex": [
       "CLEAN-UP: data size before cleanup: 76.01 MB"
      ],
      "text/plain": [
       "<IPython.core.display.Latex object>"
      ]
     },
     "metadata": {},
     "output_type": "display_data"
    },
    {
     "data": {
      "text/latex": [
       "CLEAN-UP: Removed 0 items"
      ],
      "text/plain": [
       "<IPython.core.display.Latex object>"
      ]
     },
     "metadata": {},
     "output_type": "display_data"
    },
    {
     "data": {
      "text/latex": [
       "CLEAN-UP: data size after cleanup: 76.01 MB"
      ],
      "text/plain": [
       "<IPython.core.display.Latex object>"
      ]
     },
     "metadata": {},
     "output_type": "display_data"
    },
    {
     "name": "stdout",
     "output_type": "stream",
     "text": [
      "mean(abs(Psi_0)) =  0.2499896  + i( -2.7545595e-05 )\n",
      "mean(abs(Psi_1)) =  -5.0490246e-07  + i( -1.9817096e-06 )\n",
      "mean(abs(Psi_2)) =  8.333375e-06  + i( -1.2509656e-05 )\n",
      "mean(abs(Psi_3)) =  4.4611056e-07  + i( -1.9551424e-06 )\n",
      "mean(abs(Psi_4)) =  -4.9920574e-05  + i( -7.415963e-06 )\n"
     ]
    }
   ],
   "source": [
    "for i in range(5):\n",
    "    Psi = fd.cutoffmask2(rel[\"Weyl_Psi\"][i])\n",
    "    print('mean(abs(Psi_{})) = '.format(i), \n",
    "          np.mean(np.real(Psi)), \n",
    "          ' + i(', np.mean(np.imag(Psi)), ')')"
   ]
  },
  {
   "cell_type": "markdown",
   "id": "3d431878",
   "metadata": {},
   "source": [
    "In this case this tetrad provides the null principal directions in Newmann-Penrose's formalism. Where \n",
    "$\\Psi_0 = t^{-2}$ (and we previously defined t = 2).\n",
    "\n",
    "However, while two sets of tetrads are available in this code, frame rotations to find the null principal directions are not performed.\n",
    "\n",
    "We can further check the Petrov classification by computing the Weyl invariants:"
   ]
  },
  {
   "cell_type": "code",
   "execution_count": 18,
   "id": "1e96e68c",
   "metadata": {},
   "outputs": [
    {
     "data": {
      "text/latex": [
       "WARNING: I'm not switching Psi0 and Psi4 here, so the invariants are not correct if Psi4 = 0.Same for Psi1 and Psi3."
      ],
      "text/plain": [
       "<IPython.core.display.Latex object>"
      ]
     },
     "metadata": {},
     "output_type": "display_data"
    },
    {
     "data": {
      "text/latex": [
       "Calculated Weyl_invariants: $I, \\; J, \\; L, \\; K, \\; N$ Dictionary of Weyl invariants"
      ],
      "text/plain": [
       "<IPython.core.display.Latex object>"
      ]
     },
     "metadata": {},
     "output_type": "display_data"
    },
    {
     "name": "stdout",
     "output_type": "stream",
     "text": [
      "I = 1.2614314e-05\n",
      "J = 2.8787842e-10\n",
      "L = 1.1518276e-09\n",
      "K = 8.729282e-14\n",
      "N = 3.2321907e-14\n"
     ]
    }
   ],
   "source": [
    "for i in ['I', 'J', 'L', 'K', 'N']:\n",
    "    invar = fd.cutoffmask2(rel[\"Weyl_invariants\"][i])\n",
    "    print(i, '=', np.mean(abs(invar)))"
   ]
  },
  {
   "cell_type": "markdown",
   "id": "e969f7a7",
   "metadata": {},
   "source": [
    "All invariants are numerical zero, their value decreasing as the scheme converges, and we have seen $\\Psi_0 \\neq 0$ so $C_{\\alpha\\beta\\mu\\nu} \\neq 0$ (so the spacetime is not conformally flat). Therefore this spacetime is of Petrov type N. We can check this with the electric and magnetic parts of the Weyl tensor as $E^2 = B^2 = 1/(4t^4)$. With $E^2 = \\frac{1}{2}E^{ij}E_{ij}$."
   ]
  },
  {
   "cell_type": "code",
   "execution_count": 19,
   "id": "96deeab0",
   "metadata": {},
   "outputs": [
    {
     "name": "stdout",
     "output_type": "stream",
     "text": [
      "E^2 = 0.015614164\n",
      "B^2 = 0.015625\n"
     ]
    }
   ],
   "source": [
    "print('E^2 =', np.mean(fd.cutoffmask2(\n",
    "    rel.magnitude3(rel[\"eweyl_n_down3\"]))))\n",
    "print('B^2 =', np.mean(fd.cutoffmask2(\n",
    "    rel.magnitude3(rel[\"bweyl_n_down3\"]))))"
   ]
  },
  {
   "cell_type": "markdown",
   "id": "aca2bdad",
   "metadata": {},
   "source": [
    "### Cache management"
   ]
  },
  {
   "cell_type": "markdown",
   "id": "00d613a5",
   "metadata": {},
   "source": [
    "Notice that aurel went through a cleanup cache process. \n",
    "Indeed during the many calculations, AurelCore.data can become quite large. \n",
    "So after **AurelCore.clear_cache_every_nbr_calc** (= 20 default) number of calculation, or when it exceeds **AurelCore.memory_threshold_inGB** (= 4 default), **AurelCore.cleanup_cache** removes variables based on how heavy and old they are. \n",
    "\n",
    "To protect certain variables, the **AurelCore.var_importance** dictionarry weights the variable's strain, so a variable that should never be removed is then AurelCore.var_importance[varname] = 0.0.\n",
    "\n",
    "The **AurelCore.freeze()** function now takes meaning as this takes all the variables currently defined in AurelCore.data and updates their var_importance to never be considered strainious to deal with, and so they are protected to never be deleted in the cleanup_cache operation."
   ]
  },
  {
   "cell_type": "markdown",
   "id": "08d88d53",
   "metadata": {},
   "source": [
    "### Hope this helps!\n",
    "### Now for an example working with simulation data, see the tov_ET notebook"
   ]
  },
  {
   "cell_type": "code",
   "execution_count": null,
   "id": "f37256b2",
   "metadata": {},
   "outputs": [],
   "source": []
  }
 ],
 "metadata": {
  "kernelspec": {
   "display_name": "Python 3",
   "language": "python",
   "name": "python3"
  },
  "language_info": {
   "codemirror_mode": {
    "name": "ipython",
    "version": 3
   },
   "file_extension": ".py",
   "mimetype": "text/x-python",
   "name": "python",
   "nbconvert_exporter": "python",
   "pygments_lexer": "ipython3",
   "version": "3.12.4"
  }
 },
 "nbformat": 4,
 "nbformat_minor": 5
}
